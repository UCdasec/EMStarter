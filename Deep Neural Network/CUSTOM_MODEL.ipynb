{
 "cells": [
  {
   "cell_type": "code",
   "execution_count": 1,
   "id": "7fe79525",
   "metadata": {},
   "outputs": [],
   "source": [
    "import numpy as np\n",
    "from numpy import asarray\n",
    "from numpy import savetxt\n",
    "from numpy import genfromtxt\n",
    "import pandas as pd\n",
    "import plotly.express as px\n",
    "pd.options.plotting.backend = \"plotly\"\n",
    "import matplotlib.pyplot as plt\n",
    "import time\n",
    "\n",
    "import tensorflow as tf\n",
    "from tensorflow.keras.metrics import BinaryAccuracy,FalsePositives,FalseNegatives,TruePositives,TrueNegatives,Precision,Recall,AUC\n",
    "from tensorflow.keras.callbacks import ModelCheckpoint, EarlyStopping\n",
    "from tensorflow import keras\n",
    "from tensorflow.keras import Sequential\n",
    "from tensorflow.keras.layers import Conv2D, Flatten, Dense\n",
    "from tensorflow.keras.callbacks import ReduceLROnPlateau\n",
    " \n",
    "import sklearn\n",
    "from sklearn.model_selection import KFold, cross_val_score, train_test_split\n",
    "from sklearn.metrics import confusion_matrix, ConfusionMatrixDisplay,roc_curve\n",
    "from sklearn import preprocessing\n"
   ]
  },
  {
   "cell_type": "code",
   "execution_count": 2,
   "id": "0fafae00",
   "metadata": {},
   "outputs": [
    {
     "name": "stdout",
     "output_type": "stream",
     "text": [
      "1 Physical GPUs, 1 Logical GPU\n"
     ]
    }
   ],
   "source": [
    "\n",
    "gpus = tf.config.list_physical_devices('GPU')\n",
    "if gpus:\n",
    "    # Restrict TensorFlow to only use the first GPU\n",
    "    try:\n",
    "        tf.config.set_visible_devices(gpus[0], 'GPU')\n",
    "        logical_gpus = tf.config.list_logical_devices('GPU')\n",
    "        print(len(gpus), \"Physical GPUs,\", len(logical_gpus), \"Logical GPU\")\n",
    "    except RuntimeError as e:\n",
    "        # Visible devices must be set before GPUs have been initialized\n",
    "        print(e)"
   ]
  },
  {
   "cell_type": "code",
   "execution_count": 3,
   "id": "0d33ad54",
   "metadata": {},
   "outputs": [
    {
     "name": "stdout",
     "output_type": "stream",
     "text": [
      "Shape:  (51772, 1000)\n",
      "Shape:  (51772,)\n"
     ]
    }
   ],
   "source": [
    "# ## LOAD TRAIN DATA\n",
    "# X = genfromtxt('C:/Users/NSF/Desktop/boyang work/final/XMEGA/DATASETS/ethan_mabon_capture/labels/traces_train_1000_20_2.csv', delimiter=',')\n",
    "# Y = genfromtxt('C:/Users/NSF/Desktop/boyang work/final/XMEGA/DATASETS/ethan_mabon_capture/labels/label_train_1000_20_2.csv', delimiter=',')\n",
    "# Y=np.asarray(Y).astype('float32')\n",
    "# print(\"Shape: \",np.shape(X))\n",
    "# print(\"Shape: \",np.shape(Y))\n",
    "## LOAD TRAIN DATA\n",
    "X = genfromtxt('C:/Users/NSF/Desktop/boyang work/final/XMEGA/DATASETS/self_capture/traces_train_1000_20_2.csv', delimiter=',')\n",
    "Y = genfromtxt('C:/Users/NSF/Desktop/boyang work/final/XMEGA/DATASETS/self_capture/label_train_1000_20_2.csv', delimiter=',')\n",
    "Y=np.asarray(Y).astype('float32')\n",
    "print(\"Shape: \",np.shape(X))\n",
    "print(\"Shape: \",np.shape(Y))"
   ]
  },
  {
   "cell_type": "code",
   "execution_count": 4,
   "id": "e15afc31",
   "metadata": {},
   "outputs": [
    {
     "data": {
      "text/plain": [
       "0.0    49804\n",
       "1.0     1968\n",
       "dtype: int64"
      ]
     },
     "execution_count": 4,
     "metadata": {},
     "output_type": "execute_result"
    }
   ],
   "source": [
    "#Ditrubution of Data in Training data\n",
    "pd.value_counts(np.array(Y))"
   ]
  },
  {
   "cell_type": "code",
   "execution_count": 5,
   "id": "781912fc",
   "metadata": {},
   "outputs": [],
   "source": [
    "# NORMALIZING Train data\n",
    "X[np.isinf(X)] = 0\n",
    "Y[np.isinf(Y)] = 0\n",
    "for i in range(np.shape(X)[0]):\n",
    "    X[i]=preprocessing.normalize([X[i]])"
   ]
  },
  {
   "cell_type": "code",
   "execution_count": 6,
   "id": "f1a3dd92",
   "metadata": {},
   "outputs": [
    {
     "name": "stdout",
     "output_type": "stream",
     "text": [
      "Shape/ Traces TRAIN:  (46594, 1000)\n",
      "Shape/ Label TRAIN (46594,)\n",
      "Shape/ Traces VAL:  (5178, 1000)\n",
      "Shape/ Label VAL (5178,)\n"
     ]
    }
   ],
   "source": [
    "# Spliting Train data with 10% for validation.\n",
    "X_train, X_val, y_train, y_val = train_test_split(X,Y,test_size=0.1,random_state=42)\n",
    "\n",
    "print(\"Shape/ Traces TRAIN: \",np.shape(X_train))\n",
    "print(\"Shape/ Label TRAIN\",np.shape(y_train))\n",
    "print(\"Shape/ Traces VAL: \",np.shape(X_val))\n",
    "print(\"Shape/ Label VAL\",np.shape(y_val))"
   ]
  },
  {
   "cell_type": "code",
   "execution_count": 7,
   "id": "4b51f9f6",
   "metadata": {},
   "outputs": [],
   "source": [
    "y_train=tf.keras.utils.to_categorical(\n",
    "    y_train, num_classes=2, dtype='float32'\n",
    ")\n",
    "y_val=tf.keras.utils.to_categorical(\n",
    "    y_val, num_classes=2, dtype='float32'\n",
    ")"
   ]
  },
  {
   "cell_type": "code",
   "execution_count": 59,
   "id": "d4680d76",
   "metadata": {},
   "outputs": [],
   "source": [
    "# #Loading Test Data\n",
    "# X_test = genfromtxt('C:/Users/NSF/Desktop/boyang work/final/XMEGA/DATASETS/ethan_mabon_capture/labels/traces_test_1000_20_20.csv', delimiter=',')\n",
    "# Y = genfromtxt('C:/Users/NSF/Desktop/boyang work/final/XMEGA/DATASETS/ethan_mabon_capture/labels/label_test_1000_20_20.csv', delimiter=',')\n",
    "#Loading Test Data\n",
    "X_test = genfromtxt('C:/Users/NSF/Desktop/boyang work/final/XMEGA/DATASETS/self_capture/traces_train_1000_20_20.csv', delimiter=',')\n",
    "Y = genfromtxt('C:/Users/NSF/Desktop/boyang work/final/XMEGA/DATASETS/self_capture/label_train_1000_20_20.csv', delimiter=',')"
   ]
  },
  {
   "cell_type": "code",
   "execution_count": 60,
   "id": "9763cee5",
   "metadata": {},
   "outputs": [],
   "source": [
    "# NORMALIZING Test data\n",
    "X_test[np.isinf(X_test)] = 0\n",
    "Y[np.isinf(Y)] = 0\n",
    "for i in range(np.shape(X_test)[0]):\n",
    "    X_test[i]=preprocessing.normalize([X_test[i]])\n",
    "y_test=np.asarray(Y).astype('float32')\n",
    "y_test=tf.keras.utils.to_categorical(\n",
    "    y_test, num_classes=2, dtype='float32'\n",
    ")"
   ]
  },
  {
   "cell_type": "code",
   "execution_count": 61,
   "id": "072276d7",
   "metadata": {},
   "outputs": [
    {
     "name": "stdout",
     "output_type": "stream",
     "text": [
      "Shape/ Traces TEST:  (312455, 1000)\n",
      "Shape/ Label TEST (312455, 2)\n"
     ]
    }
   ],
   "source": [
    "# Test Data Structure:\n",
    "print(\"Shape/ Traces TEST: \",np.shape(X_test))\n",
    "print(\"Shape/ Label TEST\",np.shape(y_test))"
   ]
  },
  {
   "cell_type": "code",
   "execution_count": 11,
   "id": "6fecab6d",
   "metadata": {},
   "outputs": [],
   "source": [
    "#Dynamic Model Definition\n",
    "\n",
    "model=Sequential()\n",
    "model.add(Dense(np.shape(X)[1],input_dim=len(X[0,:]),activation='relu'))\n",
    "model.add(Dense(128,activation='relu'))\n",
    "model.add(Dense(64,activation='relu'))\n",
    "model.add(Dense(64,activation='relu'))\n",
    "model.add(Dense(2,activation='softmax'))\n",
    "#model.add(Dense(2,activation='sigmoid'))\n"
   ]
  },
  {
   "cell_type": "code",
   "execution_count": 12,
   "id": "f58a774b",
   "metadata": {},
   "outputs": [
    {
     "name": "stdout",
     "output_type": "stream",
     "text": [
      "Model: \"sequential\"\n",
      "_________________________________________________________________\n",
      " Layer (type)                Output Shape              Param #   \n",
      "=================================================================\n",
      " dense (Dense)               (None, 1000)              1001000   \n",
      "                                                                 \n",
      " dense_1 (Dense)             (None, 128)               128128    \n",
      "                                                                 \n",
      " dense_2 (Dense)             (None, 64)                8256      \n",
      "                                                                 \n",
      " dense_3 (Dense)             (None, 64)                4160      \n",
      "                                                                 \n",
      " dense_4 (Dense)             (None, 2)                 130       \n",
      "                                                                 \n",
      "=================================================================\n",
      "Total params: 1,141,674\n",
      "Trainable params: 1,141,674\n",
      "Non-trainable params: 0\n",
      "_________________________________________________________________\n"
     ]
    }
   ],
   "source": [
    "#Compile Model\n",
    "model.summary()"
   ]
  },
  {
   "cell_type": "code",
   "execution_count": 13,
   "id": "f198dd5f",
   "metadata": {},
   "outputs": [],
   "source": [
    "#Model Metrics\n",
    "metrics=[TruePositives(name='tp'),TrueNegatives(name='tn'),FalsePositives(name='fp'),FalseNegatives(name='fn'),BinaryAccuracy(name='Binary_Accuracy'),Precision(name=\"Precision\"),Recall(name='Recall'),AUC(name='AUC')]"
   ]
  },
  {
   "cell_type": "code",
   "execution_count": 14,
   "id": "1249ce7c",
   "metadata": {},
   "outputs": [],
   "source": [
    "save_file_name=\"best_model.hdf5\""
   ]
  },
  {
   "cell_type": "code",
   "execution_count": 15,
   "id": "96209437",
   "metadata": {},
   "outputs": [],
   "source": [
    "#Training checkpoints\n",
    "checkpointer = ModelCheckpoint(save_file_name,\n",
    "                               monitor='Binary_Accuracy',\n",
    "                               verbose=1,\n",
    "                               # save_weights_only=True,\n",
    "                               # save_best_only=True,\n",
    "                               mode='max')"
   ]
  },
  {
   "cell_type": "code",
   "execution_count": 16,
   "id": "70825e53",
   "metadata": {},
   "outputs": [],
   "source": [
    "#Dynamic Learing Rate on a Platue\n",
    "reduce_lr = ReduceLROnPlateau(monitor='val_loss', factor=0.2,\n",
    "                              patience=5, min_lr=3e-7)"
   ]
  },
  {
   "cell_type": "code",
   "execution_count": 17,
   "id": "1464f037",
   "metadata": {},
   "outputs": [],
   "source": [
    "#Callbacks\n",
    "callbacks = [checkpointer,reduce_lr]"
   ]
  },
  {
   "cell_type": "code",
   "execution_count": 18,
   "id": "a1b338ac",
   "metadata": {},
   "outputs": [],
   "source": [
    "opt = keras.optimizers.Adam()\n",
    "model.compile(loss='BinaryCrossentropy',optimizer=opt,metrics=metrics)"
   ]
  },
  {
   "cell_type": "code",
   "execution_count": 19,
   "id": "3bf163f8",
   "metadata": {
    "scrolled": true
   },
   "outputs": [
    {
     "name": "stdout",
     "output_type": "stream",
     "text": [
      "Epoch 1/140\n",
      "918/932 [============================>.] - ETA: 0s - loss: 0.1030 - tp: 44161.0000 - tn: 44161.0000 - fp: 1739.0000 - fn: 1739.0000 - Binary_Accuracy: 0.9621 - Precision: 0.9621 - Recall: 0.9621 - AUC: 0.9902\n",
      "Epoch 1: saving model to best_model.hdf5\n",
      "932/932 [==============================] - 6s 4ms/step - loss: 0.1022 - tp: 44841.0000 - tn: 44841.0000 - fp: 1753.0000 - fn: 1753.0000 - Binary_Accuracy: 0.9624 - Precision: 0.9624 - Recall: 0.9624 - AUC: 0.9903 - val_loss: 0.0536 - val_tp: 5053.0000 - val_tn: 5053.0000 - val_fp: 125.0000 - val_fn: 125.0000 - val_Binary_Accuracy: 0.9759 - val_Precision: 0.9759 - val_Recall: 0.9759 - val_AUC: 0.9972 - lr: 0.0010\n",
      "Epoch 2/140\n",
      "927/932 [============================>.] - ETA: 0s - loss: 0.0229 - tp: 45962.0000 - tn: 45962.0000 - fp: 388.0000 - fn: 388.0000 - Binary_Accuracy: 0.9916 - Precision: 0.9916 - Recall: 0.9916 - AUC: 0.9983\n",
      "Epoch 2: saving model to best_model.hdf5\n",
      "932/932 [==============================] - 3s 4ms/step - loss: 0.0228 - tp: 46205.0000 - tn: 46205.0000 - fp: 389.0000 - fn: 389.0000 - Binary_Accuracy: 0.9917 - Precision: 0.9917 - Recall: 0.9917 - AUC: 0.9983 - val_loss: 0.0157 - val_tp: 5148.0000 - val_tn: 5148.0000 - val_fp: 30.0000 - val_fn: 30.0000 - val_Binary_Accuracy: 0.9942 - val_Precision: 0.9942 - val_Recall: 0.9942 - val_AUC: 0.9986 - lr: 0.0010\n",
      "Epoch 3/140\n",
      "919/932 [============================>.] - ETA: 0s - loss: 0.0076 - tp: 45843.0000 - tn: 45843.0000 - fp: 107.0000 - fn: 107.0000 - Binary_Accuracy: 0.9977 - Precision: 0.9977 - Recall: 0.9977 - AUC: 0.9993\n",
      "Epoch 3: saving model to best_model.hdf5\n",
      "932/932 [==============================] - 3s 4ms/step - loss: 0.0075 - tp: 46487.0000 - tn: 46487.0000 - fp: 107.0000 - fn: 107.0000 - Binary_Accuracy: 0.9977 - Precision: 0.9977 - Recall: 0.9977 - AUC: 0.9993 - val_loss: 0.0037 - val_tp: 5171.0000 - val_tn: 5171.0000 - val_fp: 7.0000 - val_fn: 7.0000 - val_Binary_Accuracy: 0.9986 - val_Precision: 0.9986 - val_Recall: 0.9986 - val_AUC: 1.0000 - lr: 0.0010\n",
      "Epoch 4/140\n",
      "931/932 [============================>.] - ETA: 0s - loss: 0.0057 - tp: 46463.0000 - tn: 46463.0000 - fp: 87.0000 - fn: 87.0000 - Binary_Accuracy: 0.9981 - Precision: 0.9981 - Recall: 0.9981 - AUC: 0.9995\n",
      "Epoch 4: saving model to best_model.hdf5\n",
      "932/932 [==============================] - 3s 4ms/step - loss: 0.0057 - tp: 46507.0000 - tn: 46507.0000 - fp: 87.0000 - fn: 87.0000 - Binary_Accuracy: 0.9981 - Precision: 0.9981 - Recall: 0.9981 - AUC: 0.9995 - val_loss: 0.0033 - val_tp: 5174.0000 - val_tn: 5174.0000 - val_fp: 4.0000 - val_fn: 4.0000 - val_Binary_Accuracy: 0.9992 - val_Precision: 0.9992 - val_Recall: 0.9992 - val_AUC: 0.9998 - lr: 0.0010\n",
      "Epoch 5/140\n",
      "924/932 [============================>.] - ETA: 0s - loss: 0.0045 - tp: 46135.0000 - tn: 46135.0000 - fp: 65.0000 - fn: 65.0000 - Binary_Accuracy: 0.9986 - Precision: 0.9986 - Recall: 0.9986 - AUC: 0.9996\n",
      "Epoch 5: saving model to best_model.hdf5\n",
      "932/932 [==============================] - 4s 4ms/step - loss: 0.0045 - tp: 46528.0000 - tn: 46528.0000 - fp: 66.0000 - fn: 66.0000 - Binary_Accuracy: 0.9986 - Precision: 0.9986 - Recall: 0.9986 - AUC: 0.9996 - val_loss: 0.0062 - val_tp: 5170.0000 - val_tn: 5170.0000 - val_fp: 8.0000 - val_fn: 8.0000 - val_Binary_Accuracy: 0.9985 - val_Precision: 0.9985 - val_Recall: 0.9985 - val_AUC: 0.9992 - lr: 0.0010\n",
      "Epoch 6/140\n",
      "922/932 [============================>.] - ETA: 0s - loss: 0.0029 - tp: 46057.0000 - tn: 46057.0000 - fp: 43.0000 - fn: 43.0000 - Binary_Accuracy: 0.9991 - Precision: 0.9991 - Recall: 0.9991 - AUC: 0.9997\n",
      "Epoch 6: saving model to best_model.hdf5\n",
      "932/932 [==============================] - 4s 4ms/step - loss: 0.0029 - tp: 46551.0000 - tn: 46551.0000 - fp: 43.0000 - fn: 43.0000 - Binary_Accuracy: 0.9991 - Precision: 0.9991 - Recall: 0.9991 - AUC: 0.9997 - val_loss: 7.7419e-04 - val_tp: 5177.0000 - val_tn: 5177.0000 - val_fp: 1.0000 - val_fn: 1.0000 - val_Binary_Accuracy: 0.9998 - val_Precision: 0.9998 - val_Recall: 0.9998 - val_AUC: 1.0000 - lr: 0.0010\n",
      "Epoch 7/140\n",
      "924/932 [============================>.] - ETA: 0s - loss: 0.0033 - tp: 46147.0000 - tn: 46147.0000 - fp: 53.0000 - fn: 53.0000 - Binary_Accuracy: 0.9989 - Precision: 0.9989 - Recall: 0.9989 - AUC: 0.9997\n",
      "Epoch 7: saving model to best_model.hdf5\n",
      "932/932 [==============================] - 4s 4ms/step - loss: 0.0033 - tp: 46540.0000 - tn: 46540.0000 - fp: 54.0000 - fn: 54.0000 - Binary_Accuracy: 0.9988 - Precision: 0.9988 - Recall: 0.9988 - AUC: 0.9997 - val_loss: 0.0049 - val_tp: 5172.0000 - val_tn: 5172.0000 - val_fp: 6.0000 - val_fn: 6.0000 - val_Binary_Accuracy: 0.9988 - val_Precision: 0.9988 - val_Recall: 0.9988 - val_AUC: 0.9996 - lr: 0.0010\n",
      "Epoch 8/140\n",
      "924/932 [============================>.] - ETA: 0s - loss: 0.0031 - tp: 46161.0000 - tn: 46161.0000 - fp: 39.0000 - fn: 39.0000 - Binary_Accuracy: 0.9992 - Precision: 0.9992 - Recall: 0.9992 - AUC: 0.9998\n",
      "Epoch 8: saving model to best_model.hdf5\n",
      "932/932 [==============================] - 3s 4ms/step - loss: 0.0030 - tp: 46555.0000 - tn: 46555.0000 - fp: 39.0000 - fn: 39.0000 - Binary_Accuracy: 0.9992 - Precision: 0.9992 - Recall: 0.9992 - AUC: 0.9998 - val_loss: 0.0038 - val_tp: 5168.0000 - val_tn: 5168.0000 - val_fp: 10.0000 - val_fn: 10.0000 - val_Binary_Accuracy: 0.9981 - val_Precision: 0.9981 - val_Recall: 0.9981 - val_AUC: 0.9998 - lr: 0.0010\n",
      "Epoch 9/140\n",
      "926/932 [============================>.] - ETA: 0s - loss: 0.0023 - tp: 46277.0000 - tn: 46277.0000 - fp: 23.0000 - fn: 23.0000 - Binary_Accuracy: 0.9995 - Precision: 0.9995 - Recall: 0.9995 - AUC: 0.9998\n",
      "Epoch 9: saving model to best_model.hdf5\n",
      "932/932 [==============================] - 3s 4ms/step - loss: 0.0023 - tp: 46571.0000 - tn: 46571.0000 - fp: 23.0000 - fn: 23.0000 - Binary_Accuracy: 0.9995 - Precision: 0.9995 - Recall: 0.9995 - AUC: 0.9998 - val_loss: 0.0027 - val_tp: 5174.0000 - val_tn: 5174.0000 - val_fp: 4.0000 - val_fn: 4.0000 - val_Binary_Accuracy: 0.9992 - val_Precision: 0.9992 - val_Recall: 0.9992 - val_AUC: 0.9996 - lr: 0.0010\n",
      "Epoch 10/140\n",
      "926/932 [============================>.] - ETA: 0s - loss: 0.0031 - tp: 46261.0000 - tn: 46261.0000 - fp: 39.0000 - fn: 39.0000 - Binary_Accuracy: 0.9992 - Precision: 0.9992 - Recall: 0.9992 - AUC: 0.9997\n",
      "Epoch 10: saving model to best_model.hdf5\n",
      "932/932 [==============================] - 3s 4ms/step - loss: 0.0032 - tp: 46554.0000 - tn: 46554.0000 - fp: 40.0000 - fn: 40.0000 - Binary_Accuracy: 0.9991 - Precision: 0.9991 - Recall: 0.9991 - AUC: 0.9997 - val_loss: 0.0243 - val_tp: 5156.0000 - val_tn: 5156.0000 - val_fp: 22.0000 - val_fn: 22.0000 - val_Binary_Accuracy: 0.9958 - val_Precision: 0.9958 - val_Recall: 0.9958 - val_AUC: 0.9973 - lr: 0.0010\n",
      "Epoch 11/140\n",
      "919/932 [============================>.] - ETA: 0s - loss: 0.0028 - tp: 45910.0000 - tn: 45910.0000 - fp: 40.0000 - fn: 40.0000 - Binary_Accuracy: 0.9991 - Precision: 0.9991 - Recall: 0.9991 - AUC: 0.9998\n",
      "Epoch 11: saving model to best_model.hdf5\n",
      "932/932 [==============================] - 3s 4ms/step - loss: 0.0028 - tp: 46554.0000 - tn: 46554.0000 - fp: 40.0000 - fn: 40.0000 - Binary_Accuracy: 0.9991 - Precision: 0.9991 - Recall: 0.9991 - AUC: 0.9998 - val_loss: 0.0060 - val_tp: 5168.0000 - val_tn: 5168.0000 - val_fp: 10.0000 - val_fn: 10.0000 - val_Binary_Accuracy: 0.9981 - val_Precision: 0.9981 - val_Recall: 0.9981 - val_AUC: 0.9992 - lr: 0.0010\n",
      "Epoch 12/140\n",
      "929/932 [============================>.] - ETA: 0s - loss: 7.5462e-04 - tp: 46440.0000 - tn: 46440.0000 - fp: 10.0000 - fn: 10.0000 - Binary_Accuracy: 0.9998 - Precision: 0.9998 - Recall: 0.9998 - AUC: 1.0000\n",
      "Epoch 12: saving model to best_model.hdf5\n",
      "932/932 [==============================] - 3s 4ms/step - loss: 7.5243e-04 - tp: 46584.0000 - tn: 46584.0000 - fp: 10.0000 - fn: 10.0000 - Binary_Accuracy: 0.9998 - Precision: 0.9998 - Recall: 0.9998 - AUC: 1.0000 - val_loss: 0.0025 - val_tp: 5174.0000 - val_tn: 5174.0000 - val_fp: 4.0000 - val_fn: 4.0000 - val_Binary_Accuracy: 0.9992 - val_Precision: 0.9992 - val_Recall: 0.9992 - val_AUC: 0.9996 - lr: 2.0000e-04\n",
      "Epoch 13/140\n"
     ]
    },
    {
     "name": "stdout",
     "output_type": "stream",
     "text": [
      "920/932 [============================>.] - ETA: 0s - loss: 4.1880e-05 - tp: 46000.0000 - tn: 46000.0000 - fp: 0.0000e+00 - fn: 0.0000e+00 - Binary_Accuracy: 1.0000 - Precision: 1.0000 - Recall: 1.0000 - AUC: 1.0000\n",
      "Epoch 13: saving model to best_model.hdf5\n",
      "932/932 [==============================] - 3s 4ms/step - loss: 4.1531e-05 - tp: 46594.0000 - tn: 46594.0000 - fp: 0.0000e+00 - fn: 0.0000e+00 - Binary_Accuracy: 1.0000 - Precision: 1.0000 - Recall: 1.0000 - AUC: 1.0000 - val_loss: 0.0022 - val_tp: 5174.0000 - val_tn: 5174.0000 - val_fp: 4.0000 - val_fn: 4.0000 - val_Binary_Accuracy: 0.9992 - val_Precision: 0.9992 - val_Recall: 0.9992 - val_AUC: 0.9994 - lr: 2.0000e-04\n",
      "Epoch 14/140\n",
      "927/932 [============================>.] - ETA: 0s - loss: 1.4361e-05 - tp: 46350.0000 - tn: 46350.0000 - fp: 0.0000e+00 - fn: 0.0000e+00 - Binary_Accuracy: 1.0000 - Precision: 1.0000 - Recall: 1.0000 - AUC: 1.0000\n",
      "Epoch 14: saving model to best_model.hdf5\n",
      "932/932 [==============================] - 4s 4ms/step - loss: 1.4390e-05 - tp: 46594.0000 - tn: 46594.0000 - fp: 0.0000e+00 - fn: 0.0000e+00 - Binary_Accuracy: 1.0000 - Precision: 1.0000 - Recall: 1.0000 - AUC: 1.0000 - val_loss: 0.0029 - val_tp: 5174.0000 - val_tn: 5174.0000 - val_fp: 4.0000 - val_fn: 4.0000 - val_Binary_Accuracy: 0.9992 - val_Precision: 0.9992 - val_Recall: 0.9992 - val_AUC: 0.9994 - lr: 2.0000e-04\n",
      "Epoch 15/140\n",
      "926/932 [============================>.] - ETA: 0s - loss: 1.0304e-05 - tp: 46300.0000 - tn: 46300.0000 - fp: 0.0000e+00 - fn: 0.0000e+00 - Binary_Accuracy: 1.0000 - Precision: 1.0000 - Recall: 1.0000 - AUC: 1.0000\n",
      "Epoch 15: saving model to best_model.hdf5\n",
      "932/932 [==============================] - 3s 4ms/step - loss: 1.0274e-05 - tp: 46594.0000 - tn: 46594.0000 - fp: 0.0000e+00 - fn: 0.0000e+00 - Binary_Accuracy: 1.0000 - Precision: 1.0000 - Recall: 1.0000 - AUC: 1.0000 - val_loss: 0.0027 - val_tp: 5174.0000 - val_tn: 5174.0000 - val_fp: 4.0000 - val_fn: 4.0000 - val_Binary_Accuracy: 0.9992 - val_Precision: 0.9992 - val_Recall: 0.9992 - val_AUC: 0.9994 - lr: 2.0000e-04\n",
      "Epoch 16/140\n",
      "917/932 [============================>.] - ETA: 0s - loss: 5.0629e-05 - tp: 45849.0000 - tn: 45849.0000 - fp: 1.0000 - fn: 1.0000 - Binary_Accuracy: 1.0000 - Precision: 1.0000 - Recall: 1.0000 - AUC: 1.0000\n",
      "Epoch 16: saving model to best_model.hdf5\n",
      "932/932 [==============================] - 3s 4ms/step - loss: 4.9835e-05 - tp: 46593.0000 - tn: 46593.0000 - fp: 1.0000 - fn: 1.0000 - Binary_Accuracy: 1.0000 - Precision: 1.0000 - Recall: 1.0000 - AUC: 1.0000 - val_loss: 0.0024 - val_tp: 5174.0000 - val_tn: 5174.0000 - val_fp: 4.0000 - val_fn: 4.0000 - val_Binary_Accuracy: 0.9992 - val_Precision: 0.9992 - val_Recall: 0.9992 - val_AUC: 0.9994 - lr: 2.0000e-04\n",
      "Epoch 17/140\n",
      "922/932 [============================>.] - ETA: 0s - loss: 4.2544e-05 - tp: 46099.0000 - tn: 46099.0000 - fp: 1.0000 - fn: 1.0000 - Binary_Accuracy: 1.0000 - Precision: 1.0000 - Recall: 1.0000 - AUC: 1.0000\n",
      "Epoch 17: saving model to best_model.hdf5\n",
      "932/932 [==============================] - 3s 4ms/step - loss: 4.2101e-05 - tp: 46593.0000 - tn: 46593.0000 - fp: 1.0000 - fn: 1.0000 - Binary_Accuracy: 1.0000 - Precision: 1.0000 - Recall: 1.0000 - AUC: 1.0000 - val_loss: 0.0029 - val_tp: 5174.0000 - val_tn: 5174.0000 - val_fp: 4.0000 - val_fn: 4.0000 - val_Binary_Accuracy: 0.9992 - val_Precision: 0.9992 - val_Recall: 0.9992 - val_AUC: 0.9994 - lr: 4.0000e-05\n",
      "Epoch 18/140\n",
      "931/932 [============================>.] - ETA: 0s - loss: 3.6136e-06 - tp: 46550.0000 - tn: 46550.0000 - fp: 0.0000e+00 - fn: 0.0000e+00 - Binary_Accuracy: 1.0000 - Precision: 1.0000 - Recall: 1.0000 - AUC: 1.0000\n",
      "Epoch 18: saving model to best_model.hdf5\n",
      "932/932 [==============================] - 4s 4ms/step - loss: 3.6347e-06 - tp: 46594.0000 - tn: 46594.0000 - fp: 0.0000e+00 - fn: 0.0000e+00 - Binary_Accuracy: 1.0000 - Precision: 1.0000 - Recall: 1.0000 - AUC: 1.0000 - val_loss: 0.0030 - val_tp: 5174.0000 - val_tn: 5174.0000 - val_fp: 4.0000 - val_fn: 4.0000 - val_Binary_Accuracy: 0.9992 - val_Precision: 0.9992 - val_Recall: 0.9992 - val_AUC: 0.9994 - lr: 4.0000e-05\n",
      "Epoch 19/140\n",
      "921/932 [============================>.] - ETA: 0s - loss: 2.3997e-06 - tp: 46050.0000 - tn: 46050.0000 - fp: 0.0000e+00 - fn: 0.0000e+00 - Binary_Accuracy: 1.0000 - Precision: 1.0000 - Recall: 1.0000 - AUC: 1.0000\n",
      "Epoch 19: saving model to best_model.hdf5\n",
      "932/932 [==============================] - 3s 4ms/step - loss: 2.3770e-06 - tp: 46594.0000 - tn: 46594.0000 - fp: 0.0000e+00 - fn: 0.0000e+00 - Binary_Accuracy: 1.0000 - Precision: 1.0000 - Recall: 1.0000 - AUC: 1.0000 - val_loss: 0.0031 - val_tp: 5174.0000 - val_tn: 5174.0000 - val_fp: 4.0000 - val_fn: 4.0000 - val_Binary_Accuracy: 0.9992 - val_Precision: 0.9992 - val_Recall: 0.9992 - val_AUC: 0.9994 - lr: 4.0000e-05\n",
      "Epoch 20/140\n",
      "919/932 [============================>.] - ETA: 0s - loss: 1.6499e-06 - tp: 45950.0000 - tn: 45950.0000 - fp: 0.0000e+00 - fn: 0.0000e+00 - Binary_Accuracy: 1.0000 - Precision: 1.0000 - Recall: 1.0000 - AUC: 1.0000\n",
      "Epoch 20: saving model to best_model.hdf5\n",
      "932/932 [==============================] - 3s 4ms/step - loss: 1.6438e-06 - tp: 46594.0000 - tn: 46594.0000 - fp: 0.0000e+00 - fn: 0.0000e+00 - Binary_Accuracy: 1.0000 - Precision: 1.0000 - Recall: 1.0000 - AUC: 1.0000 - val_loss: 0.0031 - val_tp: 5174.0000 - val_tn: 5174.0000 - val_fp: 4.0000 - val_fn: 4.0000 - val_Binary_Accuracy: 0.9992 - val_Precision: 0.9992 - val_Recall: 0.9992 - val_AUC: 0.9994 - lr: 4.0000e-05\n",
      "Epoch 21/140\n",
      "930/932 [============================>.] - ETA: 0s - loss: 1.1659e-06 - tp: 46500.0000 - tn: 46500.0000 - fp: 0.0000e+00 - fn: 0.0000e+00 - Binary_Accuracy: 1.0000 - Precision: 1.0000 - Recall: 1.0000 - AUC: 1.0000\n",
      "Epoch 21: saving model to best_model.hdf5\n",
      "932/932 [==============================] - 4s 4ms/step - loss: 1.1637e-06 - tp: 46594.0000 - tn: 46594.0000 - fp: 0.0000e+00 - fn: 0.0000e+00 - Binary_Accuracy: 1.0000 - Precision: 1.0000 - Recall: 1.0000 - AUC: 1.0000 - val_loss: 0.0032 - val_tp: 5174.0000 - val_tn: 5174.0000 - val_fp: 4.0000 - val_fn: 4.0000 - val_Binary_Accuracy: 0.9992 - val_Precision: 0.9992 - val_Recall: 0.9992 - val_AUC: 0.9992 - lr: 4.0000e-05\n",
      "Epoch 22/140\n",
      "928/932 [============================>.] - ETA: 0s - loss: 8.6896e-07 - tp: 46400.0000 - tn: 46400.0000 - fp: 0.0000e+00 - fn: 0.0000e+00 - Binary_Accuracy: 1.0000 - Precision: 1.0000 - Recall: 1.0000 - AUC: 1.0000\n",
      "Epoch 22: saving model to best_model.hdf5\n",
      "932/932 [==============================] - 4s 4ms/step - loss: 8.7707e-07 - tp: 46594.0000 - tn: 46594.0000 - fp: 0.0000e+00 - fn: 0.0000e+00 - Binary_Accuracy: 1.0000 - Precision: 1.0000 - Recall: 1.0000 - AUC: 1.0000 - val_loss: 0.0033 - val_tp: 5174.0000 - val_tn: 5174.0000 - val_fp: 4.0000 - val_fn: 4.0000 - val_Binary_Accuracy: 0.9992 - val_Precision: 0.9992 - val_Recall: 0.9992 - val_AUC: 0.9992 - lr: 8.0000e-06\n",
      "Epoch 23/140\n",
      "923/932 [============================>.] - ETA: 0s - loss: 6.7392e-07 - tp: 46150.0000 - tn: 46150.0000 - fp: 0.0000e+00 - fn: 0.0000e+00 - Binary_Accuracy: 1.0000 - Precision: 1.0000 - Recall: 1.0000 - AUC: 1.0000\n",
      "Epoch 23: saving model to best_model.hdf5\n",
      "932/932 [==============================] - 4s 4ms/step - loss: 7.9606e-07 - tp: 46594.0000 - tn: 46594.0000 - fp: 0.0000e+00 - fn: 0.0000e+00 - Binary_Accuracy: 1.0000 - Precision: 1.0000 - Recall: 1.0000 - AUC: 1.0000 - val_loss: 0.0033 - val_tp: 5174.0000 - val_tn: 5174.0000 - val_fp: 4.0000 - val_fn: 4.0000 - val_Binary_Accuracy: 0.9992 - val_Precision: 0.9992 - val_Recall: 0.9992 - val_AUC: 0.9992 - lr: 8.0000e-06\n",
      "Epoch 24/140\n",
      "928/932 [============================>.] - ETA: 0s - loss: 6.9846e-07 - tp: 46400.0000 - tn: 46400.0000 - fp: 0.0000e+00 - fn: 0.0000e+00 - Binary_Accuracy: 1.0000 - Precision: 1.0000 - Recall: 1.0000 - AUC: 1.0000\n",
      "Epoch 24: saving model to best_model.hdf5\n",
      "932/932 [==============================] - 4s 4ms/step - loss: 6.9770e-07 - tp: 46594.0000 - tn: 46594.0000 - fp: 0.0000e+00 - fn: 0.0000e+00 - Binary_Accuracy: 1.0000 - Precision: 1.0000 - Recall: 1.0000 - AUC: 1.0000 - val_loss: 0.0034 - val_tp: 5174.0000 - val_tn: 5174.0000 - val_fp: 4.0000 - val_fn: 4.0000 - val_Binary_Accuracy: 0.9992 - val_Precision: 0.9992 - val_Recall: 0.9992 - val_AUC: 0.9992 - lr: 8.0000e-06\n"
     ]
    },
    {
     "name": "stdout",
     "output_type": "stream",
     "text": [
      "Epoch 25/140\n",
      "925/932 [============================>.] - ETA: 0s - loss: 5.9970e-07 - tp: 46250.0000 - tn: 46250.0000 - fp: 0.0000e+00 - fn: 0.0000e+00 - Binary_Accuracy: 1.0000 - Precision: 1.0000 - Recall: 1.0000 - AUC: 1.0000\n",
      "Epoch 25: saving model to best_model.hdf5\n",
      "932/932 [==============================] - 3s 4ms/step - loss: 5.9660e-07 - tp: 46594.0000 - tn: 46594.0000 - fp: 0.0000e+00 - fn: 0.0000e+00 - Binary_Accuracy: 1.0000 - Precision: 1.0000 - Recall: 1.0000 - AUC: 1.0000 - val_loss: 0.0034 - val_tp: 5174.0000 - val_tn: 5174.0000 - val_fp: 4.0000 - val_fn: 4.0000 - val_Binary_Accuracy: 0.9992 - val_Precision: 0.9992 - val_Recall: 0.9992 - val_AUC: 0.9992 - lr: 8.0000e-06\n",
      "Epoch 26/140\n",
      "925/932 [============================>.] - ETA: 0s - loss: 4.9073e-07 - tp: 46250.0000 - tn: 46250.0000 - fp: 0.0000e+00 - fn: 0.0000e+00 - Binary_Accuracy: 1.0000 - Precision: 1.0000 - Recall: 1.0000 - AUC: 1.0000\n",
      "Epoch 26: saving model to best_model.hdf5\n",
      "932/932 [==============================] - 4s 4ms/step - loss: 4.8782e-07 - tp: 46594.0000 - tn: 46594.0000 - fp: 0.0000e+00 - fn: 0.0000e+00 - Binary_Accuracy: 1.0000 - Precision: 1.0000 - Recall: 1.0000 - AUC: 1.0000 - val_loss: 0.0035 - val_tp: 5174.0000 - val_tn: 5174.0000 - val_fp: 4.0000 - val_fn: 4.0000 - val_Binary_Accuracy: 0.9992 - val_Precision: 0.9992 - val_Recall: 0.9992 - val_AUC: 0.9992 - lr: 8.0000e-06\n",
      "Epoch 27/140\n",
      "919/932 [============================>.] - ETA: 0s - loss: 4.1298e-07 - tp: 45950.0000 - tn: 45950.0000 - fp: 0.0000e+00 - fn: 0.0000e+00 - Binary_Accuracy: 1.0000 - Precision: 1.0000 - Recall: 1.0000 - AUC: 1.0000\n",
      "Epoch 27: saving model to best_model.hdf5\n",
      "932/932 [==============================] - 4s 4ms/step - loss: 4.1280e-07 - tp: 46594.0000 - tn: 46594.0000 - fp: 0.0000e+00 - fn: 0.0000e+00 - Binary_Accuracy: 1.0000 - Precision: 1.0000 - Recall: 1.0000 - AUC: 1.0000 - val_loss: 0.0035 - val_tp: 5174.0000 - val_tn: 5174.0000 - val_fp: 4.0000 - val_fn: 4.0000 - val_Binary_Accuracy: 0.9992 - val_Precision: 0.9992 - val_Recall: 0.9992 - val_AUC: 0.9992 - lr: 1.6000e-06\n",
      "Epoch 28/140\n",
      "931/932 [============================>.] - ETA: 0s - loss: 3.9038e-07 - tp: 46550.0000 - tn: 46550.0000 - fp: 0.0000e+00 - fn: 0.0000e+00 - Binary_Accuracy: 1.0000 - Precision: 1.0000 - Recall: 1.0000 - AUC: 1.0000\n",
      "Epoch 28: saving model to best_model.hdf5\n",
      "932/932 [==============================] - 4s 4ms/step - loss: 3.9004e-07 - tp: 46594.0000 - tn: 46594.0000 - fp: 0.0000e+00 - fn: 0.0000e+00 - Binary_Accuracy: 1.0000 - Precision: 1.0000 - Recall: 1.0000 - AUC: 1.0000 - val_loss: 0.0035 - val_tp: 5174.0000 - val_tn: 5174.0000 - val_fp: 4.0000 - val_fn: 4.0000 - val_Binary_Accuracy: 0.9992 - val_Precision: 0.9992 - val_Recall: 0.9992 - val_AUC: 0.9992 - lr: 1.6000e-06\n",
      "Epoch 29/140\n",
      "922/932 [============================>.] - ETA: 0s - loss: 3.6467e-07 - tp: 46100.0000 - tn: 46100.0000 - fp: 0.0000e+00 - fn: 0.0000e+00 - Binary_Accuracy: 1.0000 - Precision: 1.0000 - Recall: 1.0000 - AUC: 1.0000\n",
      "Epoch 29: saving model to best_model.hdf5\n",
      "932/932 [==============================] - 4s 4ms/step - loss: 3.6520e-07 - tp: 46594.0000 - tn: 46594.0000 - fp: 0.0000e+00 - fn: 0.0000e+00 - Binary_Accuracy: 1.0000 - Precision: 1.0000 - Recall: 1.0000 - AUC: 1.0000 - val_loss: 0.0035 - val_tp: 5174.0000 - val_tn: 5174.0000 - val_fp: 4.0000 - val_fn: 4.0000 - val_Binary_Accuracy: 0.9992 - val_Precision: 0.9992 - val_Recall: 0.9992 - val_AUC: 0.9992 - lr: 1.6000e-06\n",
      "Epoch 30/140\n",
      "927/932 [============================>.] - ETA: 0s - loss: 3.4085e-07 - tp: 46350.0000 - tn: 46350.0000 - fp: 0.0000e+00 - fn: 0.0000e+00 - Binary_Accuracy: 1.0000 - Precision: 1.0000 - Recall: 1.0000 - AUC: 1.0000\n",
      "Epoch 30: saving model to best_model.hdf5\n",
      "932/932 [==============================] - 4s 4ms/step - loss: 3.3963e-07 - tp: 46594.0000 - tn: 46594.0000 - fp: 0.0000e+00 - fn: 0.0000e+00 - Binary_Accuracy: 1.0000 - Precision: 1.0000 - Recall: 1.0000 - AUC: 1.0000 - val_loss: 0.0035 - val_tp: 5174.0000 - val_tn: 5174.0000 - val_fp: 4.0000 - val_fn: 4.0000 - val_Binary_Accuracy: 0.9992 - val_Precision: 0.9992 - val_Recall: 0.9992 - val_AUC: 0.9992 - lr: 1.6000e-06\n",
      "Epoch 31/140\n",
      "924/932 [============================>.] - ETA: 0s - loss: 3.1373e-07 - tp: 46200.0000 - tn: 46200.0000 - fp: 0.0000e+00 - fn: 0.0000e+00 - Binary_Accuracy: 1.0000 - Precision: 1.0000 - Recall: 1.0000 - AUC: 1.0000\n",
      "Epoch 31: saving model to best_model.hdf5\n",
      "932/932 [==============================] - 4s 4ms/step - loss: 3.1387e-07 - tp: 46594.0000 - tn: 46594.0000 - fp: 0.0000e+00 - fn: 0.0000e+00 - Binary_Accuracy: 1.0000 - Precision: 1.0000 - Recall: 1.0000 - AUC: 1.0000 - val_loss: 0.0036 - val_tp: 5174.0000 - val_tn: 5174.0000 - val_fp: 4.0000 - val_fn: 4.0000 - val_Binary_Accuracy: 0.9992 - val_Precision: 0.9992 - val_Recall: 0.9992 - val_AUC: 0.9992 - lr: 1.6000e-06\n",
      "Epoch 32/140\n",
      "926/932 [============================>.] - ETA: 0s - loss: 2.9567e-07 - tp: 46300.0000 - tn: 46300.0000 - fp: 0.0000e+00 - fn: 0.0000e+00 - Binary_Accuracy: 1.0000 - Precision: 1.0000 - Recall: 1.0000 - AUC: 1.0000\n",
      "Epoch 32: saving model to best_model.hdf5\n",
      "932/932 [==============================] - 4s 4ms/step - loss: 2.9591e-07 - tp: 46594.0000 - tn: 46594.0000 - fp: 0.0000e+00 - fn: 0.0000e+00 - Binary_Accuracy: 1.0000 - Precision: 1.0000 - Recall: 1.0000 - AUC: 1.0000 - val_loss: 0.0036 - val_tp: 5174.0000 - val_tn: 5174.0000 - val_fp: 4.0000 - val_fn: 4.0000 - val_Binary_Accuracy: 0.9992 - val_Precision: 0.9992 - val_Recall: 0.9992 - val_AUC: 0.9992 - lr: 3.2000e-07\n",
      "Epoch 33/140\n",
      "921/932 [============================>.] - ETA: 0s - loss: 2.9234e-07 - tp: 46050.0000 - tn: 46050.0000 - fp: 0.0000e+00 - fn: 0.0000e+00 - Binary_Accuracy: 1.0000 - Precision: 1.0000 - Recall: 1.0000 - AUC: 1.0000\n",
      "Epoch 33: saving model to best_model.hdf5\n",
      "932/932 [==============================] - 4s 4ms/step - loss: 2.9115e-07 - tp: 46594.0000 - tn: 46594.0000 - fp: 0.0000e+00 - fn: 0.0000e+00 - Binary_Accuracy: 1.0000 - Precision: 1.0000 - Recall: 1.0000 - AUC: 1.0000 - val_loss: 0.0036 - val_tp: 5174.0000 - val_tn: 5174.0000 - val_fp: 4.0000 - val_fn: 4.0000 - val_Binary_Accuracy: 0.9992 - val_Precision: 0.9992 - val_Recall: 0.9992 - val_AUC: 0.9992 - lr: 3.2000e-07\n",
      "Epoch 34/140\n",
      "929/932 [============================>.] - ETA: 0s - loss: 2.8707e-07 - tp: 46450.0000 - tn: 46450.0000 - fp: 0.0000e+00 - fn: 0.0000e+00 - Binary_Accuracy: 1.0000 - Precision: 1.0000 - Recall: 1.0000 - AUC: 1.0000\n",
      "Epoch 34: saving model to best_model.hdf5\n",
      "932/932 [==============================] - 4s 4ms/step - loss: 2.8625e-07 - tp: 46594.0000 - tn: 46594.0000 - fp: 0.0000e+00 - fn: 0.0000e+00 - Binary_Accuracy: 1.0000 - Precision: 1.0000 - Recall: 1.0000 - AUC: 1.0000 - val_loss: 0.0036 - val_tp: 5174.0000 - val_tn: 5174.0000 - val_fp: 4.0000 - val_fn: 4.0000 - val_Binary_Accuracy: 0.9992 - val_Precision: 0.9992 - val_Recall: 0.9992 - val_AUC: 0.9992 - lr: 3.2000e-07\n",
      "Epoch 35/140\n",
      "923/932 [============================>.] - ETA: 0s - loss: 2.7418e-07 - tp: 46150.0000 - tn: 46150.0000 - fp: 0.0000e+00 - fn: 0.0000e+00 - Binary_Accuracy: 1.0000 - Precision: 1.0000 - Recall: 1.0000 - AUC: 1.0000\n",
      "Epoch 35: saving model to best_model.hdf5\n",
      "932/932 [==============================] - 4s 4ms/step - loss: 2.8130e-07 - tp: 46594.0000 - tn: 46594.0000 - fp: 0.0000e+00 - fn: 0.0000e+00 - Binary_Accuracy: 1.0000 - Precision: 1.0000 - Recall: 1.0000 - AUC: 1.0000 - val_loss: 0.0036 - val_tp: 5174.0000 - val_tn: 5174.0000 - val_fp: 4.0000 - val_fn: 4.0000 - val_Binary_Accuracy: 0.9992 - val_Precision: 0.9992 - val_Recall: 0.9992 - val_AUC: 0.9992 - lr: 3.2000e-07\n",
      "Epoch 36/140\n",
      "925/932 [============================>.] - ETA: 0s - loss: 2.7776e-07 - tp: 46250.0000 - tn: 46250.0000 - fp: 0.0000e+00 - fn: 0.0000e+00 - Binary_Accuracy: 1.0000 - Precision: 1.0000 - Recall: 1.0000 - AUC: 1.0000\n",
      "Epoch 36: saving model to best_model.hdf5\n",
      "932/932 [==============================] - 4s 4ms/step - loss: 2.7650e-07 - tp: 46594.0000 - tn: 46594.0000 - fp: 0.0000e+00 - fn: 0.0000e+00 - Binary_Accuracy: 1.0000 - Precision: 1.0000 - Recall: 1.0000 - AUC: 1.0000 - val_loss: 0.0036 - val_tp: 5174.0000 - val_tn: 5174.0000 - val_fp: 4.0000 - val_fn: 4.0000 - val_Binary_Accuracy: 0.9992 - val_Precision: 0.9992 - val_Recall: 0.9992 - val_AUC: 0.9992 - lr: 3.2000e-07\n"
     ]
    },
    {
     "name": "stdout",
     "output_type": "stream",
     "text": [
      "Epoch 37/140\n",
      "922/932 [============================>.] - ETA: 0s - loss: 2.7249e-07 - tp: 46100.0000 - tn: 46100.0000 - fp: 0.0000e+00 - fn: 0.0000e+00 - Binary_Accuracy: 1.0000 - Precision: 1.0000 - Recall: 1.0000 - AUC: 1.0000\n",
      "Epoch 37: saving model to best_model.hdf5\n",
      "932/932 [==============================] - 3s 4ms/step - loss: 2.7180e-07 - tp: 46594.0000 - tn: 46594.0000 - fp: 0.0000e+00 - fn: 0.0000e+00 - Binary_Accuracy: 1.0000 - Precision: 1.0000 - Recall: 1.0000 - AUC: 1.0000 - val_loss: 0.0036 - val_tp: 5174.0000 - val_tn: 5174.0000 - val_fp: 4.0000 - val_fn: 4.0000 - val_Binary_Accuracy: 0.9992 - val_Precision: 0.9992 - val_Recall: 0.9992 - val_AUC: 0.9992 - lr: 3.0000e-07\n",
      "Epoch 38/140\n",
      "919/932 [============================>.] - ETA: 0s - loss: 2.6727e-07 - tp: 45950.0000 - tn: 45950.0000 - fp: 0.0000e+00 - fn: 0.0000e+00 - Binary_Accuracy: 1.0000 - Precision: 1.0000 - Recall: 1.0000 - AUC: 1.0000\n",
      "Epoch 38: saving model to best_model.hdf5\n",
      "932/932 [==============================] - 3s 4ms/step - loss: 2.6741e-07 - tp: 46594.0000 - tn: 46594.0000 - fp: 0.0000e+00 - fn: 0.0000e+00 - Binary_Accuracy: 1.0000 - Precision: 1.0000 - Recall: 1.0000 - AUC: 1.0000 - val_loss: 0.0036 - val_tp: 5174.0000 - val_tn: 5174.0000 - val_fp: 4.0000 - val_fn: 4.0000 - val_Binary_Accuracy: 0.9992 - val_Precision: 0.9992 - val_Recall: 0.9992 - val_AUC: 0.9992 - lr: 3.0000e-07\n",
      "Epoch 39/140\n",
      "921/932 [============================>.] - ETA: 0s - loss: 2.6470e-07 - tp: 46050.0000 - tn: 46050.0000 - fp: 0.0000e+00 - fn: 0.0000e+00 - Binary_Accuracy: 1.0000 - Precision: 1.0000 - Recall: 1.0000 - AUC: 1.0000\n",
      "Epoch 39: saving model to best_model.hdf5\n",
      "932/932 [==============================] - 4s 4ms/step - loss: 2.6312e-07 - tp: 46594.0000 - tn: 46594.0000 - fp: 0.0000e+00 - fn: 0.0000e+00 - Binary_Accuracy: 1.0000 - Precision: 1.0000 - Recall: 1.0000 - AUC: 1.0000 - val_loss: 0.0036 - val_tp: 5174.0000 - val_tn: 5174.0000 - val_fp: 4.0000 - val_fn: 4.0000 - val_Binary_Accuracy: 0.9992 - val_Precision: 0.9992 - val_Recall: 0.9992 - val_AUC: 0.9992 - lr: 3.0000e-07\n",
      "Epoch 40/140\n",
      "928/932 [============================>.] - ETA: 0s - loss: 2.5993e-07 - tp: 46400.0000 - tn: 46400.0000 - fp: 0.0000e+00 - fn: 0.0000e+00 - Binary_Accuracy: 1.0000 - Precision: 1.0000 - Recall: 1.0000 - AUC: 1.0000\n",
      "Epoch 40: saving model to best_model.hdf5\n",
      "932/932 [==============================] - 4s 4ms/step - loss: 2.5916e-07 - tp: 46594.0000 - tn: 46594.0000 - fp: 0.0000e+00 - fn: 0.0000e+00 - Binary_Accuracy: 1.0000 - Precision: 1.0000 - Recall: 1.0000 - AUC: 1.0000 - val_loss: 0.0036 - val_tp: 5174.0000 - val_tn: 5174.0000 - val_fp: 4.0000 - val_fn: 4.0000 - val_Binary_Accuracy: 0.9992 - val_Precision: 0.9992 - val_Recall: 0.9992 - val_AUC: 0.9992 - lr: 3.0000e-07\n",
      "Epoch 41/140\n",
      "923/932 [============================>.] - ETA: 0s - loss: 2.5621e-07 - tp: 46150.0000 - tn: 46150.0000 - fp: 0.0000e+00 - fn: 0.0000e+00 - Binary_Accuracy: 1.0000 - Precision: 1.0000 - Recall: 1.0000 - AUC: 1.0000\n",
      "Epoch 41: saving model to best_model.hdf5\n",
      "932/932 [==============================] - 4s 4ms/step - loss: 2.5490e-07 - tp: 46594.0000 - tn: 46594.0000 - fp: 0.0000e+00 - fn: 0.0000e+00 - Binary_Accuracy: 1.0000 - Precision: 1.0000 - Recall: 1.0000 - AUC: 1.0000 - val_loss: 0.0036 - val_tp: 5174.0000 - val_tn: 5174.0000 - val_fp: 4.0000 - val_fn: 4.0000 - val_Binary_Accuracy: 0.9992 - val_Precision: 0.9992 - val_Recall: 0.9992 - val_AUC: 0.9992 - lr: 3.0000e-07\n",
      "Epoch 42/140\n",
      "922/932 [============================>.] - ETA: 0s - loss: 2.5230e-07 - tp: 46100.0000 - tn: 46100.0000 - fp: 0.0000e+00 - fn: 0.0000e+00 - Binary_Accuracy: 1.0000 - Precision: 1.0000 - Recall: 1.0000 - AUC: 1.0000\n",
      "Epoch 42: saving model to best_model.hdf5\n",
      "932/932 [==============================] - 4s 4ms/step - loss: 2.5064e-07 - tp: 46594.0000 - tn: 46594.0000 - fp: 0.0000e+00 - fn: 0.0000e+00 - Binary_Accuracy: 1.0000 - Precision: 1.0000 - Recall: 1.0000 - AUC: 1.0000 - val_loss: 0.0036 - val_tp: 5174.0000 - val_tn: 5174.0000 - val_fp: 4.0000 - val_fn: 4.0000 - val_Binary_Accuracy: 0.9992 - val_Precision: 0.9992 - val_Recall: 0.9992 - val_AUC: 0.9992 - lr: 3.0000e-07\n",
      "Epoch 43/140\n",
      "918/932 [============================>.] - ETA: 0s - loss: 2.4754e-07 - tp: 45900.0000 - tn: 45900.0000 - fp: 0.0000e+00 - fn: 0.0000e+00 - Binary_Accuracy: 1.0000 - Precision: 1.0000 - Recall: 1.0000 - AUC: 1.0000\n",
      "Epoch 43: saving model to best_model.hdf5\n",
      "932/932 [==============================] - 3s 4ms/step - loss: 2.4667e-07 - tp: 46594.0000 - tn: 46594.0000 - fp: 0.0000e+00 - fn: 0.0000e+00 - Binary_Accuracy: 1.0000 - Precision: 1.0000 - Recall: 1.0000 - AUC: 1.0000 - val_loss: 0.0036 - val_tp: 5174.0000 - val_tn: 5174.0000 - val_fp: 4.0000 - val_fn: 4.0000 - val_Binary_Accuracy: 0.9992 - val_Precision: 0.9992 - val_Recall: 0.9992 - val_AUC: 0.9992 - lr: 3.0000e-07\n",
      "Epoch 44/140\n",
      "919/932 [============================>.] - ETA: 0s - loss: 2.4380e-07 - tp: 45950.0000 - tn: 45950.0000 - fp: 0.0000e+00 - fn: 0.0000e+00 - Binary_Accuracy: 1.0000 - Precision: 1.0000 - Recall: 1.0000 - AUC: 1.0000\n",
      "Epoch 44: saving model to best_model.hdf5\n",
      "932/932 [==============================] - 4s 4ms/step - loss: 2.4303e-07 - tp: 46594.0000 - tn: 46594.0000 - fp: 0.0000e+00 - fn: 0.0000e+00 - Binary_Accuracy: 1.0000 - Precision: 1.0000 - Recall: 1.0000 - AUC: 1.0000 - val_loss: 0.0036 - val_tp: 5174.0000 - val_tn: 5174.0000 - val_fp: 4.0000 - val_fn: 4.0000 - val_Binary_Accuracy: 0.9992 - val_Precision: 0.9992 - val_Recall: 0.9992 - val_AUC: 0.9992 - lr: 3.0000e-07\n",
      "Epoch 45/140\n",
      "929/932 [============================>.] - ETA: 0s - loss: 2.3963e-07 - tp: 46450.0000 - tn: 46450.0000 - fp: 0.0000e+00 - fn: 0.0000e+00 - Binary_Accuracy: 1.0000 - Precision: 1.0000 - Recall: 1.0000 - AUC: 1.0000\n",
      "Epoch 45: saving model to best_model.hdf5\n",
      "932/932 [==============================] - 4s 4ms/step - loss: 2.3921e-07 - tp: 46594.0000 - tn: 46594.0000 - fp: 0.0000e+00 - fn: 0.0000e+00 - Binary_Accuracy: 1.0000 - Precision: 1.0000 - Recall: 1.0000 - AUC: 1.0000 - val_loss: 0.0036 - val_tp: 5174.0000 - val_tn: 5174.0000 - val_fp: 4.0000 - val_fn: 4.0000 - val_Binary_Accuracy: 0.9992 - val_Precision: 0.9992 - val_Recall: 0.9992 - val_AUC: 0.9992 - lr: 3.0000e-07\n",
      "Epoch 46/140\n",
      "931/932 [============================>.] - ETA: 0s - loss: 2.3565e-07 - tp: 46550.0000 - tn: 46550.0000 - fp: 0.0000e+00 - fn: 0.0000e+00 - Binary_Accuracy: 1.0000 - Precision: 1.0000 - Recall: 1.0000 - AUC: 1.0000\n",
      "Epoch 46: saving model to best_model.hdf5\n",
      "932/932 [==============================] - 4s 4ms/step - loss: 2.3543e-07 - tp: 46594.0000 - tn: 46594.0000 - fp: 0.0000e+00 - fn: 0.0000e+00 - Binary_Accuracy: 1.0000 - Precision: 1.0000 - Recall: 1.0000 - AUC: 1.0000 - val_loss: 0.0036 - val_tp: 5174.0000 - val_tn: 5174.0000 - val_fp: 4.0000 - val_fn: 4.0000 - val_Binary_Accuracy: 0.9992 - val_Precision: 0.9992 - val_Recall: 0.9992 - val_AUC: 0.9992 - lr: 3.0000e-07\n",
      "Epoch 47/140\n",
      "927/932 [============================>.] - ETA: 0s - loss: 2.3275e-07 - tp: 46350.0000 - tn: 46350.0000 - fp: 0.0000e+00 - fn: 0.0000e+00 - Binary_Accuracy: 1.0000 - Precision: 1.0000 - Recall: 1.0000 - AUC: 1.0000\n",
      "Epoch 47: saving model to best_model.hdf5\n",
      "932/932 [==============================] - 4s 4ms/step - loss: 2.3172e-07 - tp: 46594.0000 - tn: 46594.0000 - fp: 0.0000e+00 - fn: 0.0000e+00 - Binary_Accuracy: 1.0000 - Precision: 1.0000 - Recall: 1.0000 - AUC: 1.0000 - val_loss: 0.0037 - val_tp: 5174.0000 - val_tn: 5174.0000 - val_fp: 4.0000 - val_fn: 4.0000 - val_Binary_Accuracy: 0.9992 - val_Precision: 0.9992 - val_Recall: 0.9992 - val_AUC: 0.9992 - lr: 3.0000e-07\n",
      "Epoch 48/140\n",
      "921/932 [============================>.] - ETA: 0s - loss: 2.2757e-07 - tp: 46050.0000 - tn: 46050.0000 - fp: 0.0000e+00 - fn: 0.0000e+00 - Binary_Accuracy: 1.0000 - Precision: 1.0000 - Recall: 1.0000 - AUC: 1.0000\n",
      "Epoch 48: saving model to best_model.hdf5\n",
      "932/932 [==============================] - 4s 4ms/step - loss: 2.2844e-07 - tp: 46594.0000 - tn: 46594.0000 - fp: 0.0000e+00 - fn: 0.0000e+00 - Binary_Accuracy: 1.0000 - Precision: 1.0000 - Recall: 1.0000 - AUC: 1.0000 - val_loss: 0.0037 - val_tp: 5174.0000 - val_tn: 5174.0000 - val_fp: 4.0000 - val_fn: 4.0000 - val_Binary_Accuracy: 0.9992 - val_Precision: 0.9992 - val_Recall: 0.9992 - val_AUC: 0.9992 - lr: 3.0000e-07\n"
     ]
    },
    {
     "name": "stdout",
     "output_type": "stream",
     "text": [
      "Epoch 49/140\n",
      "921/932 [============================>.] - ETA: 0s - loss: 2.2458e-07 - tp: 46050.0000 - tn: 46050.0000 - fp: 0.0000e+00 - fn: 0.0000e+00 - Binary_Accuracy: 1.0000 - Precision: 1.0000 - Recall: 1.0000 - AUC: 1.0000\n",
      "Epoch 49: saving model to best_model.hdf5\n",
      "932/932 [==============================] - 4s 4ms/step - loss: 2.2505e-07 - tp: 46594.0000 - tn: 46594.0000 - fp: 0.0000e+00 - fn: 0.0000e+00 - Binary_Accuracy: 1.0000 - Precision: 1.0000 - Recall: 1.0000 - AUC: 1.0000 - val_loss: 0.0037 - val_tp: 5174.0000 - val_tn: 5174.0000 - val_fp: 4.0000 - val_fn: 4.0000 - val_Binary_Accuracy: 0.9992 - val_Precision: 0.9992 - val_Recall: 0.9992 - val_AUC: 0.9992 - lr: 3.0000e-07\n",
      "Epoch 50/140\n",
      "919/932 [============================>.] - ETA: 0s - loss: 2.2204e-07 - tp: 45950.0000 - tn: 45950.0000 - fp: 0.0000e+00 - fn: 0.0000e+00 - Binary_Accuracy: 1.0000 - Precision: 1.0000 - Recall: 1.0000 - AUC: 1.0000\n",
      "Epoch 50: saving model to best_model.hdf5\n",
      "932/932 [==============================] - 4s 4ms/step - loss: 2.2139e-07 - tp: 46594.0000 - tn: 46594.0000 - fp: 0.0000e+00 - fn: 0.0000e+00 - Binary_Accuracy: 1.0000 - Precision: 1.0000 - Recall: 1.0000 - AUC: 1.0000 - val_loss: 0.0037 - val_tp: 5174.0000 - val_tn: 5174.0000 - val_fp: 4.0000 - val_fn: 4.0000 - val_Binary_Accuracy: 0.9992 - val_Precision: 0.9992 - val_Recall: 0.9992 - val_AUC: 0.9992 - lr: 3.0000e-07\n",
      "Epoch 51/140\n",
      "927/932 [============================>.] - ETA: 0s - loss: 2.1859e-07 - tp: 46350.0000 - tn: 46350.0000 - fp: 0.0000e+00 - fn: 0.0000e+00 - Binary_Accuracy: 1.0000 - Precision: 1.0000 - Recall: 1.0000 - AUC: 1.0000\n",
      "Epoch 51: saving model to best_model.hdf5\n",
      "932/932 [==============================] - 4s 4ms/step - loss: 2.1798e-07 - tp: 46594.0000 - tn: 46594.0000 - fp: 0.0000e+00 - fn: 0.0000e+00 - Binary_Accuracy: 1.0000 - Precision: 1.0000 - Recall: 1.0000 - AUC: 1.0000 - val_loss: 0.0037 - val_tp: 5174.0000 - val_tn: 5174.0000 - val_fp: 4.0000 - val_fn: 4.0000 - val_Binary_Accuracy: 0.9992 - val_Precision: 0.9992 - val_Recall: 0.9992 - val_AUC: 0.9994 - lr: 3.0000e-07\n",
      "Epoch 52/140\n",
      "922/932 [============================>.] - ETA: 0s - loss: 2.1591e-07 - tp: 46100.0000 - tn: 46100.0000 - fp: 0.0000e+00 - fn: 0.0000e+00 - Binary_Accuracy: 1.0000 - Precision: 1.0000 - Recall: 1.0000 - AUC: 1.0000\n",
      "Epoch 52: saving model to best_model.hdf5\n",
      "932/932 [==============================] - 4s 4ms/step - loss: 2.1467e-07 - tp: 46594.0000 - tn: 46594.0000 - fp: 0.0000e+00 - fn: 0.0000e+00 - Binary_Accuracy: 1.0000 - Precision: 1.0000 - Recall: 1.0000 - AUC: 1.0000 - val_loss: 0.0037 - val_tp: 5174.0000 - val_tn: 5174.0000 - val_fp: 4.0000 - val_fn: 4.0000 - val_Binary_Accuracy: 0.9992 - val_Precision: 0.9992 - val_Recall: 0.9992 - val_AUC: 0.9992 - lr: 3.0000e-07\n",
      "Epoch 53/140\n",
      "929/932 [============================>.] - ETA: 0s - loss: 2.1219e-07 - tp: 46450.0000 - tn: 46450.0000 - fp: 0.0000e+00 - fn: 0.0000e+00 - Binary_Accuracy: 1.0000 - Precision: 1.0000 - Recall: 1.0000 - AUC: 1.0000\n",
      "Epoch 53: saving model to best_model.hdf5\n",
      "932/932 [==============================] - 4s 4ms/step - loss: 2.1154e-07 - tp: 46594.0000 - tn: 46594.0000 - fp: 0.0000e+00 - fn: 0.0000e+00 - Binary_Accuracy: 1.0000 - Precision: 1.0000 - Recall: 1.0000 - AUC: 1.0000 - val_loss: 0.0037 - val_tp: 5174.0000 - val_tn: 5174.0000 - val_fp: 4.0000 - val_fn: 4.0000 - val_Binary_Accuracy: 0.9992 - val_Precision: 0.9992 - val_Recall: 0.9992 - val_AUC: 0.9992 - lr: 3.0000e-07\n",
      "Epoch 54/140\n",
      "930/932 [============================>.] - ETA: 0s - loss: 2.0852e-07 - tp: 46500.0000 - tn: 46500.0000 - fp: 0.0000e+00 - fn: 0.0000e+00 - Binary_Accuracy: 1.0000 - Precision: 1.0000 - Recall: 1.0000 - AUC: 1.0000\n",
      "Epoch 54: saving model to best_model.hdf5\n",
      "932/932 [==============================] - 4s 4ms/step - loss: 2.0831e-07 - tp: 46594.0000 - tn: 46594.0000 - fp: 0.0000e+00 - fn: 0.0000e+00 - Binary_Accuracy: 1.0000 - Precision: 1.0000 - Recall: 1.0000 - AUC: 1.0000 - val_loss: 0.0037 - val_tp: 5174.0000 - val_tn: 5174.0000 - val_fp: 4.0000 - val_fn: 4.0000 - val_Binary_Accuracy: 0.9992 - val_Precision: 0.9992 - val_Recall: 0.9992 - val_AUC: 0.9992 - lr: 3.0000e-07\n",
      "Epoch 55/140\n",
      "925/932 [============================>.] - ETA: 0s - loss: 2.0525e-07 - tp: 46250.0000 - tn: 46250.0000 - fp: 0.0000e+00 - fn: 0.0000e+00 - Binary_Accuracy: 1.0000 - Precision: 1.0000 - Recall: 1.0000 - AUC: 1.0000\n",
      "Epoch 55: saving model to best_model.hdf5\n",
      "932/932 [==============================] - 4s 4ms/step - loss: 2.0535e-07 - tp: 46594.0000 - tn: 46594.0000 - fp: 0.0000e+00 - fn: 0.0000e+00 - Binary_Accuracy: 1.0000 - Precision: 1.0000 - Recall: 1.0000 - AUC: 1.0000 - val_loss: 0.0037 - val_tp: 5174.0000 - val_tn: 5174.0000 - val_fp: 4.0000 - val_fn: 4.0000 - val_Binary_Accuracy: 0.9992 - val_Precision: 0.9992 - val_Recall: 0.9992 - val_AUC: 0.9992 - lr: 3.0000e-07\n",
      "Epoch 56/140\n",
      "929/932 [============================>.] - ETA: 0s - loss: 2.0197e-07 - tp: 46450.0000 - tn: 46450.0000 - fp: 0.0000e+00 - fn: 0.0000e+00 - Binary_Accuracy: 1.0000 - Precision: 1.0000 - Recall: 1.0000 - AUC: 1.0000\n",
      "Epoch 56: saving model to best_model.hdf5\n",
      "932/932 [==============================] - 4s 4ms/step - loss: 2.0234e-07 - tp: 46594.0000 - tn: 46594.0000 - fp: 0.0000e+00 - fn: 0.0000e+00 - Binary_Accuracy: 1.0000 - Precision: 1.0000 - Recall: 1.0000 - AUC: 1.0000 - val_loss: 0.0037 - val_tp: 5174.0000 - val_tn: 5174.0000 - val_fp: 4.0000 - val_fn: 4.0000 - val_Binary_Accuracy: 0.9992 - val_Precision: 0.9992 - val_Recall: 0.9992 - val_AUC: 0.9992 - lr: 3.0000e-07\n",
      "Epoch 57/140\n",
      "928/932 [============================>.] - ETA: 0s - loss: 2.0029e-07 - tp: 46400.0000 - tn: 46400.0000 - fp: 0.0000e+00 - fn: 0.0000e+00 - Binary_Accuracy: 1.0000 - Precision: 1.0000 - Recall: 1.0000 - AUC: 1.0000\n",
      "Epoch 57: saving model to best_model.hdf5\n",
      "932/932 [==============================] - 4s 4ms/step - loss: 1.9949e-07 - tp: 46594.0000 - tn: 46594.0000 - fp: 0.0000e+00 - fn: 0.0000e+00 - Binary_Accuracy: 1.0000 - Precision: 1.0000 - Recall: 1.0000 - AUC: 1.0000 - val_loss: 0.0037 - val_tp: 5174.0000 - val_tn: 5174.0000 - val_fp: 4.0000 - val_fn: 4.0000 - val_Binary_Accuracy: 0.9992 - val_Precision: 0.9992 - val_Recall: 0.9992 - val_AUC: 0.9992 - lr: 3.0000e-07\n",
      "Epoch 58/140\n",
      "931/932 [============================>.] - ETA: 0s - loss: 1.9633e-07 - tp: 46550.0000 - tn: 46550.0000 - fp: 0.0000e+00 - fn: 0.0000e+00 - Binary_Accuracy: 1.0000 - Precision: 1.0000 - Recall: 1.0000 - AUC: 1.0000\n",
      "Epoch 58: saving model to best_model.hdf5\n",
      "932/932 [==============================] - 4s 4ms/step - loss: 1.9625e-07 - tp: 46594.0000 - tn: 46594.0000 - fp: 0.0000e+00 - fn: 0.0000e+00 - Binary_Accuracy: 1.0000 - Precision: 1.0000 - Recall: 1.0000 - AUC: 1.0000 - val_loss: 0.0037 - val_tp: 5174.0000 - val_tn: 5174.0000 - val_fp: 4.0000 - val_fn: 4.0000 - val_Binary_Accuracy: 0.9992 - val_Precision: 0.9992 - val_Recall: 0.9992 - val_AUC: 0.9994 - lr: 3.0000e-07\n",
      "Epoch 59/140\n",
      "925/932 [============================>.] - ETA: 0s - loss: 1.9456e-07 - tp: 46250.0000 - tn: 46250.0000 - fp: 0.0000e+00 - fn: 0.0000e+00 - Binary_Accuracy: 1.0000 - Precision: 1.0000 - Recall: 1.0000 - AUC: 1.0000\n",
      "Epoch 59: saving model to best_model.hdf5\n",
      "932/932 [==============================] - 4s 4ms/step - loss: 1.9345e-07 - tp: 46594.0000 - tn: 46594.0000 - fp: 0.0000e+00 - fn: 0.0000e+00 - Binary_Accuracy: 1.0000 - Precision: 1.0000 - Recall: 1.0000 - AUC: 1.0000 - val_loss: 0.0037 - val_tp: 5174.0000 - val_tn: 5174.0000 - val_fp: 4.0000 - val_fn: 4.0000 - val_Binary_Accuracy: 0.9992 - val_Precision: 0.9992 - val_Recall: 0.9992 - val_AUC: 0.9994 - lr: 3.0000e-07\n",
      "Epoch 60/140\n",
      "923/932 [============================>.] - ETA: 0s - loss: 1.7772e-07 - tp: 46150.0000 - tn: 46150.0000 - fp: 0.0000e+00 - fn: 0.0000e+00 - Binary_Accuracy: 1.0000 - Precision: 1.0000 - Recall: 1.0000 - AUC: 1.0000\n",
      "Epoch 60: saving model to best_model.hdf5\n",
      "932/932 [==============================] - 4s 4ms/step - loss: 1.9076e-07 - tp: 46594.0000 - tn: 46594.0000 - fp: 0.0000e+00 - fn: 0.0000e+00 - Binary_Accuracy: 1.0000 - Precision: 1.0000 - Recall: 1.0000 - AUC: 1.0000 - val_loss: 0.0037 - val_tp: 5174.0000 - val_tn: 5174.0000 - val_fp: 4.0000 - val_fn: 4.0000 - val_Binary_Accuracy: 0.9992 - val_Precision: 0.9992 - val_Recall: 0.9992 - val_AUC: 0.9994 - lr: 3.0000e-07\n"
     ]
    },
    {
     "name": "stdout",
     "output_type": "stream",
     "text": [
      "Epoch 61/140\n",
      "932/932 [==============================] - ETA: 0s - loss: 1.8800e-07 - tp: 46594.0000 - tn: 46594.0000 - fp: 0.0000e+00 - fn: 0.0000e+00 - Binary_Accuracy: 1.0000 - Precision: 1.0000 - Recall: 1.0000 - AUC: 1.0000\n",
      "Epoch 61: saving model to best_model.hdf5\n",
      "932/932 [==============================] - 4s 4ms/step - loss: 1.8800e-07 - tp: 46594.0000 - tn: 46594.0000 - fp: 0.0000e+00 - fn: 0.0000e+00 - Binary_Accuracy: 1.0000 - Precision: 1.0000 - Recall: 1.0000 - AUC: 1.0000 - val_loss: 0.0037 - val_tp: 5174.0000 - val_tn: 5174.0000 - val_fp: 4.0000 - val_fn: 4.0000 - val_Binary_Accuracy: 0.9992 - val_Precision: 0.9992 - val_Recall: 0.9992 - val_AUC: 0.9992 - lr: 3.0000e-07\n",
      "Epoch 62/140\n",
      "925/932 [============================>.] - ETA: 0s - loss: 1.8614e-07 - tp: 46250.0000 - tn: 46250.0000 - fp: 0.0000e+00 - fn: 0.0000e+00 - Binary_Accuracy: 1.0000 - Precision: 1.0000 - Recall: 1.0000 - AUC: 1.0000\n",
      "Epoch 62: saving model to best_model.hdf5\n",
      "932/932 [==============================] - 4s 4ms/step - loss: 1.8506e-07 - tp: 46594.0000 - tn: 46594.0000 - fp: 0.0000e+00 - fn: 0.0000e+00 - Binary_Accuracy: 1.0000 - Precision: 1.0000 - Recall: 1.0000 - AUC: 1.0000 - val_loss: 0.0037 - val_tp: 5174.0000 - val_tn: 5174.0000 - val_fp: 4.0000 - val_fn: 4.0000 - val_Binary_Accuracy: 0.9992 - val_Precision: 0.9992 - val_Recall: 0.9992 - val_AUC: 0.9994 - lr: 3.0000e-07\n",
      "Epoch 63/140\n",
      "920/932 [============================>.] - ETA: 0s - loss: 1.8368e-07 - tp: 46000.0000 - tn: 46000.0000 - fp: 0.0000e+00 - fn: 0.0000e+00 - Binary_Accuracy: 1.0000 - Precision: 1.0000 - Recall: 1.0000 - AUC: 1.0000\n",
      "Epoch 63: saving model to best_model.hdf5\n",
      "932/932 [==============================] - 4s 4ms/step - loss: 1.8258e-07 - tp: 46594.0000 - tn: 46594.0000 - fp: 0.0000e+00 - fn: 0.0000e+00 - Binary_Accuracy: 1.0000 - Precision: 1.0000 - Recall: 1.0000 - AUC: 1.0000 - val_loss: 0.0037 - val_tp: 5174.0000 - val_tn: 5174.0000 - val_fp: 4.0000 - val_fn: 4.0000 - val_Binary_Accuracy: 0.9992 - val_Precision: 0.9992 - val_Recall: 0.9992 - val_AUC: 0.9992 - lr: 3.0000e-07\n",
      "Epoch 64/140\n",
      "925/932 [============================>.] - ETA: 0s - loss: 1.7930e-07 - tp: 46250.0000 - tn: 46250.0000 - fp: 0.0000e+00 - fn: 0.0000e+00 - Binary_Accuracy: 1.0000 - Precision: 1.0000 - Recall: 1.0000 - AUC: 1.0000\n",
      "Epoch 64: saving model to best_model.hdf5\n",
      "932/932 [==============================] - 4s 4ms/step - loss: 1.8009e-07 - tp: 46594.0000 - tn: 46594.0000 - fp: 0.0000e+00 - fn: 0.0000e+00 - Binary_Accuracy: 1.0000 - Precision: 1.0000 - Recall: 1.0000 - AUC: 1.0000 - val_loss: 0.0037 - val_tp: 5174.0000 - val_tn: 5174.0000 - val_fp: 4.0000 - val_fn: 4.0000 - val_Binary_Accuracy: 0.9992 - val_Precision: 0.9992 - val_Recall: 0.9992 - val_AUC: 0.9992 - lr: 3.0000e-07\n",
      "Epoch 65/140\n",
      "920/932 [============================>.] - ETA: 0s - loss: 1.7660e-07 - tp: 46000.0000 - tn: 46000.0000 - fp: 0.0000e+00 - fn: 0.0000e+00 - Binary_Accuracy: 1.0000 - Precision: 1.0000 - Recall: 1.0000 - AUC: 1.0000\n",
      "Epoch 65: saving model to best_model.hdf5\n",
      "932/932 [==============================] - 4s 4ms/step - loss: 1.7769e-07 - tp: 46594.0000 - tn: 46594.0000 - fp: 0.0000e+00 - fn: 0.0000e+00 - Binary_Accuracy: 1.0000 - Precision: 1.0000 - Recall: 1.0000 - AUC: 1.0000 - val_loss: 0.0037 - val_tp: 5174.0000 - val_tn: 5174.0000 - val_fp: 4.0000 - val_fn: 4.0000 - val_Binary_Accuracy: 0.9992 - val_Precision: 0.9992 - val_Recall: 0.9992 - val_AUC: 0.9992 - lr: 3.0000e-07\n",
      "Epoch 66/140\n",
      "926/932 [============================>.] - ETA: 0s - loss: 1.7590e-07 - tp: 46300.0000 - tn: 46300.0000 - fp: 0.0000e+00 - fn: 0.0000e+00 - Binary_Accuracy: 1.0000 - Precision: 1.0000 - Recall: 1.0000 - AUC: 1.0000\n",
      "Epoch 66: saving model to best_model.hdf5\n",
      "932/932 [==============================] - 4s 4ms/step - loss: 1.7492e-07 - tp: 46594.0000 - tn: 46594.0000 - fp: 0.0000e+00 - fn: 0.0000e+00 - Binary_Accuracy: 1.0000 - Precision: 1.0000 - Recall: 1.0000 - AUC: 1.0000 - val_loss: 0.0038 - val_tp: 5174.0000 - val_tn: 5174.0000 - val_fp: 4.0000 - val_fn: 4.0000 - val_Binary_Accuracy: 0.9992 - val_Precision: 0.9992 - val_Recall: 0.9992 - val_AUC: 0.9992 - lr: 3.0000e-07\n",
      "Epoch 67/140\n",
      "932/932 [==============================] - ETA: 0s - loss: 1.7245e-07 - tp: 46594.0000 - tn: 46594.0000 - fp: 0.0000e+00 - fn: 0.0000e+00 - Binary_Accuracy: 1.0000 - Precision: 1.0000 - Recall: 1.0000 - AUC: 1.0000\n",
      "Epoch 67: saving model to best_model.hdf5\n",
      "932/932 [==============================] - 4s 4ms/step - loss: 1.7245e-07 - tp: 46594.0000 - tn: 46594.0000 - fp: 0.0000e+00 - fn: 0.0000e+00 - Binary_Accuracy: 1.0000 - Precision: 1.0000 - Recall: 1.0000 - AUC: 1.0000 - val_loss: 0.0038 - val_tp: 5174.0000 - val_tn: 5174.0000 - val_fp: 4.0000 - val_fn: 4.0000 - val_Binary_Accuracy: 0.9992 - val_Precision: 0.9992 - val_Recall: 0.9992 - val_AUC: 0.9992 - lr: 3.0000e-07\n",
      "Epoch 68/140\n",
      "923/932 [============================>.] - ETA: 0s - loss: 1.7069e-07 - tp: 46150.0000 - tn: 46150.0000 - fp: 0.0000e+00 - fn: 0.0000e+00 - Binary_Accuracy: 1.0000 - Precision: 1.0000 - Recall: 1.0000 - AUC: 1.0000\n",
      "Epoch 68: saving model to best_model.hdf5\n",
      "932/932 [==============================] - 4s 4ms/step - loss: 1.7031e-07 - tp: 46594.0000 - tn: 46594.0000 - fp: 0.0000e+00 - fn: 0.0000e+00 - Binary_Accuracy: 1.0000 - Precision: 1.0000 - Recall: 1.0000 - AUC: 1.0000 - val_loss: 0.0038 - val_tp: 5174.0000 - val_tn: 5174.0000 - val_fp: 4.0000 - val_fn: 4.0000 - val_Binary_Accuracy: 0.9992 - val_Precision: 0.9992 - val_Recall: 0.9992 - val_AUC: 0.9992 - lr: 3.0000e-07\n",
      "Epoch 69/140\n",
      "923/932 [============================>.] - ETA: 0s - loss: 1.6885e-07 - tp: 46150.0000 - tn: 46150.0000 - fp: 0.0000e+00 - fn: 0.0000e+00 - Binary_Accuracy: 1.0000 - Precision: 1.0000 - Recall: 1.0000 - AUC: 1.0000\n",
      "Epoch 69: saving model to best_model.hdf5\n",
      "932/932 [==============================] - 4s 4ms/step - loss: 1.6786e-07 - tp: 46594.0000 - tn: 46594.0000 - fp: 0.0000e+00 - fn: 0.0000e+00 - Binary_Accuracy: 1.0000 - Precision: 1.0000 - Recall: 1.0000 - AUC: 1.0000 - val_loss: 0.0038 - val_tp: 5174.0000 - val_tn: 5174.0000 - val_fp: 4.0000 - val_fn: 4.0000 - val_Binary_Accuracy: 0.9992 - val_Precision: 0.9992 - val_Recall: 0.9992 - val_AUC: 0.9992 - lr: 3.0000e-07\n",
      "Epoch 70/140\n",
      "921/932 [============================>.] - ETA: 0s - loss: 1.6489e-07 - tp: 46050.0000 - tn: 46050.0000 - fp: 0.0000e+00 - fn: 0.0000e+00 - Binary_Accuracy: 1.0000 - Precision: 1.0000 - Recall: 1.0000 - AUC: 1.0000\n",
      "Epoch 70: saving model to best_model.hdf5\n",
      "932/932 [==============================] - 4s 4ms/step - loss: 1.6540e-07 - tp: 46594.0000 - tn: 46594.0000 - fp: 0.0000e+00 - fn: 0.0000e+00 - Binary_Accuracy: 1.0000 - Precision: 1.0000 - Recall: 1.0000 - AUC: 1.0000 - val_loss: 0.0038 - val_tp: 5174.0000 - val_tn: 5174.0000 - val_fp: 4.0000 - val_fn: 4.0000 - val_Binary_Accuracy: 0.9992 - val_Precision: 0.9992 - val_Recall: 0.9992 - val_AUC: 0.9992 - lr: 3.0000e-07\n",
      "Epoch 71/140\n",
      "918/932 [============================>.] - ETA: 0s - loss: 1.6228e-07 - tp: 45900.0000 - tn: 45900.0000 - fp: 0.0000e+00 - fn: 0.0000e+00 - Binary_Accuracy: 1.0000 - Precision: 1.0000 - Recall: 1.0000 - AUC: 1.0000\n",
      "Epoch 71: saving model to best_model.hdf5\n",
      "932/932 [==============================] - 4s 4ms/step - loss: 1.6316e-07 - tp: 46594.0000 - tn: 46594.0000 - fp: 0.0000e+00 - fn: 0.0000e+00 - Binary_Accuracy: 1.0000 - Precision: 1.0000 - Recall: 1.0000 - AUC: 1.0000 - val_loss: 0.0038 - val_tp: 5174.0000 - val_tn: 5174.0000 - val_fp: 4.0000 - val_fn: 4.0000 - val_Binary_Accuracy: 0.9992 - val_Precision: 0.9992 - val_Recall: 0.9992 - val_AUC: 0.9992 - lr: 3.0000e-07\n",
      "Epoch 72/140\n",
      "927/932 [============================>.] - ETA: 0s - loss: 1.5987e-07 - tp: 46350.0000 - tn: 46350.0000 - fp: 0.0000e+00 - fn: 0.0000e+00 - Binary_Accuracy: 1.0000 - Precision: 1.0000 - Recall: 1.0000 - AUC: 1.0000\n",
      "Epoch 72: saving model to best_model.hdf5\n",
      "932/932 [==============================] - 4s 4ms/step - loss: 1.6096e-07 - tp: 46594.0000 - tn: 46594.0000 - fp: 0.0000e+00 - fn: 0.0000e+00 - Binary_Accuracy: 1.0000 - Precision: 1.0000 - Recall: 1.0000 - AUC: 1.0000 - val_loss: 0.0038 - val_tp: 5174.0000 - val_tn: 5174.0000 - val_fp: 4.0000 - val_fn: 4.0000 - val_Binary_Accuracy: 0.9992 - val_Precision: 0.9992 - val_Recall: 0.9992 - val_AUC: 0.9992 - lr: 3.0000e-07\n"
     ]
    },
    {
     "name": "stdout",
     "output_type": "stream",
     "text": [
      "Epoch 73/140\n",
      "922/932 [============================>.] - ETA: 0s - loss: 1.5775e-07 - tp: 46100.0000 - tn: 46100.0000 - fp: 0.0000e+00 - fn: 0.0000e+00 - Binary_Accuracy: 1.0000 - Precision: 1.0000 - Recall: 1.0000 - AUC: 1.0000\n",
      "Epoch 73: saving model to best_model.hdf5\n",
      "932/932 [==============================] - 4s 4ms/step - loss: 1.5874e-07 - tp: 46594.0000 - tn: 46594.0000 - fp: 0.0000e+00 - fn: 0.0000e+00 - Binary_Accuracy: 1.0000 - Precision: 1.0000 - Recall: 1.0000 - AUC: 1.0000 - val_loss: 0.0038 - val_tp: 5174.0000 - val_tn: 5174.0000 - val_fp: 4.0000 - val_fn: 4.0000 - val_Binary_Accuracy: 0.9992 - val_Precision: 0.9992 - val_Recall: 0.9992 - val_AUC: 0.9992 - lr: 3.0000e-07\n",
      "Epoch 74/140\n",
      "930/932 [============================>.] - ETA: 0s - loss: 1.5648e-07 - tp: 46500.0000 - tn: 46500.0000 - fp: 0.0000e+00 - fn: 0.0000e+00 - Binary_Accuracy: 1.0000 - Precision: 1.0000 - Recall: 1.0000 - AUC: 1.0000\n",
      "Epoch 74: saving model to best_model.hdf5\n",
      "932/932 [==============================] - 4s 4ms/step - loss: 1.5656e-07 - tp: 46594.0000 - tn: 46594.0000 - fp: 0.0000e+00 - fn: 0.0000e+00 - Binary_Accuracy: 1.0000 - Precision: 1.0000 - Recall: 1.0000 - AUC: 1.0000 - val_loss: 0.0038 - val_tp: 5174.0000 - val_tn: 5174.0000 - val_fp: 4.0000 - val_fn: 4.0000 - val_Binary_Accuracy: 0.9992 - val_Precision: 0.9992 - val_Recall: 0.9992 - val_AUC: 0.9992 - lr: 3.0000e-07\n",
      "Epoch 75/140\n",
      "928/932 [============================>.] - ETA: 0s - loss: 1.5461e-07 - tp: 46400.0000 - tn: 46400.0000 - fp: 0.0000e+00 - fn: 0.0000e+00 - Binary_Accuracy: 1.0000 - Precision: 1.0000 - Recall: 1.0000 - AUC: 1.0000\n",
      "Epoch 75: saving model to best_model.hdf5\n",
      "932/932 [==============================] - 4s 4ms/step - loss: 1.5439e-07 - tp: 46594.0000 - tn: 46594.0000 - fp: 0.0000e+00 - fn: 0.0000e+00 - Binary_Accuracy: 1.0000 - Precision: 1.0000 - Recall: 1.0000 - AUC: 1.0000 - val_loss: 0.0038 - val_tp: 5174.0000 - val_tn: 5174.0000 - val_fp: 4.0000 - val_fn: 4.0000 - val_Binary_Accuracy: 0.9992 - val_Precision: 0.9992 - val_Recall: 0.9992 - val_AUC: 0.9994 - lr: 3.0000e-07\n",
      "Epoch 76/140\n",
      "920/932 [============================>.] - ETA: 0s - loss: 1.5383e-07 - tp: 46000.0000 - tn: 46000.0000 - fp: 0.0000e+00 - fn: 0.0000e+00 - Binary_Accuracy: 1.0000 - Precision: 1.0000 - Recall: 1.0000 - AUC: 1.0000\n",
      "Epoch 76: saving model to best_model.hdf5\n",
      "932/932 [==============================] - 4s 4ms/step - loss: 1.5235e-07 - tp: 46594.0000 - tn: 46594.0000 - fp: 0.0000e+00 - fn: 0.0000e+00 - Binary_Accuracy: 1.0000 - Precision: 1.0000 - Recall: 1.0000 - AUC: 1.0000 - val_loss: 0.0038 - val_tp: 5174.0000 - val_tn: 5174.0000 - val_fp: 4.0000 - val_fn: 4.0000 - val_Binary_Accuracy: 0.9992 - val_Precision: 0.9992 - val_Recall: 0.9992 - val_AUC: 0.9992 - lr: 3.0000e-07\n",
      "Epoch 77/140\n",
      "929/932 [============================>.] - ETA: 0s - loss: 1.5059e-07 - tp: 46450.0000 - tn: 46450.0000 - fp: 0.0000e+00 - fn: 0.0000e+00 - Binary_Accuracy: 1.0000 - Precision: 1.0000 - Recall: 1.0000 - AUC: 1.0000\n",
      "Epoch 77: saving model to best_model.hdf5\n",
      "932/932 [==============================] - 4s 4ms/step - loss: 1.5023e-07 - tp: 46594.0000 - tn: 46594.0000 - fp: 0.0000e+00 - fn: 0.0000e+00 - Binary_Accuracy: 1.0000 - Precision: 1.0000 - Recall: 1.0000 - AUC: 1.0000 - val_loss: 0.0038 - val_tp: 5174.0000 - val_tn: 5174.0000 - val_fp: 4.0000 - val_fn: 4.0000 - val_Binary_Accuracy: 0.9992 - val_Precision: 0.9992 - val_Recall: 0.9992 - val_AUC: 0.9992 - lr: 3.0000e-07\n",
      "Epoch 78/140\n",
      "926/932 [============================>.] - ETA: 0s - loss: 1.4907e-07 - tp: 46300.0000 - tn: 46300.0000 - fp: 0.0000e+00 - fn: 0.0000e+00 - Binary_Accuracy: 1.0000 - Precision: 1.0000 - Recall: 1.0000 - AUC: 1.0000\n",
      "Epoch 78: saving model to best_model.hdf5\n",
      "932/932 [==============================] - 4s 4ms/step - loss: 1.4827e-07 - tp: 46594.0000 - tn: 46594.0000 - fp: 0.0000e+00 - fn: 0.0000e+00 - Binary_Accuracy: 1.0000 - Precision: 1.0000 - Recall: 1.0000 - AUC: 1.0000 - val_loss: 0.0038 - val_tp: 5174.0000 - val_tn: 5174.0000 - val_fp: 4.0000 - val_fn: 4.0000 - val_Binary_Accuracy: 0.9992 - val_Precision: 0.9992 - val_Recall: 0.9992 - val_AUC: 0.9992 - lr: 3.0000e-07\n",
      "Epoch 79/140\n",
      "924/932 [============================>.] - ETA: 0s - loss: 1.4365e-07 - tp: 46200.0000 - tn: 46200.0000 - fp: 0.0000e+00 - fn: 0.0000e+00 - Binary_Accuracy: 1.0000 - Precision: 1.0000 - Recall: 1.0000 - AUC: 1.0000\n",
      "Epoch 79: saving model to best_model.hdf5\n",
      "932/932 [==============================] - 4s 4ms/step - loss: 1.4626e-07 - tp: 46594.0000 - tn: 46594.0000 - fp: 0.0000e+00 - fn: 0.0000e+00 - Binary_Accuracy: 1.0000 - Precision: 1.0000 - Recall: 1.0000 - AUC: 1.0000 - val_loss: 0.0038 - val_tp: 5174.0000 - val_tn: 5174.0000 - val_fp: 4.0000 - val_fn: 4.0000 - val_Binary_Accuracy: 0.9992 - val_Precision: 0.9992 - val_Recall: 0.9992 - val_AUC: 0.9992 - lr: 3.0000e-07\n",
      "Epoch 80/140\n",
      "927/932 [============================>.] - ETA: 0s - loss: 1.4451e-07 - tp: 46350.0000 - tn: 46350.0000 - fp: 0.0000e+00 - fn: 0.0000e+00 - Binary_Accuracy: 1.0000 - Precision: 1.0000 - Recall: 1.0000 - AUC: 1.0000\n",
      "Epoch 80: saving model to best_model.hdf5\n",
      "932/932 [==============================] - 4s 4ms/step - loss: 1.4439e-07 - tp: 46594.0000 - tn: 46594.0000 - fp: 0.0000e+00 - fn: 0.0000e+00 - Binary_Accuracy: 1.0000 - Precision: 1.0000 - Recall: 1.0000 - AUC: 1.0000 - val_loss: 0.0038 - val_tp: 5174.0000 - val_tn: 5174.0000 - val_fp: 4.0000 - val_fn: 4.0000 - val_Binary_Accuracy: 0.9992 - val_Precision: 0.9992 - val_Recall: 0.9992 - val_AUC: 0.9992 - lr: 3.0000e-07\n",
      "Epoch 81/140\n",
      "919/932 [============================>.] - ETA: 0s - loss: 1.4031e-07 - tp: 45950.0000 - tn: 45950.0000 - fp: 0.0000e+00 - fn: 0.0000e+00 - Binary_Accuracy: 1.0000 - Precision: 1.0000 - Recall: 1.0000 - AUC: 1.0000\n",
      "Epoch 81: saving model to best_model.hdf5\n",
      "932/932 [==============================] - 4s 4ms/step - loss: 1.4254e-07 - tp: 46594.0000 - tn: 46594.0000 - fp: 0.0000e+00 - fn: 0.0000e+00 - Binary_Accuracy: 1.0000 - Precision: 1.0000 - Recall: 1.0000 - AUC: 1.0000 - val_loss: 0.0038 - val_tp: 5174.0000 - val_tn: 5174.0000 - val_fp: 4.0000 - val_fn: 4.0000 - val_Binary_Accuracy: 0.9992 - val_Precision: 0.9992 - val_Recall: 0.9992 - val_AUC: 0.9992 - lr: 3.0000e-07\n",
      "Epoch 82/140\n",
      "932/932 [==============================] - ETA: 0s - loss: 1.4051e-07 - tp: 46594.0000 - tn: 46594.0000 - fp: 0.0000e+00 - fn: 0.0000e+00 - Binary_Accuracy: 1.0000 - Precision: 1.0000 - Recall: 1.0000 - AUC: 1.0000\n",
      "Epoch 82: saving model to best_model.hdf5\n",
      "932/932 [==============================] - 4s 4ms/step - loss: 1.4051e-07 - tp: 46594.0000 - tn: 46594.0000 - fp: 0.0000e+00 - fn: 0.0000e+00 - Binary_Accuracy: 1.0000 - Precision: 1.0000 - Recall: 1.0000 - AUC: 1.0000 - val_loss: 0.0038 - val_tp: 5174.0000 - val_tn: 5174.0000 - val_fp: 4.0000 - val_fn: 4.0000 - val_Binary_Accuracy: 0.9992 - val_Precision: 0.9992 - val_Recall: 0.9992 - val_AUC: 0.9992 - lr: 3.0000e-07\n",
      "Epoch 83/140\n",
      "925/932 [============================>.] - ETA: 0s - loss: 1.3952e-07 - tp: 46250.0000 - tn: 46250.0000 - fp: 0.0000e+00 - fn: 0.0000e+00 - Binary_Accuracy: 1.0000 - Precision: 1.0000 - Recall: 1.0000 - AUC: 1.0000\n",
      "Epoch 83: saving model to best_model.hdf5\n",
      "932/932 [==============================] - 4s 4ms/step - loss: 1.3865e-07 - tp: 46594.0000 - tn: 46594.0000 - fp: 0.0000e+00 - fn: 0.0000e+00 - Binary_Accuracy: 1.0000 - Precision: 1.0000 - Recall: 1.0000 - AUC: 1.0000 - val_loss: 0.0038 - val_tp: 5174.0000 - val_tn: 5174.0000 - val_fp: 4.0000 - val_fn: 4.0000 - val_Binary_Accuracy: 0.9992 - val_Precision: 0.9992 - val_Recall: 0.9992 - val_AUC: 0.9992 - lr: 3.0000e-07\n",
      "Epoch 84/140\n",
      "929/932 [============================>.] - ETA: 0s - loss: 1.3642e-07 - tp: 46450.0000 - tn: 46450.0000 - fp: 0.0000e+00 - fn: 0.0000e+00 - Binary_Accuracy: 1.0000 - Precision: 1.0000 - Recall: 1.0000 - AUC: 1.0000\n",
      "Epoch 84: saving model to best_model.hdf5\n",
      "932/932 [==============================] - 4s 4ms/step - loss: 1.3680e-07 - tp: 46594.0000 - tn: 46594.0000 - fp: 0.0000e+00 - fn: 0.0000e+00 - Binary_Accuracy: 1.0000 - Precision: 1.0000 - Recall: 1.0000 - AUC: 1.0000 - val_loss: 0.0038 - val_tp: 5174.0000 - val_tn: 5174.0000 - val_fp: 4.0000 - val_fn: 4.0000 - val_Binary_Accuracy: 0.9992 - val_Precision: 0.9992 - val_Recall: 0.9992 - val_AUC: 0.9992 - lr: 3.0000e-07\n"
     ]
    },
    {
     "name": "stdout",
     "output_type": "stream",
     "text": [
      "Epoch 85/140\n",
      "930/932 [============================>.] - ETA: 0s - loss: 1.3531e-07 - tp: 46500.0000 - tn: 46500.0000 - fp: 0.0000e+00 - fn: 0.0000e+00 - Binary_Accuracy: 1.0000 - Precision: 1.0000 - Recall: 1.0000 - AUC: 1.0000\n",
      "Epoch 85: saving model to best_model.hdf5\n",
      "932/932 [==============================] - 3s 4ms/step - loss: 1.3507e-07 - tp: 46594.0000 - tn: 46594.0000 - fp: 0.0000e+00 - fn: 0.0000e+00 - Binary_Accuracy: 1.0000 - Precision: 1.0000 - Recall: 1.0000 - AUC: 1.0000 - val_loss: 0.0038 - val_tp: 5174.0000 - val_tn: 5174.0000 - val_fp: 4.0000 - val_fn: 4.0000 - val_Binary_Accuracy: 0.9992 - val_Precision: 0.9992 - val_Recall: 0.9992 - val_AUC: 0.9992 - lr: 3.0000e-07\n",
      "Epoch 86/140\n",
      "924/932 [============================>.] - ETA: 0s - loss: 1.3413e-07 - tp: 46200.0000 - tn: 46200.0000 - fp: 0.0000e+00 - fn: 0.0000e+00 - Binary_Accuracy: 1.0000 - Precision: 1.0000 - Recall: 1.0000 - AUC: 1.0000\n",
      "Epoch 86: saving model to best_model.hdf5\n",
      "932/932 [==============================] - 3s 4ms/step - loss: 1.3339e-07 - tp: 46594.0000 - tn: 46594.0000 - fp: 0.0000e+00 - fn: 0.0000e+00 - Binary_Accuracy: 1.0000 - Precision: 1.0000 - Recall: 1.0000 - AUC: 1.0000 - val_loss: 0.0038 - val_tp: 5174.0000 - val_tn: 5174.0000 - val_fp: 4.0000 - val_fn: 4.0000 - val_Binary_Accuracy: 0.9992 - val_Precision: 0.9992 - val_Recall: 0.9992 - val_AUC: 0.9992 - lr: 3.0000e-07\n",
      "Epoch 87/140\n",
      "932/932 [==============================] - ETA: 0s - loss: 1.3181e-07 - tp: 46594.0000 - tn: 46594.0000 - fp: 0.0000e+00 - fn: 0.0000e+00 - Binary_Accuracy: 1.0000 - Precision: 1.0000 - Recall: 1.0000 - AUC: 1.0000\n",
      "Epoch 87: saving model to best_model.hdf5\n",
      "932/932 [==============================] - 4s 4ms/step - loss: 1.3181e-07 - tp: 46594.0000 - tn: 46594.0000 - fp: 0.0000e+00 - fn: 0.0000e+00 - Binary_Accuracy: 1.0000 - Precision: 1.0000 - Recall: 1.0000 - AUC: 1.0000 - val_loss: 0.0038 - val_tp: 5174.0000 - val_tn: 5174.0000 - val_fp: 4.0000 - val_fn: 4.0000 - val_Binary_Accuracy: 0.9992 - val_Precision: 0.9992 - val_Recall: 0.9992 - val_AUC: 0.9992 - lr: 3.0000e-07\n",
      "Epoch 88/140\n",
      "927/932 [============================>.] - ETA: 0s - loss: 1.3009e-07 - tp: 46350.0000 - tn: 46350.0000 - fp: 0.0000e+00 - fn: 0.0000e+00 - Binary_Accuracy: 1.0000 - Precision: 1.0000 - Recall: 1.0000 - AUC: 1.0000\n",
      "Epoch 88: saving model to best_model.hdf5\n",
      "932/932 [==============================] - 3s 4ms/step - loss: 1.3001e-07 - tp: 46594.0000 - tn: 46594.0000 - fp: 0.0000e+00 - fn: 0.0000e+00 - Binary_Accuracy: 1.0000 - Precision: 1.0000 - Recall: 1.0000 - AUC: 1.0000 - val_loss: 0.0039 - val_tp: 5174.0000 - val_tn: 5174.0000 - val_fp: 4.0000 - val_fn: 4.0000 - val_Binary_Accuracy: 0.9992 - val_Precision: 0.9992 - val_Recall: 0.9992 - val_AUC: 0.9992 - lr: 3.0000e-07\n",
      "Epoch 89/140\n",
      "920/932 [============================>.] - ETA: 0s - loss: 1.2886e-07 - tp: 46000.0000 - tn: 46000.0000 - fp: 0.0000e+00 - fn: 0.0000e+00 - Binary_Accuracy: 1.0000 - Precision: 1.0000 - Recall: 1.0000 - AUC: 1.0000\n",
      "Epoch 89: saving model to best_model.hdf5\n",
      "932/932 [==============================] - 4s 4ms/step - loss: 1.2840e-07 - tp: 46594.0000 - tn: 46594.0000 - fp: 0.0000e+00 - fn: 0.0000e+00 - Binary_Accuracy: 1.0000 - Precision: 1.0000 - Recall: 1.0000 - AUC: 1.0000 - val_loss: 0.0039 - val_tp: 5174.0000 - val_tn: 5174.0000 - val_fp: 4.0000 - val_fn: 4.0000 - val_Binary_Accuracy: 0.9992 - val_Precision: 0.9992 - val_Recall: 0.9992 - val_AUC: 0.9992 - lr: 3.0000e-07\n",
      "Epoch 90/140\n",
      "920/932 [============================>.] - ETA: 0s - loss: 1.2759e-07 - tp: 46000.0000 - tn: 46000.0000 - fp: 0.0000e+00 - fn: 0.0000e+00 - Binary_Accuracy: 1.0000 - Precision: 1.0000 - Recall: 1.0000 - AUC: 1.0000\n",
      "Epoch 90: saving model to best_model.hdf5\n",
      "932/932 [==============================] - 4s 4ms/step - loss: 1.2670e-07 - tp: 46594.0000 - tn: 46594.0000 - fp: 0.0000e+00 - fn: 0.0000e+00 - Binary_Accuracy: 1.0000 - Precision: 1.0000 - Recall: 1.0000 - AUC: 1.0000 - val_loss: 0.0039 - val_tp: 5174.0000 - val_tn: 5174.0000 - val_fp: 4.0000 - val_fn: 4.0000 - val_Binary_Accuracy: 0.9992 - val_Precision: 0.9992 - val_Recall: 0.9992 - val_AUC: 0.9992 - lr: 3.0000e-07\n",
      "Epoch 91/140\n",
      "926/932 [============================>.] - ETA: 0s - loss: 1.2559e-07 - tp: 46300.0000 - tn: 46300.0000 - fp: 0.0000e+00 - fn: 0.0000e+00 - Binary_Accuracy: 1.0000 - Precision: 1.0000 - Recall: 1.0000 - AUC: 1.0000\n",
      "Epoch 91: saving model to best_model.hdf5\n",
      "932/932 [==============================] - 4s 4ms/step - loss: 1.2520e-07 - tp: 46594.0000 - tn: 46594.0000 - fp: 0.0000e+00 - fn: 0.0000e+00 - Binary_Accuracy: 1.0000 - Precision: 1.0000 - Recall: 1.0000 - AUC: 1.0000 - val_loss: 0.0039 - val_tp: 5174.0000 - val_tn: 5174.0000 - val_fp: 4.0000 - val_fn: 4.0000 - val_Binary_Accuracy: 0.9992 - val_Precision: 0.9992 - val_Recall: 0.9992 - val_AUC: 0.9992 - lr: 3.0000e-07\n",
      "Epoch 92/140\n",
      "926/932 [============================>.] - ETA: 0s - loss: 1.2342e-07 - tp: 46300.0000 - tn: 46300.0000 - fp: 0.0000e+00 - fn: 0.0000e+00 - Binary_Accuracy: 1.0000 - Precision: 1.0000 - Recall: 1.0000 - AUC: 1.0000\n",
      "Epoch 92: saving model to best_model.hdf5\n",
      "932/932 [==============================] - 4s 4ms/step - loss: 1.2362e-07 - tp: 46594.0000 - tn: 46594.0000 - fp: 0.0000e+00 - fn: 0.0000e+00 - Binary_Accuracy: 1.0000 - Precision: 1.0000 - Recall: 1.0000 - AUC: 1.0000 - val_loss: 0.0039 - val_tp: 5174.0000 - val_tn: 5174.0000 - val_fp: 4.0000 - val_fn: 4.0000 - val_Binary_Accuracy: 0.9992 - val_Precision: 0.9992 - val_Recall: 0.9992 - val_AUC: 0.9992 - lr: 3.0000e-07\n",
      "Epoch 93/140\n",
      "929/932 [============================>.] - ETA: 0s - loss: 1.2266e-07 - tp: 46450.0000 - tn: 46450.0000 - fp: 0.0000e+00 - fn: 0.0000e+00 - Binary_Accuracy: 1.0000 - Precision: 1.0000 - Recall: 1.0000 - AUC: 1.0000\n",
      "Epoch 93: saving model to best_model.hdf5\n",
      "932/932 [==============================] - 4s 4ms/step - loss: 1.2231e-07 - tp: 46594.0000 - tn: 46594.0000 - fp: 0.0000e+00 - fn: 0.0000e+00 - Binary_Accuracy: 1.0000 - Precision: 1.0000 - Recall: 1.0000 - AUC: 1.0000 - val_loss: 0.0039 - val_tp: 5174.0000 - val_tn: 5174.0000 - val_fp: 4.0000 - val_fn: 4.0000 - val_Binary_Accuracy: 0.9992 - val_Precision: 0.9992 - val_Recall: 0.9992 - val_AUC: 0.9992 - lr: 3.0000e-07\n",
      "Epoch 94/140\n",
      "929/932 [============================>.] - ETA: 0s - loss: 1.2090e-07 - tp: 46450.0000 - tn: 46450.0000 - fp: 0.0000e+00 - fn: 0.0000e+00 - Binary_Accuracy: 1.0000 - Precision: 1.0000 - Recall: 1.0000 - AUC: 1.0000\n",
      "Epoch 94: saving model to best_model.hdf5\n",
      "932/932 [==============================] - 4s 4ms/step - loss: 1.2057e-07 - tp: 46594.0000 - tn: 46594.0000 - fp: 0.0000e+00 - fn: 0.0000e+00 - Binary_Accuracy: 1.0000 - Precision: 1.0000 - Recall: 1.0000 - AUC: 1.0000 - val_loss: 0.0039 - val_tp: 5174.0000 - val_tn: 5174.0000 - val_fp: 4.0000 - val_fn: 4.0000 - val_Binary_Accuracy: 0.9992 - val_Precision: 0.9992 - val_Recall: 0.9992 - val_AUC: 0.9992 - lr: 3.0000e-07\n",
      "Epoch 95/140\n",
      "929/932 [============================>.] - ETA: 0s - loss: 1.1940e-07 - tp: 46450.0000 - tn: 46450.0000 - fp: 0.0000e+00 - fn: 0.0000e+00 - Binary_Accuracy: 1.0000 - Precision: 1.0000 - Recall: 1.0000 - AUC: 1.0000\n",
      "Epoch 95: saving model to best_model.hdf5\n",
      "932/932 [==============================] - 3s 4ms/step - loss: 1.1904e-07 - tp: 46594.0000 - tn: 46594.0000 - fp: 0.0000e+00 - fn: 0.0000e+00 - Binary_Accuracy: 1.0000 - Precision: 1.0000 - Recall: 1.0000 - AUC: 1.0000 - val_loss: 0.0039 - val_tp: 5174.0000 - val_tn: 5174.0000 - val_fp: 4.0000 - val_fn: 4.0000 - val_Binary_Accuracy: 0.9992 - val_Precision: 0.9992 - val_Recall: 0.9992 - val_AUC: 0.9992 - lr: 3.0000e-07\n",
      "Epoch 96/140\n",
      "930/932 [============================>.] - ETA: 0s - loss: 1.1768e-07 - tp: 46500.0000 - tn: 46500.0000 - fp: 0.0000e+00 - fn: 0.0000e+00 - Binary_Accuracy: 1.0000 - Precision: 1.0000 - Recall: 1.0000 - AUC: 1.0000\n",
      "Epoch 96: saving model to best_model.hdf5\n",
      "932/932 [==============================] - 3s 4ms/step - loss: 1.1754e-07 - tp: 46594.0000 - tn: 46594.0000 - fp: 0.0000e+00 - fn: 0.0000e+00 - Binary_Accuracy: 1.0000 - Precision: 1.0000 - Recall: 1.0000 - AUC: 1.0000 - val_loss: 0.0039 - val_tp: 5174.0000 - val_tn: 5174.0000 - val_fp: 4.0000 - val_fn: 4.0000 - val_Binary_Accuracy: 0.9992 - val_Precision: 0.9992 - val_Recall: 0.9992 - val_AUC: 0.9992 - lr: 3.0000e-07\n"
     ]
    },
    {
     "name": "stdout",
     "output_type": "stream",
     "text": [
      "Epoch 97/140\n",
      "932/932 [==============================] - ETA: 0s - loss: 1.1620e-07 - tp: 46594.0000 - tn: 46594.0000 - fp: 0.0000e+00 - fn: 0.0000e+00 - Binary_Accuracy: 1.0000 - Precision: 1.0000 - Recall: 1.0000 - AUC: 1.0000\n",
      "Epoch 97: saving model to best_model.hdf5\n",
      "932/932 [==============================] - 4s 4ms/step - loss: 1.1620e-07 - tp: 46594.0000 - tn: 46594.0000 - fp: 0.0000e+00 - fn: 0.0000e+00 - Binary_Accuracy: 1.0000 - Precision: 1.0000 - Recall: 1.0000 - AUC: 1.0000 - val_loss: 0.0039 - val_tp: 5174.0000 - val_tn: 5174.0000 - val_fp: 4.0000 - val_fn: 4.0000 - val_Binary_Accuracy: 0.9992 - val_Precision: 0.9992 - val_Recall: 0.9992 - val_AUC: 0.9992 - lr: 3.0000e-07\n",
      "Epoch 98/140\n",
      "923/932 [============================>.] - ETA: 0s - loss: 1.1447e-07 - tp: 46150.0000 - tn: 46150.0000 - fp: 0.0000e+00 - fn: 0.0000e+00 - Binary_Accuracy: 1.0000 - Precision: 1.0000 - Recall: 1.0000 - AUC: 1.0000\n",
      "Epoch 98: saving model to best_model.hdf5\n",
      "932/932 [==============================] - 3s 4ms/step - loss: 1.1478e-07 - tp: 46594.0000 - tn: 46594.0000 - fp: 0.0000e+00 - fn: 0.0000e+00 - Binary_Accuracy: 1.0000 - Precision: 1.0000 - Recall: 1.0000 - AUC: 1.0000 - val_loss: 0.0039 - val_tp: 5174.0000 - val_tn: 5174.0000 - val_fp: 4.0000 - val_fn: 4.0000 - val_Binary_Accuracy: 0.9992 - val_Precision: 0.9992 - val_Recall: 0.9992 - val_AUC: 0.9992 - lr: 3.0000e-07\n",
      "Epoch 99/140\n",
      "927/932 [============================>.] - ETA: 0s - loss: 1.1340e-07 - tp: 46350.0000 - tn: 46350.0000 - fp: 0.0000e+00 - fn: 0.0000e+00 - Binary_Accuracy: 1.0000 - Precision: 1.0000 - Recall: 1.0000 - AUC: 1.0000\n",
      "Epoch 99: saving model to best_model.hdf5\n",
      "932/932 [==============================] - 4s 4ms/step - loss: 1.1337e-07 - tp: 46594.0000 - tn: 46594.0000 - fp: 0.0000e+00 - fn: 0.0000e+00 - Binary_Accuracy: 1.0000 - Precision: 1.0000 - Recall: 1.0000 - AUC: 1.0000 - val_loss: 0.0039 - val_tp: 5174.0000 - val_tn: 5174.0000 - val_fp: 4.0000 - val_fn: 4.0000 - val_Binary_Accuracy: 0.9992 - val_Precision: 0.9992 - val_Recall: 0.9992 - val_AUC: 0.9992 - lr: 3.0000e-07\n",
      "Epoch 100/140\n",
      "923/932 [============================>.] - ETA: 0s - loss: 1.1186e-07 - tp: 46150.0000 - tn: 46150.0000 - fp: 0.0000e+00 - fn: 0.0000e+00 - Binary_Accuracy: 1.0000 - Precision: 1.0000 - Recall: 1.0000 - AUC: 1.0000\n",
      "Epoch 100: saving model to best_model.hdf5\n",
      "932/932 [==============================] - 3s 4ms/step - loss: 1.1197e-07 - tp: 46594.0000 - tn: 46594.0000 - fp: 0.0000e+00 - fn: 0.0000e+00 - Binary_Accuracy: 1.0000 - Precision: 1.0000 - Recall: 1.0000 - AUC: 1.0000 - val_loss: 0.0039 - val_tp: 5174.0000 - val_tn: 5174.0000 - val_fp: 4.0000 - val_fn: 4.0000 - val_Binary_Accuracy: 0.9992 - val_Precision: 0.9992 - val_Recall: 0.9992 - val_AUC: 0.9992 - lr: 3.0000e-07\n",
      "Epoch 101/140\n",
      "925/932 [============================>.] - ETA: 0s - loss: 1.1093e-07 - tp: 46250.0000 - tn: 46250.0000 - fp: 0.0000e+00 - fn: 0.0000e+00 - Binary_Accuracy: 1.0000 - Precision: 1.0000 - Recall: 1.0000 - AUC: 1.0000\n",
      "Epoch 101: saving model to best_model.hdf5\n",
      "932/932 [==============================] - 3s 4ms/step - loss: 1.1068e-07 - tp: 46594.0000 - tn: 46594.0000 - fp: 0.0000e+00 - fn: 0.0000e+00 - Binary_Accuracy: 1.0000 - Precision: 1.0000 - Recall: 1.0000 - AUC: 1.0000 - val_loss: 0.0039 - val_tp: 5174.0000 - val_tn: 5174.0000 - val_fp: 4.0000 - val_fn: 4.0000 - val_Binary_Accuracy: 0.9992 - val_Precision: 0.9992 - val_Recall: 0.9992 - val_AUC: 0.9992 - lr: 3.0000e-07\n",
      "Epoch 102/140\n",
      "919/932 [============================>.] - ETA: 0s - loss: 1.0726e-07 - tp: 45950.0000 - tn: 45950.0000 - fp: 0.0000e+00 - fn: 0.0000e+00 - Binary_Accuracy: 1.0000 - Precision: 1.0000 - Recall: 1.0000 - AUC: 1.0000\n",
      "Epoch 102: saving model to best_model.hdf5\n",
      "932/932 [==============================] - 4s 4ms/step - loss: 1.0927e-07 - tp: 46594.0000 - tn: 46594.0000 - fp: 0.0000e+00 - fn: 0.0000e+00 - Binary_Accuracy: 1.0000 - Precision: 1.0000 - Recall: 1.0000 - AUC: 1.0000 - val_loss: 0.0039 - val_tp: 5174.0000 - val_tn: 5174.0000 - val_fp: 4.0000 - val_fn: 4.0000 - val_Binary_Accuracy: 0.9992 - val_Precision: 0.9992 - val_Recall: 0.9992 - val_AUC: 0.9992 - lr: 3.0000e-07\n",
      "Epoch 103/140\n",
      "925/932 [============================>.] - ETA: 0s - loss: 1.0839e-07 - tp: 46250.0000 - tn: 46250.0000 - fp: 0.0000e+00 - fn: 0.0000e+00 - Binary_Accuracy: 1.0000 - Precision: 1.0000 - Recall: 1.0000 - AUC: 1.0000\n",
      "Epoch 103: saving model to best_model.hdf5\n",
      "932/932 [==============================] - 4s 4ms/step - loss: 1.0801e-07 - tp: 46594.0000 - tn: 46594.0000 - fp: 0.0000e+00 - fn: 0.0000e+00 - Binary_Accuracy: 1.0000 - Precision: 1.0000 - Recall: 1.0000 - AUC: 1.0000 - val_loss: 0.0039 - val_tp: 5174.0000 - val_tn: 5174.0000 - val_fp: 4.0000 - val_fn: 4.0000 - val_Binary_Accuracy: 0.9992 - val_Precision: 0.9992 - val_Recall: 0.9992 - val_AUC: 0.9992 - lr: 3.0000e-07\n",
      "Epoch 104/140\n",
      "926/932 [============================>.] - ETA: 0s - loss: 1.0705e-07 - tp: 46300.0000 - tn: 46300.0000 - fp: 0.0000e+00 - fn: 0.0000e+00 - Binary_Accuracy: 1.0000 - Precision: 1.0000 - Recall: 1.0000 - AUC: 1.0000\n",
      "Epoch 104: saving model to best_model.hdf5\n",
      "932/932 [==============================] - 3s 4ms/step - loss: 1.0668e-07 - tp: 46594.0000 - tn: 46594.0000 - fp: 0.0000e+00 - fn: 0.0000e+00 - Binary_Accuracy: 1.0000 - Precision: 1.0000 - Recall: 1.0000 - AUC: 1.0000 - val_loss: 0.0039 - val_tp: 5174.0000 - val_tn: 5174.0000 - val_fp: 4.0000 - val_fn: 4.0000 - val_Binary_Accuracy: 0.9992 - val_Precision: 0.9992 - val_Recall: 0.9992 - val_AUC: 0.9992 - lr: 3.0000e-07\n",
      "Epoch 105/140\n",
      "926/932 [============================>.] - ETA: 0s - loss: 1.0607e-07 - tp: 46300.0000 - tn: 46300.0000 - fp: 0.0000e+00 - fn: 0.0000e+00 - Binary_Accuracy: 1.0000 - Precision: 1.0000 - Recall: 1.0000 - AUC: 1.0000\n",
      "Epoch 105: saving model to best_model.hdf5\n",
      "932/932 [==============================] - 3s 4ms/step - loss: 1.0552e-07 - tp: 46594.0000 - tn: 46594.0000 - fp: 0.0000e+00 - fn: 0.0000e+00 - Binary_Accuracy: 1.0000 - Precision: 1.0000 - Recall: 1.0000 - AUC: 1.0000 - val_loss: 0.0039 - val_tp: 5174.0000 - val_tn: 5174.0000 - val_fp: 4.0000 - val_fn: 4.0000 - val_Binary_Accuracy: 0.9992 - val_Precision: 0.9992 - val_Recall: 0.9992 - val_AUC: 0.9992 - lr: 3.0000e-07\n",
      "Epoch 106/140\n",
      "931/932 [============================>.] - ETA: 0s - loss: 1.0421e-07 - tp: 46550.0000 - tn: 46550.0000 - fp: 0.0000e+00 - fn: 0.0000e+00 - Binary_Accuracy: 1.0000 - Precision: 1.0000 - Recall: 1.0000 - AUC: 1.0000\n",
      "Epoch 106: saving model to best_model.hdf5\n",
      "932/932 [==============================] - 3s 4ms/step - loss: 1.0423e-07 - tp: 46594.0000 - tn: 46594.0000 - fp: 0.0000e+00 - fn: 0.0000e+00 - Binary_Accuracy: 1.0000 - Precision: 1.0000 - Recall: 1.0000 - AUC: 1.0000 - val_loss: 0.0039 - val_tp: 5174.0000 - val_tn: 5174.0000 - val_fp: 4.0000 - val_fn: 4.0000 - val_Binary_Accuracy: 0.9992 - val_Precision: 0.9992 - val_Recall: 0.9992 - val_AUC: 0.9992 - lr: 3.0000e-07\n",
      "Epoch 107/140\n",
      "930/932 [============================>.] - ETA: 0s - loss: 1.0316e-07 - tp: 46500.0000 - tn: 46500.0000 - fp: 0.0000e+00 - fn: 0.0000e+00 - Binary_Accuracy: 1.0000 - Precision: 1.0000 - Recall: 1.0000 - AUC: 1.0000\n",
      "Epoch 107: saving model to best_model.hdf5\n",
      "932/932 [==============================] - 4s 4ms/step - loss: 1.0298e-07 - tp: 46594.0000 - tn: 46594.0000 - fp: 0.0000e+00 - fn: 0.0000e+00 - Binary_Accuracy: 1.0000 - Precision: 1.0000 - Recall: 1.0000 - AUC: 1.0000 - val_loss: 0.0039 - val_tp: 5174.0000 - val_tn: 5174.0000 - val_fp: 4.0000 - val_fn: 4.0000 - val_Binary_Accuracy: 0.9992 - val_Precision: 0.9992 - val_Recall: 0.9992 - val_AUC: 0.9992 - lr: 3.0000e-07\n",
      "Epoch 108/140\n",
      "924/932 [============================>.] - ETA: 0s - loss: 1.0230e-07 - tp: 46200.0000 - tn: 46200.0000 - fp: 0.0000e+00 - fn: 0.0000e+00 - Binary_Accuracy: 1.0000 - Precision: 1.0000 - Recall: 1.0000 - AUC: 1.0000\n",
      "Epoch 108: saving model to best_model.hdf5\n",
      "932/932 [==============================] - 4s 4ms/step - loss: 1.0177e-07 - tp: 46594.0000 - tn: 46594.0000 - fp: 0.0000e+00 - fn: 0.0000e+00 - Binary_Accuracy: 1.0000 - Precision: 1.0000 - Recall: 1.0000 - AUC: 1.0000 - val_loss: 0.0039 - val_tp: 5174.0000 - val_tn: 5174.0000 - val_fp: 4.0000 - val_fn: 4.0000 - val_Binary_Accuracy: 0.9992 - val_Precision: 0.9992 - val_Recall: 0.9992 - val_AUC: 0.9992 - lr: 3.0000e-07\n"
     ]
    },
    {
     "name": "stdout",
     "output_type": "stream",
     "text": [
      "Epoch 109/140\n",
      "928/932 [============================>.] - ETA: 0s - loss: 1.0047e-07 - tp: 46400.0000 - tn: 46400.0000 - fp: 0.0000e+00 - fn: 0.0000e+00 - Binary_Accuracy: 1.0000 - Precision: 1.0000 - Recall: 1.0000 - AUC: 1.0000\n",
      "Epoch 109: saving model to best_model.hdf5\n",
      "932/932 [==============================] - 4s 4ms/step - loss: 1.0070e-07 - tp: 46594.0000 - tn: 46594.0000 - fp: 0.0000e+00 - fn: 0.0000e+00 - Binary_Accuracy: 1.0000 - Precision: 1.0000 - Recall: 1.0000 - AUC: 1.0000 - val_loss: 0.0040 - val_tp: 5174.0000 - val_tn: 5174.0000 - val_fp: 4.0000 - val_fn: 4.0000 - val_Binary_Accuracy: 0.9992 - val_Precision: 0.9992 - val_Recall: 0.9992 - val_AUC: 0.9992 - lr: 3.0000e-07\n",
      "Epoch 110/140\n",
      "931/932 [============================>.] - ETA: 0s - loss: 9.9634e-08 - tp: 46550.0000 - tn: 46550.0000 - fp: 0.0000e+00 - fn: 0.0000e+00 - Binary_Accuracy: 1.0000 - Precision: 1.0000 - Recall: 1.0000 - AUC: 1.0000\n",
      "Epoch 110: saving model to best_model.hdf5\n",
      "932/932 [==============================] - 4s 4ms/step - loss: 9.9548e-08 - tp: 46594.0000 - tn: 46594.0000 - fp: 0.0000e+00 - fn: 0.0000e+00 - Binary_Accuracy: 1.0000 - Precision: 1.0000 - Recall: 1.0000 - AUC: 1.0000 - val_loss: 0.0040 - val_tp: 5174.0000 - val_tn: 5174.0000 - val_fp: 4.0000 - val_fn: 4.0000 - val_Binary_Accuracy: 0.9992 - val_Precision: 0.9992 - val_Recall: 0.9992 - val_AUC: 0.9992 - lr: 3.0000e-07\n",
      "Epoch 111/140\n",
      "919/932 [============================>.] - ETA: 0s - loss: 9.9328e-08 - tp: 45950.0000 - tn: 45950.0000 - fp: 0.0000e+00 - fn: 0.0000e+00 - Binary_Accuracy: 1.0000 - Precision: 1.0000 - Recall: 1.0000 - AUC: 1.0000\n",
      "Epoch 111: saving model to best_model.hdf5\n",
      "932/932 [==============================] - 4s 4ms/step - loss: 9.8331e-08 - tp: 46594.0000 - tn: 46594.0000 - fp: 0.0000e+00 - fn: 0.0000e+00 - Binary_Accuracy: 1.0000 - Precision: 1.0000 - Recall: 1.0000 - AUC: 1.0000 - val_loss: 0.0040 - val_tp: 5174.0000 - val_tn: 5174.0000 - val_fp: 4.0000 - val_fn: 4.0000 - val_Binary_Accuracy: 0.9992 - val_Precision: 0.9992 - val_Recall: 0.9992 - val_AUC: 0.9992 - lr: 3.0000e-07\n",
      "Epoch 112/140\n",
      "924/932 [============================>.] - ETA: 0s - loss: 9.7477e-08 - tp: 46200.0000 - tn: 46200.0000 - fp: 0.0000e+00 - fn: 0.0000e+00 - Binary_Accuracy: 1.0000 - Precision: 1.0000 - Recall: 1.0000 - AUC: 1.0000\n",
      "Epoch 112: saving model to best_model.hdf5\n",
      "932/932 [==============================] - 4s 4ms/step - loss: 9.7226e-08 - tp: 46594.0000 - tn: 46594.0000 - fp: 0.0000e+00 - fn: 0.0000e+00 - Binary_Accuracy: 1.0000 - Precision: 1.0000 - Recall: 1.0000 - AUC: 1.0000 - val_loss: 0.0040 - val_tp: 5174.0000 - val_tn: 5174.0000 - val_fp: 4.0000 - val_fn: 4.0000 - val_Binary_Accuracy: 0.9992 - val_Precision: 0.9992 - val_Recall: 0.9992 - val_AUC: 0.9992 - lr: 3.0000e-07\n",
      "Epoch 113/140\n",
      "918/932 [============================>.] - ETA: 0s - loss: 8.9295e-08 - tp: 45900.0000 - tn: 45900.0000 - fp: 0.0000e+00 - fn: 0.0000e+00 - Binary_Accuracy: 1.0000 - Precision: 1.0000 - Recall: 1.0000 - AUC: 1.0000\n",
      "Epoch 113: saving model to best_model.hdf5\n",
      "932/932 [==============================] - 4s 4ms/step - loss: 9.6137e-08 - tp: 46594.0000 - tn: 46594.0000 - fp: 0.0000e+00 - fn: 0.0000e+00 - Binary_Accuracy: 1.0000 - Precision: 1.0000 - Recall: 1.0000 - AUC: 1.0000 - val_loss: 0.0040 - val_tp: 5174.0000 - val_tn: 5174.0000 - val_fp: 4.0000 - val_fn: 4.0000 - val_Binary_Accuracy: 0.9992 - val_Precision: 0.9992 - val_Recall: 0.9992 - val_AUC: 0.9992 - lr: 3.0000e-07\n",
      "Epoch 114/140\n",
      "931/932 [============================>.] - ETA: 0s - loss: 9.4762e-08 - tp: 46550.0000 - tn: 46550.0000 - fp: 0.0000e+00 - fn: 0.0000e+00 - Binary_Accuracy: 1.0000 - Precision: 1.0000 - Recall: 1.0000 - AUC: 1.0000\n",
      "Epoch 114: saving model to best_model.hdf5\n",
      "932/932 [==============================] - 3s 4ms/step - loss: 9.4965e-08 - tp: 46594.0000 - tn: 46594.0000 - fp: 0.0000e+00 - fn: 0.0000e+00 - Binary_Accuracy: 1.0000 - Precision: 1.0000 - Recall: 1.0000 - AUC: 1.0000 - val_loss: 0.0040 - val_tp: 5174.0000 - val_tn: 5174.0000 - val_fp: 4.0000 - val_fn: 4.0000 - val_Binary_Accuracy: 0.9992 - val_Precision: 0.9992 - val_Recall: 0.9992 - val_AUC: 0.9992 - lr: 3.0000e-07\n",
      "Epoch 115/140\n",
      "926/932 [============================>.] - ETA: 0s - loss: 9.2831e-08 - tp: 46300.0000 - tn: 46300.0000 - fp: 0.0000e+00 - fn: 0.0000e+00 - Binary_Accuracy: 1.0000 - Precision: 1.0000 - Recall: 1.0000 - AUC: 1.0000\n",
      "Epoch 115: saving model to best_model.hdf5\n",
      "932/932 [==============================] - 4s 4ms/step - loss: 9.3875e-08 - tp: 46594.0000 - tn: 46594.0000 - fp: 0.0000e+00 - fn: 0.0000e+00 - Binary_Accuracy: 1.0000 - Precision: 1.0000 - Recall: 1.0000 - AUC: 1.0000 - val_loss: 0.0040 - val_tp: 5174.0000 - val_tn: 5174.0000 - val_fp: 4.0000 - val_fn: 4.0000 - val_Binary_Accuracy: 0.9992 - val_Precision: 0.9992 - val_Recall: 0.9992 - val_AUC: 0.9992 - lr: 3.0000e-07\n",
      "Epoch 116/140\n",
      "927/932 [============================>.] - ETA: 0s - loss: 9.3108e-08 - tp: 46350.0000 - tn: 46350.0000 - fp: 0.0000e+00 - fn: 0.0000e+00 - Binary_Accuracy: 1.0000 - Precision: 1.0000 - Recall: 1.0000 - AUC: 1.0000\n",
      "Epoch 116: saving model to best_model.hdf5\n",
      "932/932 [==============================] - 4s 4ms/step - loss: 9.2869e-08 - tp: 46594.0000 - tn: 46594.0000 - fp: 0.0000e+00 - fn: 0.0000e+00 - Binary_Accuracy: 1.0000 - Precision: 1.0000 - Recall: 1.0000 - AUC: 1.0000 - val_loss: 0.0040 - val_tp: 5174.0000 - val_tn: 5174.0000 - val_fp: 4.0000 - val_fn: 4.0000 - val_Binary_Accuracy: 0.9992 - val_Precision: 0.9992 - val_Recall: 0.9992 - val_AUC: 0.9992 - lr: 3.0000e-07\n",
      "Epoch 117/140\n",
      "919/932 [============================>.] - ETA: 0s - loss: 9.0210e-08 - tp: 45950.0000 - tn: 45950.0000 - fp: 0.0000e+00 - fn: 0.0000e+00 - Binary_Accuracy: 1.0000 - Precision: 1.0000 - Recall: 1.0000 - AUC: 1.0000\n",
      "Epoch 117: saving model to best_model.hdf5\n",
      "932/932 [==============================] - 4s 4ms/step - loss: 9.1882e-08 - tp: 46594.0000 - tn: 46594.0000 - fp: 0.0000e+00 - fn: 0.0000e+00 - Binary_Accuracy: 1.0000 - Precision: 1.0000 - Recall: 1.0000 - AUC: 1.0000 - val_loss: 0.0040 - val_tp: 5174.0000 - val_tn: 5174.0000 - val_fp: 4.0000 - val_fn: 4.0000 - val_Binary_Accuracy: 0.9992 - val_Precision: 0.9992 - val_Recall: 0.9992 - val_AUC: 0.9992 - lr: 3.0000e-07\n",
      "Epoch 118/140\n",
      "920/932 [============================>.] - ETA: 0s - loss: 9.1532e-08 - tp: 46000.0000 - tn: 46000.0000 - fp: 0.0000e+00 - fn: 0.0000e+00 - Binary_Accuracy: 1.0000 - Precision: 1.0000 - Recall: 1.0000 - AUC: 1.0000\n",
      "Epoch 118: saving model to best_model.hdf5\n",
      "932/932 [==============================] - 4s 4ms/step - loss: 9.0842e-08 - tp: 46594.0000 - tn: 46594.0000 - fp: 0.0000e+00 - fn: 0.0000e+00 - Binary_Accuracy: 1.0000 - Precision: 1.0000 - Recall: 1.0000 - AUC: 1.0000 - val_loss: 0.0040 - val_tp: 5174.0000 - val_tn: 5174.0000 - val_fp: 4.0000 - val_fn: 4.0000 - val_Binary_Accuracy: 0.9992 - val_Precision: 0.9992 - val_Recall: 0.9992 - val_AUC: 0.9992 - lr: 3.0000e-07\n",
      "Epoch 119/140\n",
      "922/932 [============================>.] - ETA: 0s - loss: 8.9919e-08 - tp: 46100.0000 - tn: 46100.0000 - fp: 0.0000e+00 - fn: 0.0000e+00 - Binary_Accuracy: 1.0000 - Precision: 1.0000 - Recall: 1.0000 - AUC: 1.0000\n",
      "Epoch 119: saving model to best_model.hdf5\n",
      "932/932 [==============================] - 4s 4ms/step - loss: 8.9791e-08 - tp: 46594.0000 - tn: 46594.0000 - fp: 0.0000e+00 - fn: 0.0000e+00 - Binary_Accuracy: 1.0000 - Precision: 1.0000 - Recall: 1.0000 - AUC: 1.0000 - val_loss: 0.0040 - val_tp: 5174.0000 - val_tn: 5174.0000 - val_fp: 4.0000 - val_fn: 4.0000 - val_Binary_Accuracy: 0.9992 - val_Precision: 0.9992 - val_Recall: 0.9992 - val_AUC: 0.9992 - lr: 3.0000e-07\n",
      "Epoch 120/140\n",
      "924/932 [============================>.] - ETA: 0s - loss: 8.7459e-08 - tp: 46200.0000 - tn: 46200.0000 - fp: 0.0000e+00 - fn: 0.0000e+00 - Binary_Accuracy: 1.0000 - Precision: 1.0000 - Recall: 1.0000 - AUC: 1.0000\n",
      "Epoch 120: saving model to best_model.hdf5\n",
      "932/932 [==============================] - 3s 4ms/step - loss: 8.8900e-08 - tp: 46594.0000 - tn: 46594.0000 - fp: 0.0000e+00 - fn: 0.0000e+00 - Binary_Accuracy: 1.0000 - Precision: 1.0000 - Recall: 1.0000 - AUC: 1.0000 - val_loss: 0.0040 - val_tp: 5174.0000 - val_tn: 5174.0000 - val_fp: 4.0000 - val_fn: 4.0000 - val_Binary_Accuracy: 0.9992 - val_Precision: 0.9992 - val_Recall: 0.9992 - val_AUC: 0.9992 - lr: 3.0000e-07\n"
     ]
    },
    {
     "name": "stdout",
     "output_type": "stream",
     "text": [
      "Epoch 121/140\n",
      "924/932 [============================>.] - ETA: 0s - loss: 8.7868e-08 - tp: 46200.0000 - tn: 46200.0000 - fp: 0.0000e+00 - fn: 0.0000e+00 - Binary_Accuracy: 1.0000 - Precision: 1.0000 - Recall: 1.0000 - AUC: 1.0000\n",
      "Epoch 121: saving model to best_model.hdf5\n",
      "932/932 [==============================] - 3s 4ms/step - loss: 8.7973e-08 - tp: 46594.0000 - tn: 46594.0000 - fp: 0.0000e+00 - fn: 0.0000e+00 - Binary_Accuracy: 1.0000 - Precision: 1.0000 - Recall: 1.0000 - AUC: 1.0000 - val_loss: 0.0040 - val_tp: 5174.0000 - val_tn: 5174.0000 - val_fp: 4.0000 - val_fn: 4.0000 - val_Binary_Accuracy: 0.9992 - val_Precision: 0.9992 - val_Recall: 0.9992 - val_AUC: 0.9992 - lr: 3.0000e-07\n",
      "Epoch 122/140\n",
      "925/932 [============================>.] - ETA: 0s - loss: 8.6743e-08 - tp: 46250.0000 - tn: 46250.0000 - fp: 0.0000e+00 - fn: 0.0000e+00 - Binary_Accuracy: 1.0000 - Precision: 1.0000 - Recall: 1.0000 - AUC: 1.0000\n",
      "Epoch 122: saving model to best_model.hdf5\n",
      "932/932 [==============================] - 3s 4ms/step - loss: 8.6945e-08 - tp: 46594.0000 - tn: 46594.0000 - fp: 0.0000e+00 - fn: 0.0000e+00 - Binary_Accuracy: 1.0000 - Precision: 1.0000 - Recall: 1.0000 - AUC: 1.0000 - val_loss: 0.0040 - val_tp: 5174.0000 - val_tn: 5174.0000 - val_fp: 4.0000 - val_fn: 4.0000 - val_Binary_Accuracy: 0.9992 - val_Precision: 0.9992 - val_Recall: 0.9992 - val_AUC: 0.9992 - lr: 3.0000e-07\n",
      "Epoch 123/140\n",
      "932/932 [==============================] - ETA: 0s - loss: 8.5889e-08 - tp: 46594.0000 - tn: 46594.0000 - fp: 0.0000e+00 - fn: 0.0000e+00 - Binary_Accuracy: 1.0000 - Precision: 1.0000 - Recall: 1.0000 - AUC: 1.0000\n",
      "Epoch 123: saving model to best_model.hdf5\n",
      "932/932 [==============================] - 3s 4ms/step - loss: 8.5889e-08 - tp: 46594.0000 - tn: 46594.0000 - fp: 0.0000e+00 - fn: 0.0000e+00 - Binary_Accuracy: 1.0000 - Precision: 1.0000 - Recall: 1.0000 - AUC: 1.0000 - val_loss: 0.0040 - val_tp: 5174.0000 - val_tn: 5174.0000 - val_fp: 4.0000 - val_fn: 4.0000 - val_Binary_Accuracy: 0.9992 - val_Precision: 0.9992 - val_Recall: 0.9992 - val_AUC: 0.9992 - lr: 3.0000e-07\n",
      "Epoch 124/140\n",
      "920/932 [============================>.] - ETA: 0s - loss: 8.5105e-08 - tp: 46000.0000 - tn: 46000.0000 - fp: 0.0000e+00 - fn: 0.0000e+00 - Binary_Accuracy: 1.0000 - Precision: 1.0000 - Recall: 1.0000 - AUC: 1.0000\n",
      "Epoch 124: saving model to best_model.hdf5\n",
      "932/932 [==============================] - 3s 4ms/step - loss: 8.4937e-08 - tp: 46594.0000 - tn: 46594.0000 - fp: 0.0000e+00 - fn: 0.0000e+00 - Binary_Accuracy: 1.0000 - Precision: 1.0000 - Recall: 1.0000 - AUC: 1.0000 - val_loss: 0.0040 - val_tp: 5174.0000 - val_tn: 5174.0000 - val_fp: 4.0000 - val_fn: 4.0000 - val_Binary_Accuracy: 0.9992 - val_Precision: 0.9992 - val_Recall: 0.9992 - val_AUC: 0.9992 - lr: 3.0000e-07\n",
      "Epoch 125/140\n",
      "927/932 [============================>.] - ETA: 0s - loss: 8.4306e-08 - tp: 46350.0000 - tn: 46350.0000 - fp: 0.0000e+00 - fn: 0.0000e+00 - Binary_Accuracy: 1.0000 - Precision: 1.0000 - Recall: 1.0000 - AUC: 1.0000\n",
      "Epoch 125: saving model to best_model.hdf5\n",
      "932/932 [==============================] - 3s 4ms/step - loss: 8.4142e-08 - tp: 46594.0000 - tn: 46594.0000 - fp: 0.0000e+00 - fn: 0.0000e+00 - Binary_Accuracy: 1.0000 - Precision: 1.0000 - Recall: 1.0000 - AUC: 1.0000 - val_loss: 0.0040 - val_tp: 5174.0000 - val_tn: 5174.0000 - val_fp: 4.0000 - val_fn: 4.0000 - val_Binary_Accuracy: 0.9992 - val_Precision: 0.9992 - val_Recall: 0.9992 - val_AUC: 0.9992 - lr: 3.0000e-07\n",
      "Epoch 126/140\n",
      "923/932 [============================>.] - ETA: 0s - loss: 8.2069e-08 - tp: 46150.0000 - tn: 46150.0000 - fp: 0.0000e+00 - fn: 0.0000e+00 - Binary_Accuracy: 1.0000 - Precision: 1.0000 - Recall: 1.0000 - AUC: 1.0000\n",
      "Epoch 126: saving model to best_model.hdf5\n",
      "932/932 [==============================] - 4s 4ms/step - loss: 8.3247e-08 - tp: 46594.0000 - tn: 46594.0000 - fp: 0.0000e+00 - fn: 0.0000e+00 - Binary_Accuracy: 1.0000 - Precision: 1.0000 - Recall: 1.0000 - AUC: 1.0000 - val_loss: 0.0040 - val_tp: 5174.0000 - val_tn: 5174.0000 - val_fp: 4.0000 - val_fn: 4.0000 - val_Binary_Accuracy: 0.9992 - val_Precision: 0.9992 - val_Recall: 0.9992 - val_AUC: 0.9992 - lr: 3.0000e-07\n",
      "Epoch 127/140\n",
      "929/932 [============================>.] - ETA: 0s - loss: 8.2212e-08 - tp: 46450.0000 - tn: 46450.0000 - fp: 0.0000e+00 - fn: 0.0000e+00 - Binary_Accuracy: 1.0000 - Precision: 1.0000 - Recall: 1.0000 - AUC: 1.0000\n",
      "Epoch 127: saving model to best_model.hdf5\n",
      "932/932 [==============================] - 4s 4ms/step - loss: 8.2323e-08 - tp: 46594.0000 - tn: 46594.0000 - fp: 0.0000e+00 - fn: 0.0000e+00 - Binary_Accuracy: 1.0000 - Precision: 1.0000 - Recall: 1.0000 - AUC: 1.0000 - val_loss: 0.0040 - val_tp: 5174.0000 - val_tn: 5174.0000 - val_fp: 4.0000 - val_fn: 4.0000 - val_Binary_Accuracy: 0.9992 - val_Precision: 0.9992 - val_Recall: 0.9992 - val_AUC: 0.9992 - lr: 3.0000e-07\n",
      "Epoch 128/140\n",
      "931/932 [============================>.] - ETA: 0s - loss: 8.1476e-08 - tp: 46550.0000 - tn: 46550.0000 - fp: 0.0000e+00 - fn: 0.0000e+00 - Binary_Accuracy: 1.0000 - Precision: 1.0000 - Recall: 1.0000 - AUC: 1.0000\n",
      "Epoch 128: saving model to best_model.hdf5\n",
      "932/932 [==============================] - 4s 4ms/step - loss: 8.1424e-08 - tp: 46594.0000 - tn: 46594.0000 - fp: 0.0000e+00 - fn: 0.0000e+00 - Binary_Accuracy: 1.0000 - Precision: 1.0000 - Recall: 1.0000 - AUC: 1.0000 - val_loss: 0.0040 - val_tp: 5174.0000 - val_tn: 5174.0000 - val_fp: 4.0000 - val_fn: 4.0000 - val_Binary_Accuracy: 0.9992 - val_Precision: 0.9992 - val_Recall: 0.9992 - val_AUC: 0.9992 - lr: 3.0000e-07\n",
      "Epoch 129/140\n",
      "930/932 [============================>.] - ETA: 0s - loss: 8.0775e-08 - tp: 46500.0000 - tn: 46500.0000 - fp: 0.0000e+00 - fn: 0.0000e+00 - Binary_Accuracy: 1.0000 - Precision: 1.0000 - Recall: 1.0000 - AUC: 1.0000\n",
      "Epoch 129: saving model to best_model.hdf5\n",
      "932/932 [==============================] - 3s 4ms/step - loss: 8.0614e-08 - tp: 46594.0000 - tn: 46594.0000 - fp: 0.0000e+00 - fn: 0.0000e+00 - Binary_Accuracy: 1.0000 - Precision: 1.0000 - Recall: 1.0000 - AUC: 1.0000 - val_loss: 0.0040 - val_tp: 5174.0000 - val_tn: 5174.0000 - val_fp: 4.0000 - val_fn: 4.0000 - val_Binary_Accuracy: 0.9992 - val_Precision: 0.9992 - val_Recall: 0.9992 - val_AUC: 0.9992 - lr: 3.0000e-07\n",
      "Epoch 130/140\n",
      "926/932 [============================>.] - ETA: 0s - loss: 8.0082e-08 - tp: 46300.0000 - tn: 46300.0000 - fp: 0.0000e+00 - fn: 0.0000e+00 - Binary_Accuracy: 1.0000 - Precision: 1.0000 - Recall: 1.0000 - AUC: 1.0000\n",
      "Epoch 130: saving model to best_model.hdf5\n",
      "932/932 [==============================] - 3s 4ms/step - loss: 7.9736e-08 - tp: 46594.0000 - tn: 46594.0000 - fp: 0.0000e+00 - fn: 0.0000e+00 - Binary_Accuracy: 1.0000 - Precision: 1.0000 - Recall: 1.0000 - AUC: 1.0000 - val_loss: 0.0040 - val_tp: 5174.0000 - val_tn: 5174.0000 - val_fp: 4.0000 - val_fn: 4.0000 - val_Binary_Accuracy: 0.9992 - val_Precision: 0.9992 - val_Recall: 0.9992 - val_AUC: 0.9992 - lr: 3.0000e-07\n",
      "Epoch 131/140\n",
      "924/932 [============================>.] - ETA: 0s - loss: 7.9224e-08 - tp: 46200.0000 - tn: 46200.0000 - fp: 0.0000e+00 - fn: 0.0000e+00 - Binary_Accuracy: 1.0000 - Precision: 1.0000 - Recall: 1.0000 - AUC: 1.0000\n",
      "Epoch 131: saving model to best_model.hdf5\n",
      "932/932 [==============================] - 4s 4ms/step - loss: 7.8851e-08 - tp: 46594.0000 - tn: 46594.0000 - fp: 0.0000e+00 - fn: 0.0000e+00 - Binary_Accuracy: 1.0000 - Precision: 1.0000 - Recall: 1.0000 - AUC: 1.0000 - val_loss: 0.0040 - val_tp: 5174.0000 - val_tn: 5174.0000 - val_fp: 4.0000 - val_fn: 4.0000 - val_Binary_Accuracy: 0.9992 - val_Precision: 0.9992 - val_Recall: 0.9992 - val_AUC: 0.9992 - lr: 3.0000e-07\n",
      "Epoch 132/140\n",
      "922/932 [============================>.] - ETA: 0s - loss: 7.7811e-08 - tp: 46100.0000 - tn: 46100.0000 - fp: 0.0000e+00 - fn: 0.0000e+00 - Binary_Accuracy: 1.0000 - Precision: 1.0000 - Recall: 1.0000 - AUC: 1.0000\n",
      "Epoch 132: saving model to best_model.hdf5\n",
      "932/932 [==============================] - 3s 4ms/step - loss: 7.8068e-08 - tp: 46594.0000 - tn: 46594.0000 - fp: 0.0000e+00 - fn: 0.0000e+00 - Binary_Accuracy: 1.0000 - Precision: 1.0000 - Recall: 1.0000 - AUC: 1.0000 - val_loss: 0.0041 - val_tp: 5174.0000 - val_tn: 5174.0000 - val_fp: 4.0000 - val_fn: 4.0000 - val_Binary_Accuracy: 0.9992 - val_Precision: 0.9992 - val_Recall: 0.9992 - val_AUC: 0.9992 - lr: 3.0000e-07\n"
     ]
    },
    {
     "name": "stdout",
     "output_type": "stream",
     "text": [
      "Epoch 133/140\n",
      "929/932 [============================>.] - ETA: 0s - loss: 7.7436e-08 - tp: 46450.0000 - tn: 46450.0000 - fp: 0.0000e+00 - fn: 0.0000e+00 - Binary_Accuracy: 1.0000 - Precision: 1.0000 - Recall: 1.0000 - AUC: 1.0000\n",
      "Epoch 133: saving model to best_model.hdf5\n",
      "932/932 [==============================] - 3s 4ms/step - loss: 7.7329e-08 - tp: 46594.0000 - tn: 46594.0000 - fp: 0.0000e+00 - fn: 0.0000e+00 - Binary_Accuracy: 1.0000 - Precision: 1.0000 - Recall: 1.0000 - AUC: 1.0000 - val_loss: 0.0041 - val_tp: 5174.0000 - val_tn: 5174.0000 - val_fp: 4.0000 - val_fn: 4.0000 - val_Binary_Accuracy: 0.9992 - val_Precision: 0.9992 - val_Recall: 0.9992 - val_AUC: 0.9992 - lr: 3.0000e-07\n",
      "Epoch 134/140\n",
      "922/932 [============================>.] - ETA: 0s - loss: 7.6396e-08 - tp: 46100.0000 - tn: 46100.0000 - fp: 0.0000e+00 - fn: 0.0000e+00 - Binary_Accuracy: 1.0000 - Precision: 1.0000 - Recall: 1.0000 - AUC: 1.0000\n",
      "Epoch 134: saving model to best_model.hdf5\n",
      "932/932 [==============================] - 3s 4ms/step - loss: 7.6527e-08 - tp: 46594.0000 - tn: 46594.0000 - fp: 0.0000e+00 - fn: 0.0000e+00 - Binary_Accuracy: 1.0000 - Precision: 1.0000 - Recall: 1.0000 - AUC: 1.0000 - val_loss: 0.0041 - val_tp: 5174.0000 - val_tn: 5174.0000 - val_fp: 4.0000 - val_fn: 4.0000 - val_Binary_Accuracy: 0.9992 - val_Precision: 0.9992 - val_Recall: 0.9992 - val_AUC: 0.9992 - lr: 3.0000e-07\n",
      "Epoch 135/140\n",
      "924/932 [============================>.] - ETA: 0s - loss: 7.5941e-08 - tp: 46200.0000 - tn: 46200.0000 - fp: 0.0000e+00 - fn: 0.0000e+00 - Binary_Accuracy: 1.0000 - Precision: 1.0000 - Recall: 1.0000 - AUC: 1.0000\n",
      "Epoch 135: saving model to best_model.hdf5\n",
      "932/932 [==============================] - 4s 4ms/step - loss: 7.5606e-08 - tp: 46594.0000 - tn: 46594.0000 - fp: 0.0000e+00 - fn: 0.0000e+00 - Binary_Accuracy: 1.0000 - Precision: 1.0000 - Recall: 1.0000 - AUC: 1.0000 - val_loss: 0.0041 - val_tp: 5174.0000 - val_tn: 5174.0000 - val_fp: 4.0000 - val_fn: 4.0000 - val_Binary_Accuracy: 0.9992 - val_Precision: 0.9992 - val_Recall: 0.9992 - val_AUC: 0.9992 - lr: 3.0000e-07\n",
      "Epoch 136/140\n",
      "928/932 [============================>.] - ETA: 0s - loss: 7.4583e-08 - tp: 46400.0000 - tn: 46400.0000 - fp: 0.0000e+00 - fn: 0.0000e+00 - Binary_Accuracy: 1.0000 - Precision: 1.0000 - Recall: 1.0000 - AUC: 1.0000\n",
      "Epoch 136: saving model to best_model.hdf5\n",
      "932/932 [==============================] - 3s 4ms/step - loss: 7.4912e-08 - tp: 46594.0000 - tn: 46594.0000 - fp: 0.0000e+00 - fn: 0.0000e+00 - Binary_Accuracy: 1.0000 - Precision: 1.0000 - Recall: 1.0000 - AUC: 1.0000 - val_loss: 0.0041 - val_tp: 5174.0000 - val_tn: 5174.0000 - val_fp: 4.0000 - val_fn: 4.0000 - val_Binary_Accuracy: 0.9992 - val_Precision: 0.9992 - val_Recall: 0.9992 - val_AUC: 0.9992 - lr: 3.0000e-07\n",
      "Epoch 137/140\n",
      "932/932 [==============================] - ETA: 0s - loss: 7.4148e-08 - tp: 46594.0000 - tn: 46594.0000 - fp: 0.0000e+00 - fn: 0.0000e+00 - Binary_Accuracy: 1.0000 - Precision: 1.0000 - Recall: 1.0000 - AUC: 1.0000\n",
      "Epoch 137: saving model to best_model.hdf5\n",
      "932/932 [==============================] - 4s 4ms/step - loss: 7.4148e-08 - tp: 46594.0000 - tn: 46594.0000 - fp: 0.0000e+00 - fn: 0.0000e+00 - Binary_Accuracy: 1.0000 - Precision: 1.0000 - Recall: 1.0000 - AUC: 1.0000 - val_loss: 0.0041 - val_tp: 5174.0000 - val_tn: 5174.0000 - val_fp: 4.0000 - val_fn: 4.0000 - val_Binary_Accuracy: 0.9992 - val_Precision: 0.9992 - val_Recall: 0.9992 - val_AUC: 0.9992 - lr: 3.0000e-07\n",
      "Epoch 138/140\n",
      "929/932 [============================>.] - ETA: 0s - loss: 7.3609e-08 - tp: 46450.0000 - tn: 46450.0000 - fp: 0.0000e+00 - fn: 0.0000e+00 - Binary_Accuracy: 1.0000 - Precision: 1.0000 - Recall: 1.0000 - AUC: 1.0000\n",
      "Epoch 138: saving model to best_model.hdf5\n",
      "932/932 [==============================] - 4s 4ms/step - loss: 7.3421e-08 - tp: 46594.0000 - tn: 46594.0000 - fp: 0.0000e+00 - fn: 0.0000e+00 - Binary_Accuracy: 1.0000 - Precision: 1.0000 - Recall: 1.0000 - AUC: 1.0000 - val_loss: 0.0041 - val_tp: 5174.0000 - val_tn: 5174.0000 - val_fp: 4.0000 - val_fn: 4.0000 - val_Binary_Accuracy: 0.9992 - val_Precision: 0.9992 - val_Recall: 0.9992 - val_AUC: 0.9992 - lr: 3.0000e-07\n",
      "Epoch 139/140\n",
      "926/932 [============================>.] - ETA: 0s - loss: 7.1888e-08 - tp: 46300.0000 - tn: 46300.0000 - fp: 0.0000e+00 - fn: 0.0000e+00 - Binary_Accuracy: 1.0000 - Precision: 1.0000 - Recall: 1.0000 - AUC: 1.0000\n",
      "Epoch 139: saving model to best_model.hdf5\n",
      "932/932 [==============================] - 3s 4ms/step - loss: 7.2657e-08 - tp: 46594.0000 - tn: 46594.0000 - fp: 0.0000e+00 - fn: 0.0000e+00 - Binary_Accuracy: 1.0000 - Precision: 1.0000 - Recall: 1.0000 - AUC: 1.0000 - val_loss: 0.0041 - val_tp: 5174.0000 - val_tn: 5174.0000 - val_fp: 4.0000 - val_fn: 4.0000 - val_Binary_Accuracy: 0.9992 - val_Precision: 0.9992 - val_Recall: 0.9992 - val_AUC: 0.9992 - lr: 3.0000e-07\n",
      "Epoch 140/140\n",
      "931/932 [============================>.] - ETA: 0s - loss: 7.2011e-08 - tp: 46550.0000 - tn: 46550.0000 - fp: 0.0000e+00 - fn: 0.0000e+00 - Binary_Accuracy: 1.0000 - Precision: 1.0000 - Recall: 1.0000 - AUC: 1.0000\n",
      "Epoch 140: saving model to best_model.hdf5\n",
      "932/932 [==============================] - 3s 4ms/step - loss: 7.1954e-08 - tp: 46594.0000 - tn: 46594.0000 - fp: 0.0000e+00 - fn: 0.0000e+00 - Binary_Accuracy: 1.0000 - Precision: 1.0000 - Recall: 1.0000 - AUC: 1.0000 - val_loss: 0.0041 - val_tp: 5174.0000 - val_tn: 5174.0000 - val_fp: 4.0000 - val_fn: 4.0000 - val_Binary_Accuracy: 0.9992 - val_Precision: 0.9992 - val_Recall: 0.9992 - val_AUC: 0.9992 - lr: 3.0000e-07\n"
     ]
    }
   ],
   "source": [
    "\n",
    "history = model.fit(\n",
    "    X_train,\n",
    "    y_train,\n",
    "    batch_size=50,\n",
    "    epochs=140,\n",
    "    # We pass some validation for\n",
    "    # monitoring validation loss and metrics\n",
    "    # at the end of each epoch\n",
    "    validation_data=(X_val, y_val),\n",
    "    shuffle=True,\n",
    "    verbose=1,\n",
    "    callbacks=callbacks\n",
    ")"
   ]
  },
  {
   "cell_type": "code",
   "execution_count": 20,
   "id": "5a4bed0e",
   "metadata": {},
   "outputs": [],
   "source": [
    "# save_path = f'model/Custom_{int(time.time())}_model'\n",
    "# print(save_path)\n",
    "# model.save(save_path)"
   ]
  },
  {
   "cell_type": "code",
   "execution_count": 62,
   "id": "abeb42fd",
   "metadata": {},
   "outputs": [
    {
     "name": "stdout",
     "output_type": "stream",
     "text": [
      "Evaluate on test data\n",
      "1563/1563 [==============================] - 4s 3ms/step - loss: 0.0112 - tp: 312198.0000 - tn: 312198.0000 - fp: 257.0000 - fn: 257.0000 - Binary_Accuracy: 0.9992 - Precision: 0.9992 - Recall: 0.9992 - AUC: 0.9993\n",
      "test loss, test acc: [0.011225312948226929, 312198.0, 312198.0, 257.0, 257.0, 0.9991774559020996, 0.9991774559020996, 0.9991774559020996, 0.9992541074752808]\n"
     ]
    }
   ],
   "source": [
    "# Evaluate the model on the test data using `evaluate`\n",
    "print(\"Evaluate on test data\")\n",
    "results = model.evaluate(X_test, y_test, batch_size=200)\n",
    "print(\"test loss, test acc:\", results)\n"
   ]
  },
  {
   "cell_type": "code",
   "execution_count": 63,
   "id": "eae284b3",
   "metadata": {},
   "outputs": [
    {
     "name": "stdout",
     "output_type": "stream",
     "text": [
      "dict_keys(['loss', 'tp', 'tn', 'fp', 'fn', 'Binary_Accuracy', 'Precision', 'Recall', 'AUC', 'val_loss', 'val_tp', 'val_tn', 'val_fp', 'val_fn', 'val_Binary_Accuracy', 'val_Precision', 'val_Recall', 'val_AUC', 'lr'])\n"
     ]
    },
    {
     "data": {
      "image/png": "[encoded data removed]",
      "text/plain": [
       "<Figure size 640x480 with 1 Axes>"
      ]
     },
     "metadata": {},
     "output_type": "display_data"
    },
    {
     "data": {
      "image/png": "[encoded data removed]",
      "text/plain": [
       "<Figure size 640x480 with 1 Axes>"
      ]
     },
     "metadata": {},
     "output_type": "display_data"
    }
   ],
   "source": [
    "# summarize history for accuracy\n",
    "print(history.history.keys())\n",
    "\n",
    "plt.plot(history.history['Binary_Accuracy'])\n",
    "plt.plot(history.history['val_Binary_Accuracy'])\n",
    "plt.title('model accuracy')\n",
    "plt.ylabel('accuracy')\n",
    "plt.xlabel('epoch')\n",
    "plt.legend(['train', 'test'], loc='upper left')\n",
    "plt.show()\n",
    "# summarize history for loss\n",
    "plt.plot(history.history['loss'])\n",
    "plt.plot(history.history['val_loss'])\n",
    "plt.title('model loss')\n",
    "plt.ylabel('loss')\n",
    "plt.xlabel('epoch')\n",
    "plt.legend(['train', 'test'], loc='upper left')\n",
    "plt.show()"
   ]
  },
  {
   "cell_type": "code",
   "execution_count": null,
   "id": "165bfd42",
   "metadata": {},
   "outputs": [],
   "source": []
  },
  {
   "cell_type": "code",
   "execution_count": 64,
   "id": "726ec7c0",
   "metadata": {},
   "outputs": [
    {
     "name": "stdout",
     "output_type": "stream",
     "text": [
      "9765/9765 [==============================] - 8s 778us/step\n"
     ]
    }
   ],
   "source": [
    "pred = model.predict(X_test)\n",
    "pred1=pred\n",
    "pred = np.argmax(pred,axis = 1) \n",
    "y_true = np.argmax(y_test,axis = 1)"
   ]
  },
  {
   "cell_type": "code",
   "execution_count": 65,
   "id": "9e7b1f15",
   "metadata": {},
   "outputs": [
    {
     "data": {
      "text/plain": [
       "[<matplotlib.lines.Line2D at 0x1b4b7666be0>,\n",
       " <matplotlib.lines.Line2D at 0x1b4b7666490>]"
      ]
     },
     "execution_count": 65,
     "metadata": {},
     "output_type": "execute_result"
    },
    {
     "data": {
      "image/png": "[encoded data removed]",
      "text/plain": [
       "<Figure size 640x480 with 1 Axes>"
      ]
     },
     "metadata": {},
     "output_type": "display_data"
    }
   ],
   "source": [
    "plt.plot(pred1)"
   ]
  },
  {
   "cell_type": "code",
   "execution_count": 66,
   "id": "c607c517",
   "metadata": {
    "scrolled": true
   },
   "outputs": [
    {
     "data": {
      "image/png": "[encoded data removed]",
      "text/plain": [
       "<Figure size 500x500 with 1 Axes>"
      ]
     },
     "metadata": {},
     "output_type": "display_data"
    }
   ],
   "source": [
    "thr=9.99999821\n",
    "#CM = confusion_matrix(y_true, pred>thr)\n",
    "CM = confusion_matrix(y_true, pred)\n",
    "from mlxtend.plotting import plot_confusion_matrix\n",
    "fig, ax = plot_confusion_matrix(conf_mat=CM ,  figsize=(5, 5))\n",
    "plt.show()\n"
   ]
  },
  {
   "cell_type": "code",
   "execution_count": 67,
   "id": "d270271d",
   "metadata": {},
   "outputs": [],
   "source": [
    "tn, fp, fn, tp = CM.ravel()\n",
    "def accuracy(tn, fp, fn, tp):\n",
    "    return (tp + tn) / (tp + tn + fp + fn)"
   ]
  },
  {
   "cell_type": "code",
   "execution_count": 68,
   "id": "338f98f4",
   "metadata": {},
   "outputs": [],
   "source": [
    "def precision(tn, fp, fn, tp):\n",
    "    return(tp/(tp+fp))"
   ]
  },
  {
   "cell_type": "code",
   "execution_count": 69,
   "id": "72e33500",
   "metadata": {},
   "outputs": [],
   "source": [
    "def recall(tn, fp, fn, tp):\n",
    "    return(tp/(tp+fn))"
   ]
  },
  {
   "cell_type": "code",
   "execution_count": 70,
   "id": "d2af3a38",
   "metadata": {},
   "outputs": [
    {
     "data": {
      "text/plain": [
       "'Accuracy: 0.9991774815573442'"
      ]
     },
     "execution_count": 70,
     "metadata": {},
     "output_type": "execute_result"
    }
   ],
   "source": [
    "\"Accuracy: {0}\".format(accuracy(tn, fp, fn, tp))"
   ]
  },
  {
   "cell_type": "code",
   "execution_count": 71,
   "id": "af9db67f",
   "metadata": {},
   "outputs": [
    {
     "data": {
      "text/plain": [
       "'Precision: 0.8135021097046413'"
      ]
     },
     "execution_count": 71,
     "metadata": {},
     "output_type": "execute_result"
    }
   ],
   "source": [
    "\"Precision: {0}\".format(precision(tn, fp, fn, tp))"
   ]
  },
  {
   "cell_type": "code",
   "execution_count": 72,
   "id": "ea9f79ec",
   "metadata": {},
   "outputs": [
    {
     "data": {
      "text/plain": [
       "'Recall: 0.964'"
      ]
     },
     "execution_count": 72,
     "metadata": {},
     "output_type": "execute_result"
    }
   ],
   "source": [
    "\"Recall: {0}\".format(recall(tn, fp, fn, tp))"
   ]
  },
  {
   "cell_type": "code",
   "execution_count": 73,
   "id": "d06471ec",
   "metadata": {},
   "outputs": [],
   "source": [
    "labels=np.array([i[0] for i in y_test])"
   ]
  },
  {
   "cell_type": "code",
   "execution_count": 74,
   "id": "2e50e68b",
   "metadata": {},
   "outputs": [],
   "source": [
    "fp,tp,thresholds=roc_curve(labels,pred1[:,0])"
   ]
  },
  {
   "cell_type": "code",
   "execution_count": 75,
   "id": "8094c318",
   "metadata": {},
   "outputs": [
    {
     "data": {
      "image/png": "[encoded data removed]",
      "text/plain": [
       "<Figure size 640x480 with 1 Axes>"
      ]
     },
     "metadata": {},
     "output_type": "display_data"
    }
   ],
   "source": [
    "plt.plot(fp,tp)\n",
    "plt.title(\"CLASS 0\")\n",
    "plt.grid()\n",
    "\n",
    "skip=5\n",
    "for i in range(0,len(thresholds),skip):\n",
    "    plt.text(fp[i],tp[i],thresholds[i])"
   ]
  },
  {
   "cell_type": "code",
   "execution_count": 76,
   "id": "2827d674",
   "metadata": {},
   "outputs": [],
   "source": [
    "fp2,tp2,thresholds2=roc_curve(labels,pred1[:,1])"
   ]
  },
  {
   "cell_type": "code",
   "execution_count": 77,
   "id": "a2de5405",
   "metadata": {},
   "outputs": [
    {
     "data": {
      "image/png": "[encoded data removed]",
      "text/plain": [
       "<Figure size 640x480 with 1 Axes>"
      ]
     },
     "metadata": {},
     "output_type": "display_data"
    }
   ],
   "source": [
    "plt.plot(fp2,tp2)\n",
    "plt.title(\"CLASS 1\")\n",
    "plt.grid()\n",
    "\n",
    "skip=5\n",
    "for i in range(0,len(thresholds2),skip):\n",
    "    plt.text(fp2[i],tp2[i],thresholds2[i])"
   ]
  },
  {
   "cell_type": "code",
   "execution_count": 37,
   "id": "b14f5904",
   "metadata": {},
   "outputs": [],
   "source": [
    "#For Further Testing with Hamming weights run bellow:\n",
    "\n",
    "X = genfromtxt('C:/Users/NSF/Desktop/boyang work/final/XMEGA/DATASETS/self_capture/traces_train_1000_20_20.csv', delimiter=',')\n",
    "X[np.isinf(X)] = 0\n",
    "for i in range(np.shape(X)[0]):\n",
    "    X[i]=preprocessing.normalize([X[i]])\n"
   ]
  },
  {
   "cell_type": "code",
   "execution_count": 38,
   "id": "78168944",
   "metadata": {},
   "outputs": [
    {
     "name": "stdout",
     "output_type": "stream",
     "text": [
      "9765/9765 [==============================] - 8s 759us/step\n"
     ]
    }
   ],
   "source": [
    "pred = model.predict(X)\n",
    "pred1=pred\n",
    "pred = np.argmax(pred,axis = 1) "
   ]
  },
  {
   "cell_type": "code",
   "execution_count": 39,
   "id": "b1890c04",
   "metadata": {},
   "outputs": [],
   "source": [
    "savetxt('predictions/megamgea.csv', pred, delimiter=',')"
   ]
  },
  {
   "cell_type": "code",
   "execution_count": 78,
   "id": "2810ce12",
   "metadata": {},
   "outputs": [
    {
     "data": {
      "text/plain": [
       "[<matplotlib.lines.Line2D at 0x1b4b5fc2a30>]"
      ]
     },
     "execution_count": 78,
     "metadata": {},
     "output_type": "execute_result"
    },
    {
     "data": {
      "image/png": "[encoded data removed]",
      "text/plain": [
       "<Figure size 640x480 with 1 Axes>"
      ]
     },
     "metadata": {},
     "output_type": "display_data"
    }
   ],
   "source": [
    "plt.plot(pred)"
   ]
  },
  {
   "cell_type": "code",
   "execution_count": null,
   "id": "c8a6f70f",
   "metadata": {},
   "outputs": [],
   "source": []
  }
 ],
 "metadata": {
  "kernelspec": {
   "display_name": "Python 3 (ipykernel)",
   "language": "python",
   "name": "python3"
  },
  "language_info": {
   "codemirror_mode": {
    "name": "ipython",
    "version": 3
   },
   "file_extension": ".py",
   "mimetype": "text/x-python",
   "name": "python",
   "nbconvert_exporter": "python",
   "pygments_lexer": "ipython3",
   "version": "3.9.13"
  }
 },
 "nbformat": 4,
 "nbformat_minor": 5
}
