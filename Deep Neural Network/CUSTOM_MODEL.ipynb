{
 "cells": [
  {
   "cell_type": "code",
   "execution_count": 2,
   "id": "7fe79525",
   "metadata": {},
   "outputs": [],
   "source": [
    "import numpy as np\n",
    "from numpy import asarray\n",
    "from numpy import savetxt\n",
    "from numpy import genfromtxt\n",
    "import pandas as pd\n",
    "import plotly.express as px\n",
    "pd.options.plotting.backend = \"plotly\"\n",
    "import matplotlib.pyplot as plt\n",
    "import time\n",
    "\n",
    "import tensorflow as tf\n",
    "from tensorflow.keras.metrics import BinaryAccuracy,FalsePositives,FalseNegatives,TruePositives,TrueNegatives,Precision,Recall,AUC\n",
    "from tensorflow.keras.callbacks import ModelCheckpoint, EarlyStopping\n",
    "from tensorflow import keras\n",
    "from tensorflow.keras import Sequential\n",
    "from tensorflow.keras.layers import Conv2D, Flatten, Dense\n",
    "from tensorflow.keras.callbacks import ReduceLROnPlateau\n",
    " \n",
    "import sklearn\n",
    "from sklearn.model_selection import KFold, cross_val_score, train_test_split\n",
    "from sklearn.metrics import confusion_matrix, ConfusionMatrixDisplay,roc_curve\n",
    "from sklearn import preprocessing\n"
   ]
  },
  {
   "cell_type": "code",
   "execution_count": 3,
   "id": "0fafae00",
   "metadata": {},
   "outputs": [
    {
     "name": "stdout",
     "output_type": "stream",
     "text": [
      "1 Physical GPUs, 1 Logical GPU\n"
     ]
    }
   ],
   "source": [
    "\n",
    "gpus = tf.config.list_physical_devices('GPU')\n",
    "if gpus:\n",
    "    # Restrict TensorFlow to only use the first GPU\n",
    "    try:\n",
    "        tf.config.set_visible_devices(gpus[0], 'GPU')\n",
    "        logical_gpus = tf.config.list_logical_devices('GPU')\n",
    "        print(len(gpus), \"Physical GPUs,\", len(logical_gpus), \"Logical GPU\")\n",
    "    except RuntimeError as e:\n",
    "        # Visible devices must be set before GPUs have been initialized\n",
    "        print(e)"
   ]
  },
  {
   "cell_type": "code",
   "execution_count": 4,
   "id": "0d33ad54",
   "metadata": {},
   "outputs": [
    {
     "name": "stdout",
     "output_type": "stream",
     "text": [
      "Shape:  (75842, 1000)\n",
      "Shape:  (75842,)\n"
     ]
    }
   ],
   "source": [
    "## LOAD TRAIN DATA\n",
    "X = genfromtxt('C:/Users/NSF/Desktop/boyang work/final/XMEGA/DATASETS/ethan_mabon_capture/labels/traces_train_1000_20_2.csv', delimiter=',')\n",
    "Y = genfromtxt('C:/Users/NSF/Desktop/boyang work/final/XMEGA/DATASETS/ethan_mabon_capture/labels/label_train_1000_20_2.csv', delimiter=',')\n",
    "Y=np.asarray(Y).astype('float32')\n",
    "print(\"Shape: \",np.shape(X))\n",
    "print(\"Shape: \",np.shape(Y))"
   ]
  },
  {
   "cell_type": "code",
   "execution_count": 5,
   "id": "e15afc31",
   "metadata": {},
   "outputs": [
    {
     "data": {
      "text/plain": [
       "0.0    74851\n",
       "1.0      991\n",
       "dtype: int64"
      ]
     },
     "execution_count": 5,
     "metadata": {},
     "output_type": "execute_result"
    }
   ],
   "source": [
    "#Ditrubution of Data in Training data\n",
    "pd.value_counts(np.array(Y))"
   ]
  },
  {
   "cell_type": "code",
   "execution_count": 6,
   "id": "781912fc",
   "metadata": {},
   "outputs": [],
   "source": [
    "# NORMALIZING Train data\n",
    "X[np.isinf(X)] = 0\n",
    "Y[np.isinf(Y)] = 0\n",
    "for i in range(np.shape(X)[0]):\n",
    "    X[i]=preprocessing.normalize([X[i]])"
   ]
  },
  {
   "cell_type": "code",
   "execution_count": 7,
   "id": "f1a3dd92",
   "metadata": {},
   "outputs": [
    {
     "name": "stdout",
     "output_type": "stream",
     "text": [
      "Shape/ Traces TRAIN:  (68257, 1000)\n",
      "Shape/ Label TRAIN (68257,)\n",
      "Shape/ Traces VAL:  (7585, 1000)\n",
      "Shape/ Label VAL (7585,)\n"
     ]
    }
   ],
   "source": [
    "# Spliting Train data with 10% for validation.\n",
    "X_train, X_val, y_train, y_val = train_test_split(X,Y,test_size=0.1,random_state=42)\n",
    "\n",
    "print(\"Shape/ Traces TRAIN: \",np.shape(X_train))\n",
    "print(\"Shape/ Label TRAIN\",np.shape(y_train))\n",
    "print(\"Shape/ Traces VAL: \",np.shape(X_val))\n",
    "print(\"Shape/ Label VAL\",np.shape(y_val))"
   ]
  },
  {
   "cell_type": "code",
   "execution_count": 8,
   "id": "4b51f9f6",
   "metadata": {},
   "outputs": [],
   "source": [
    "y_train=tf.keras.utils.to_categorical(\n",
    "    y_train, num_classes=2, dtype='float32'\n",
    ")\n",
    "y_val=tf.keras.utils.to_categorical(\n",
    "    y_val, num_classes=2, dtype='float32'\n",
    ")"
   ]
  },
  {
   "cell_type": "code",
   "execution_count": 9,
   "id": "d4680d76",
   "metadata": {},
   "outputs": [],
   "source": [
    "#Loading Test Data\n",
    "X_test = genfromtxt('C:/Users/NSF/Desktop/boyang work/final/XMEGA/DATASETS/ethan_mabon_capture/labels/traces_test_1000_20_20.csv', delimiter=',')\n",
    "Y = genfromtxt('C:/Users/NSF/Desktop/boyang work/final/XMEGA/DATASETS/ethan_mabon_capture/labels/label_test_1000_20_20.csv', delimiter=',')"
   ]
  },
  {
   "cell_type": "code",
   "execution_count": 10,
   "id": "b994d571",
   "metadata": {},
   "outputs": [],
   "source": [
    "# NORMALIZING Test data\n",
    "X_test[np.isinf(X_test)] = 0\n",
    "Y[np.isinf(Y)] = 0\n",
    "for i in range(np.shape(X_test)[0]):\n",
    "    X_test[i]=preprocessing.normalize([X_test[i]])\n",
    "y_test=np.asarray(Y).astype('float32')\n",
    "y_test=tf.keras.utils.to_categorical(\n",
    "    y_test, num_classes=2, dtype='float32'\n",
    ")"
   ]
  },
  {
   "cell_type": "code",
   "execution_count": 11,
   "id": "072276d7",
   "metadata": {},
   "outputs": [
    {
     "name": "stdout",
     "output_type": "stream",
     "text": [
      "Shape/ Traces TEST:  (237451, 1000)\n",
      "Shape/ Label TEST (237451, 2)\n"
     ]
    }
   ],
   "source": [
    "# Test Data Structure:\n",
    "print(\"Shape/ Traces TEST: \",np.shape(X_test))\n",
    "print(\"Shape/ Label TEST\",np.shape(y_test))"
   ]
  },
  {
   "cell_type": "code",
   "execution_count": 12,
   "id": "6fecab6d",
   "metadata": {},
   "outputs": [],
   "source": [
    "#Dynamic Model Definition\n",
    "\n",
    "model=Sequential()\n",
    "model.add(Dense(np.shape(X)[1],input_dim=len(X[0,:]),activation='relu'))\n",
    "model.add(Dense(128,activation='relu'))\n",
    "model.add(Dense(64,activation='relu'))\n",
    "model.add(Dense(64,activation='relu'))\n",
    "model.add(Dense(2,activation='softmax'))\n",
    "#model.add(Dense(2,activation='sigmoid'))\n"
   ]
  },
  {
   "cell_type": "code",
   "execution_count": 13,
   "id": "f58a774b",
   "metadata": {},
   "outputs": [
    {
     "name": "stdout",
     "output_type": "stream",
     "text": [
      "Model: \"sequential\"\n",
      "_________________________________________________________________\n",
      " Layer (type)                Output Shape              Param #   \n",
      "=================================================================\n",
      " dense (Dense)               (None, 1000)              1001000   \n",
      "                                                                 \n",
      " dense_1 (Dense)             (None, 128)               128128    \n",
      "                                                                 \n",
      " dense_2 (Dense)             (None, 64)                8256      \n",
      "                                                                 \n",
      " dense_3 (Dense)             (None, 64)                4160      \n",
      "                                                                 \n",
      " dense_4 (Dense)             (None, 2)                 130       \n",
      "                                                                 \n",
      "=================================================================\n",
      "Total params: 1,141,674\n",
      "Trainable params: 1,141,674\n",
      "Non-trainable params: 0\n",
      "_________________________________________________________________\n"
     ]
    }
   ],
   "source": [
    "#Compile Model\n",
    "model.summary()"
   ]
  },
  {
   "cell_type": "code",
   "execution_count": 14,
   "id": "f198dd5f",
   "metadata": {},
   "outputs": [],
   "source": [
    "#Model Metrics\n",
    "metrics=[TruePositives(name='tp'),TrueNegatives(name='tn'),FalsePositives(name='fp'),FalseNegatives(name='fn'),BinaryAccuracy(name='Binary_Accuracy'),Precision(name=\"Precision\"),Recall(name='Recall'),AUC(name='AUC')]"
   ]
  },
  {
   "cell_type": "code",
   "execution_count": 15,
   "id": "892cc460",
   "metadata": {},
   "outputs": [],
   "source": [
    "save_file_name=\"best_model.hdf5\""
   ]
  },
  {
   "cell_type": "code",
   "execution_count": 16,
   "id": "19b1bc0f",
   "metadata": {},
   "outputs": [],
   "source": [
    "#Training checkpoints\n",
    "checkpointer = ModelCheckpoint(save_file_name,\n",
    "                               monitor='Binary_Accuracy',\n",
    "                               verbose=1,\n",
    "                               # save_weights_only=True,\n",
    "                               # save_best_only=True,\n",
    "                               mode='max')"
   ]
  },
  {
   "cell_type": "code",
   "execution_count": 17,
   "id": "6c2eb3e6",
   "metadata": {},
   "outputs": [],
   "source": [
    "#Dynamic Learing Rate on a Platue\n",
    "reduce_lr = ReduceLROnPlateau(monitor='val_loss', factor=0.2,\n",
    "                              patience=5, min_lr=3e-6)"
   ]
  },
  {
   "cell_type": "code",
   "execution_count": 18,
   "id": "99e750ee",
   "metadata": {},
   "outputs": [],
   "source": [
    "#Callbacks\n",
    "callbacks = [checkpointer,reduce_lr]"
   ]
  },
  {
   "cell_type": "code",
   "execution_count": 19,
   "id": "a1b338ac",
   "metadata": {},
   "outputs": [],
   "source": [
    "opt = keras.optimizers.Adam()\n",
    "model.compile(loss='BinaryCrossentropy',optimizer=opt,metrics=metrics)"
   ]
  },
  {
   "cell_type": "code",
   "execution_count": null,
   "id": "3bf163f8",
   "metadata": {
    "scrolled": true
   },
   "outputs": [
    {
     "name": "stdout",
     "output_type": "stream",
     "text": [
      "Epoch 1/140\n",
      "6819/6826 [============================>.] - ETA: 0s - loss: 0.0789 - tp: 67301.0000 - tn: 67301.0000 - fp: 889.0000 - fn: 889.0000 - Binary_Accuracy: 0.9870 - Precision: 0.9870 - Recall: 0.9870 - AUC: 0.9870\n",
      "Epoch 1: saving model to best_model.hdf5\n",
      "6826/6826 [==============================] - 32s 4ms/step - loss: 0.0789 - tp: 67368.0000 - tn: 67368.0000 - fp: 889.0000 - fn: 889.0000 - Binary_Accuracy: 0.9870 - Precision: 0.9870 - Recall: 0.9870 - AUC: 0.9870 - val_loss: 0.0817 - val_tp: 7476.0000 - val_tn: 7476.0000 - val_fp: 109.0000 - val_fn: 109.0000 - val_Binary_Accuracy: 0.9856 - val_Precision: 0.9856 - val_Recall: 0.9856 - val_AUC: 0.9856 - lr: 0.0010\n",
      "Epoch 2/140\n",
      "6818/6826 [============================>.] - ETA: 0s - loss: 0.0715 - tp: 67299.0000 - tn: 67299.0000 - fp: 881.0000 - fn: 881.0000 - Binary_Accuracy: 0.9871 - Precision: 0.9871 - Recall: 0.9871 - AUC: 0.9871\n",
      "Epoch 2: saving model to best_model.hdf5\n",
      "6826/6826 [==============================] - 30s 4ms/step - loss: 0.0715 - tp: 67375.0000 - tn: 67375.0000 - fp: 882.0000 - fn: 882.0000 - Binary_Accuracy: 0.9871 - Precision: 0.9871 - Recall: 0.9871 - AUC: 0.9871 - val_loss: 0.0791 - val_tp: 7476.0000 - val_tn: 7476.0000 - val_fp: 109.0000 - val_fn: 109.0000 - val_Binary_Accuracy: 0.9856 - val_Precision: 0.9856 - val_Recall: 0.9856 - val_AUC: 0.9856 - lr: 0.0010\n",
      "Epoch 3/140\n",
      "6825/6826 [============================>.] - ETA: 0s - loss: 0.0676 - tp: 67369.0000 - tn: 67369.0000 - fp: 881.0000 - fn: 881.0000 - Binary_Accuracy: 0.9871 - Precision: 0.9871 - Recall: 0.9871 - AUC: 0.9872\n",
      "Epoch 3: saving model to best_model.hdf5\n",
      "6826/6826 [==============================] - 30s 4ms/step - loss: 0.0677 - tp: 67375.0000 - tn: 67375.0000 - fp: 882.0000 - fn: 882.0000 - Binary_Accuracy: 0.9871 - Precision: 0.9871 - Recall: 0.9871 - AUC: 0.9871 - val_loss: 0.0792 - val_tp: 7476.0000 - val_tn: 7476.0000 - val_fp: 109.0000 - val_fn: 109.0000 - val_Binary_Accuracy: 0.9856 - val_Precision: 0.9856 - val_Recall: 0.9856 - val_AUC: 0.9856 - lr: 0.0010\n",
      "Epoch 4/140\n",
      "6815/6826 [============================>.] - ETA: 0s - loss: 0.0657 - tp: 67268.0000 - tn: 67268.0000 - fp: 882.0000 - fn: 882.0000 - Binary_Accuracy: 0.9871 - Precision: 0.9871 - Recall: 0.9871 - AUC: 0.9873\n",
      "Epoch 4: saving model to best_model.hdf5\n",
      "6826/6826 [==============================] - 30s 4ms/step - loss: 0.0656 - tp: 67375.0000 - tn: 67375.0000 - fp: 882.0000 - fn: 882.0000 - Binary_Accuracy: 0.9871 - Precision: 0.9871 - Recall: 0.9871 - AUC: 0.9873 - val_loss: 0.0802 - val_tp: 7476.0000 - val_tn: 7476.0000 - val_fp: 109.0000 - val_fn: 109.0000 - val_Binary_Accuracy: 0.9856 - val_Precision: 0.9856 - val_Recall: 0.9856 - val_AUC: 0.9856 - lr: 0.0010\n",
      "Epoch 5/140\n",
      "6824/6826 [============================>.] - ETA: 0s - loss: 0.0630 - tp: 67359.0000 - tn: 67359.0000 - fp: 881.0000 - fn: 881.0000 - Binary_Accuracy: 0.9871 - Precision: 0.9871 - Recall: 0.9871 - AUC: 0.9879\n",
      "Epoch 5: saving model to best_model.hdf5\n",
      "6826/6826 [==============================] - 27s 4ms/step - loss: 0.0631 - tp: 67375.0000 - tn: 67375.0000 - fp: 882.0000 - fn: 882.0000 - Binary_Accuracy: 0.9871 - Precision: 0.9871 - Recall: 0.9871 - AUC: 0.9879 - val_loss: 0.0812 - val_tp: 7476.0000 - val_tn: 7476.0000 - val_fp: 109.0000 - val_fn: 109.0000 - val_Binary_Accuracy: 0.9856 - val_Precision: 0.9856 - val_Recall: 0.9856 - val_AUC: 0.9856 - lr: 0.0010\n",
      "Epoch 6/140\n",
      "6821/6826 [============================>.] - ETA: 0s - loss: 0.0599 - tp: 67328.0000 - tn: 67328.0000 - fp: 882.0000 - fn: 882.0000 - Binary_Accuracy: 0.9871 - Precision: 0.9871 - Recall: 0.9871 - AUC: 0.9892\n",
      "Epoch 6: saving model to best_model.hdf5\n",
      "6826/6826 [==============================] - 26s 4ms/step - loss: 0.0599 - tp: 67375.0000 - tn: 67375.0000 - fp: 882.0000 - fn: 882.0000 - Binary_Accuracy: 0.9871 - Precision: 0.9871 - Recall: 0.9871 - AUC: 0.9892 - val_loss: 0.0834 - val_tp: 7476.0000 - val_tn: 7476.0000 - val_fp: 109.0000 - val_fn: 109.0000 - val_Binary_Accuracy: 0.9856 - val_Precision: 0.9856 - val_Recall: 0.9856 - val_AUC: 0.9853 - lr: 0.0010\n",
      "Epoch 7/140\n",
      "6823/6826 [============================>.] - ETA: 0s - loss: 0.0556 - tp: 67351.0000 - tn: 67351.0000 - fp: 879.0000 - fn: 879.0000 - Binary_Accuracy: 0.9871 - Precision: 0.9871 - Recall: 0.9871 - AUC: 0.9907\n",
      "Epoch 7: saving model to best_model.hdf5\n",
      "6826/6826 [==============================] - 26s 4ms/step - loss: 0.0556 - tp: 67378.0000 - tn: 67378.0000 - fp: 879.0000 - fn: 879.0000 - Binary_Accuracy: 0.9871 - Precision: 0.9871 - Recall: 0.9871 - AUC: 0.9907 - val_loss: 0.0805 - val_tp: 7475.0000 - val_tn: 7475.0000 - val_fp: 110.0000 - val_fn: 110.0000 - val_Binary_Accuracy: 0.9855 - val_Precision: 0.9855 - val_Recall: 0.9855 - val_AUC: 0.9861 - lr: 0.0010\n",
      "Epoch 8/140\n",
      "6819/6826 [============================>.] - ETA: 0s - loss: 0.0429 - tp: 67352.0000 - tn: 67352.0000 - fp: 838.0000 - fn: 838.0000 - Binary_Accuracy: 0.9877 - Precision: 0.9877 - Recall: 0.9877 - AUC: 0.9945\n",
      "Epoch 8: saving model to best_model.hdf5\n",
      "6826/6826 [==============================] - 27s 4ms/step - loss: 0.0429 - tp: 67418.0000 - tn: 67418.0000 - fp: 839.0000 - fn: 839.0000 - Binary_Accuracy: 0.9877 - Precision: 0.9877 - Recall: 0.9877 - AUC: 0.9945 - val_loss: 0.1109 - val_tp: 7475.0000 - val_tn: 7475.0000 - val_fp: 110.0000 - val_fn: 110.0000 - val_Binary_Accuracy: 0.9855 - val_Precision: 0.9855 - val_Recall: 0.9855 - val_AUC: 0.9857 - lr: 2.0000e-04\n",
      "Epoch 9/140\n",
      "6825/6826 [============================>.] - ETA: 0s - loss: 0.0339 - tp: 67430.0000 - tn: 67430.0000 - fp: 820.0000 - fn: 820.0000 - Binary_Accuracy: 0.9880 - Precision: 0.9880 - Recall: 0.9880 - AUC: 0.9975\n",
      "Epoch 9: saving model to best_model.hdf5\n",
      "6826/6826 [==============================] - 26s 4ms/step - loss: 0.0339 - tp: 67437.0000 - tn: 67437.0000 - fp: 820.0000 - fn: 820.0000 - Binary_Accuracy: 0.9880 - Precision: 0.9880 - Recall: 0.9880 - AUC: 0.9975 - val_loss: 0.1522 - val_tp: 7474.0000 - val_tn: 7474.0000 - val_fp: 111.0000 - val_fn: 111.0000 - val_Binary_Accuracy: 0.9854 - val_Precision: 0.9854 - val_Recall: 0.9854 - val_AUC: 0.9857 - lr: 2.0000e-04\n",
      "Epoch 10/140\n",
      "6821/6826 [============================>.] - ETA: 0s - loss: 0.0261 - tp: 67457.0000 - tn: 67457.0000 - fp: 753.0000 - fn: 753.0000 - Binary_Accuracy: 0.9890 - Precision: 0.9890 - Recall: 0.9890 - AUC: 0.9985\n",
      "Epoch 10: saving model to best_model.hdf5\n",
      "6826/6826 [==============================] - 25s 4ms/step - loss: 0.0261 - tp: 67504.0000 - tn: 67504.0000 - fp: 753.0000 - fn: 753.0000 - Binary_Accuracy: 0.9890 - Precision: 0.9890 - Recall: 0.9890 - AUC: 0.9985 - val_loss: 0.1893 - val_tp: 7447.0000 - val_tn: 7447.0000 - val_fp: 138.0000 - val_fn: 138.0000 - val_Binary_Accuracy: 0.9818 - val_Precision: 0.9818 - val_Recall: 0.9818 - val_AUC: 0.9858 - lr: 2.0000e-04\n",
      "Epoch 11/140\n",
      "6816/6826 [============================>.] - ETA: 0s - loss: 0.0194 - tp: 67620.0000 - tn: 67620.0000 - fp: 540.0000 - fn: 540.0000 - Binary_Accuracy: 0.9921 - Precision: 0.9921 - Recall: 0.9921 - AUC: 0.9989\n",
      "Epoch 11: saving model to best_model.hdf5\n",
      "6826/6826 [==============================] - 26s 4ms/step - loss: 0.0194 - tp: 67717.0000 - tn: 67717.0000 - fp: 540.0000 - fn: 540.0000 - Binary_Accuracy: 0.9921 - Precision: 0.9921 - Recall: 0.9921 - AUC: 0.9989 - val_loss: 0.2249 - val_tp: 7453.0000 - val_tn: 7453.0000 - val_fp: 132.0000 - val_fn: 132.0000 - val_Binary_Accuracy: 0.9826 - val_Precision: 0.9826 - val_Recall: 0.9826 - val_AUC: 0.9851 - lr: 2.0000e-04\n",
      "Epoch 12/140\n",
      "6820/6826 [============================>.] - ETA: 0s - loss: 0.0133 - tp: 67813.0000 - tn: 67813.0000 - fp: 387.0000 - fn: 387.0000 - Binary_Accuracy: 0.9943 - Precision: 0.9943 - Recall: 0.9943 - AUC: 0.9994\n",
      "Epoch 12: saving model to best_model.hdf5\n",
      "6826/6826 [==============================] - 26s 4ms/step - loss: 0.0134 - tp: 67869.0000 - tn: 67869.0000 - fp: 388.0000 - fn: 388.0000 - Binary_Accuracy: 0.9943 - Precision: 0.9943 - Recall: 0.9943 - AUC: 0.9994 - val_loss: 0.2764 - val_tp: 7448.0000 - val_tn: 7448.0000 - val_fp: 137.0000 - val_fn: 137.0000 - val_Binary_Accuracy: 0.9819 - val_Precision: 0.9819 - val_Recall: 0.9819 - val_AUC: 0.9847 - lr: 2.0000e-04\n",
      "Epoch 13/140\n"
     ]
    },
    {
     "name": "stdout",
     "output_type": "stream",
     "text": [
      "6812/6826 [============================>.] - ETA: 0s - loss: 0.0059 - tp: 67991.0000 - tn: 67991.0000 - fp: 129.0000 - fn: 129.0000 - Binary_Accuracy: 0.9981 - Precision: 0.9981 - Recall: 0.9981 - AUC: 0.9999\n",
      "Epoch 13: saving model to best_model.hdf5\n",
      "6826/6826 [==============================] - 26s 4ms/step - loss: 0.0059 - tp: 68128.0000 - tn: 68128.0000 - fp: 129.0000 - fn: 129.0000 - Binary_Accuracy: 0.9981 - Precision: 0.9981 - Recall: 0.9981 - AUC: 0.9999 - val_loss: 0.3133 - val_tp: 7442.0000 - val_tn: 7442.0000 - val_fp: 143.0000 - val_fn: 143.0000 - val_Binary_Accuracy: 0.9811 - val_Precision: 0.9811 - val_Recall: 0.9811 - val_AUC: 0.9846 - lr: 4.0000e-05\n",
      "Epoch 14/140\n",
      "6816/6826 [============================>.] - ETA: 0s - loss: 0.0032 - tp: 68089.0000 - tn: 68089.0000 - fp: 71.0000 - fn: 71.0000 - Binary_Accuracy: 0.9990 - Precision: 0.9990 - Recall: 0.9990 - AUC: 1.0000\n",
      "Epoch 14: saving model to best_model.hdf5\n",
      "6826/6826 [==============================] - 26s 4ms/step - loss: 0.0032 - tp: 68186.0000 - tn: 68186.0000 - fp: 71.0000 - fn: 71.0000 - Binary_Accuracy: 0.9990 - Precision: 0.9990 - Recall: 0.9990 - AUC: 1.0000 - val_loss: 0.3718 - val_tp: 7434.0000 - val_tn: 7434.0000 - val_fp: 151.0000 - val_fn: 151.0000 - val_Binary_Accuracy: 0.9801 - val_Precision: 0.9801 - val_Recall: 0.9801 - val_AUC: 0.9841 - lr: 4.0000e-05\n",
      "Epoch 15/140\n",
      "6819/6826 [============================>.] - ETA: 0s - loss: 0.0020 - tp: 68147.0000 - tn: 68147.0000 - fp: 43.0000 - fn: 43.0000 - Binary_Accuracy: 0.9994 - Precision: 0.9994 - Recall: 0.9994 - AUC: 1.0000\n",
      "Epoch 15: saving model to best_model.hdf5\n",
      "6826/6826 [==============================] - 26s 4ms/step - loss: 0.0020 - tp: 68214.0000 - tn: 68214.0000 - fp: 43.0000 - fn: 43.0000 - Binary_Accuracy: 0.9994 - Precision: 0.9994 - Recall: 0.9994 - AUC: 1.0000 - val_loss: 0.4185 - val_tp: 7429.0000 - val_tn: 7429.0000 - val_fp: 156.0000 - val_fn: 156.0000 - val_Binary_Accuracy: 0.9794 - val_Precision: 0.9794 - val_Recall: 0.9794 - val_AUC: 0.9831 - lr: 4.0000e-05\n",
      "Epoch 16/140\n",
      "6823/6826 [============================>.] - ETA: 0s - loss: 0.0012 - tp: 68206.0000 - tn: 68206.0000 - fp: 24.0000 - fn: 24.0000 - Binary_Accuracy: 0.9996 - Precision: 0.9996 - Recall: 0.9996 - AUC: 1.0000\n",
      "Epoch 16: saving model to best_model.hdf5\n",
      "6826/6826 [==============================] - 26s 4ms/step - loss: 0.0012 - tp: 68233.0000 - tn: 68233.0000 - fp: 24.0000 - fn: 24.0000 - Binary_Accuracy: 0.9996 - Precision: 0.9996 - Recall: 0.9996 - AUC: 1.0000 - val_loss: 0.4752 - val_tp: 7440.0000 - val_tn: 7440.0000 - val_fp: 145.0000 - val_fn: 145.0000 - val_Binary_Accuracy: 0.9809 - val_Precision: 0.9809 - val_Recall: 0.9809 - val_AUC: 0.9833 - lr: 4.0000e-05\n",
      "Epoch 17/140\n",
      "6817/6826 [============================>.] - ETA: 0s - loss: 6.8667e-04 - tp: 68160.0000 - tn: 68160.0000 - fp: 10.0000 - fn: 10.0000 - Binary_Accuracy: 0.9999 - Precision: 0.9999 - Recall: 0.9999 - AUC: 1.0000\n",
      "Epoch 17: saving model to best_model.hdf5\n",
      "6826/6826 [==============================] - 27s 4ms/step - loss: 6.8582e-04 - tp: 68247.0000 - tn: 68247.0000 - fp: 10.0000 - fn: 10.0000 - Binary_Accuracy: 0.9999 - Precision: 0.9999 - Recall: 0.9999 - AUC: 1.0000 - val_loss: 0.5267 - val_tp: 7440.0000 - val_tn: 7440.0000 - val_fp: 145.0000 - val_fn: 145.0000 - val_Binary_Accuracy: 0.9809 - val_Precision: 0.9809 - val_Recall: 0.9809 - val_AUC: 0.9833 - lr: 4.0000e-05\n",
      "Epoch 18/140\n",
      "6823/6826 [============================>.] - ETA: 0s - loss: 2.9317e-04 - tp: 68227.0000 - tn: 68227.0000 - fp: 3.0000 - fn: 3.0000 - Binary_Accuracy: 1.0000 - Precision: 1.0000 - Recall: 1.0000 - AUC: 1.0000\n",
      "Epoch 18: saving model to best_model.hdf5\n",
      "6826/6826 [==============================] - 26s 4ms/step - loss: 2.9306e-04 - tp: 68254.0000 - tn: 68254.0000 - fp: 3.0000 - fn: 3.0000 - Binary_Accuracy: 1.0000 - Precision: 1.0000 - Recall: 1.0000 - AUC: 1.0000 - val_loss: 0.5435 - val_tp: 7439.0000 - val_tn: 7439.0000 - val_fp: 146.0000 - val_fn: 146.0000 - val_Binary_Accuracy: 0.9808 - val_Precision: 0.9808 - val_Recall: 0.9808 - val_AUC: 0.9830 - lr: 8.0000e-06\n",
      "Epoch 19/140\n",
      "6817/6826 [============================>.] - ETA: 0s - loss: 2.1081e-04 - tp: 68168.0000 - tn: 68168.0000 - fp: 2.0000 - fn: 2.0000 - Binary_Accuracy: 1.0000 - Precision: 1.0000 - Recall: 1.0000 - AUC: 1.0000\n",
      "Epoch 19: saving model to best_model.hdf5\n",
      "6826/6826 [==============================] - 27s 4ms/step - loss: 2.1054e-04 - tp: 68255.0000 - tn: 68255.0000 - fp: 2.0000 - fn: 2.0000 - Binary_Accuracy: 1.0000 - Precision: 1.0000 - Recall: 1.0000 - AUC: 1.0000 - val_loss: 0.5651 - val_tp: 7439.0000 - val_tn: 7439.0000 - val_fp: 146.0000 - val_fn: 146.0000 - val_Binary_Accuracy: 0.9808 - val_Precision: 0.9808 - val_Recall: 0.9808 - val_AUC: 0.9828 - lr: 8.0000e-06\n",
      "Epoch 20/140\n",
      "6824/6826 [============================>.] - ETA: 0s - loss: 1.6136e-04 - tp: 68239.0000 - tn: 68239.0000 - fp: 1.0000 - fn: 1.0000 - Binary_Accuracy: 1.0000 - Precision: 1.0000 - Recall: 1.0000 - AUC: 1.0000\n",
      "Epoch 20: saving model to best_model.hdf5\n",
      "6826/6826 [==============================] - 27s 4ms/step - loss: 1.6132e-04 - tp: 68256.0000 - tn: 68256.0000 - fp: 1.0000 - fn: 1.0000 - Binary_Accuracy: 1.0000 - Precision: 1.0000 - Recall: 1.0000 - AUC: 1.0000 - val_loss: 0.5896 - val_tp: 7438.0000 - val_tn: 7438.0000 - val_fp: 147.0000 - val_fn: 147.0000 - val_Binary_Accuracy: 0.9806 - val_Precision: 0.9806 - val_Recall: 0.9806 - val_AUC: 0.9826 - lr: 8.0000e-06\n",
      "Epoch 21/140\n",
      "6826/6826 [==============================] - ETA: 0s - loss: 1.2684e-04 - tp: 68256.0000 - tn: 68256.0000 - fp: 1.0000 - fn: 1.0000 - Binary_Accuracy: 1.0000 - Precision: 1.0000 - Recall: 1.0000 - AUC: 1.0000\n",
      "Epoch 21: saving model to best_model.hdf5\n",
      "6826/6826 [==============================] - 26s 4ms/step - loss: 1.2684e-04 - tp: 68256.0000 - tn: 68256.0000 - fp: 1.0000 - fn: 1.0000 - Binary_Accuracy: 1.0000 - Precision: 1.0000 - Recall: 1.0000 - AUC: 1.0000 - val_loss: 0.6158 - val_tp: 7439.0000 - val_tn: 7439.0000 - val_fp: 146.0000 - val_fn: 146.0000 - val_Binary_Accuracy: 0.9808 - val_Precision: 0.9808 - val_Recall: 0.9808 - val_AUC: 0.9823 - lr: 8.0000e-06\n",
      "Epoch 22/140\n",
      "6818/6826 [============================>.] - ETA: 0s - loss: 9.6946e-05 - tp: 68179.0000 - tn: 68179.0000 - fp: 1.0000 - fn: 1.0000 - Binary_Accuracy: 1.0000 - Precision: 1.0000 - Recall: 1.0000 - AUC: 1.0000\n",
      "Epoch 22: saving model to best_model.hdf5\n",
      "6826/6826 [==============================] - 26s 4ms/step - loss: 9.6838e-05 - tp: 68256.0000 - tn: 68256.0000 - fp: 1.0000 - fn: 1.0000 - Binary_Accuracy: 1.0000 - Precision: 1.0000 - Recall: 1.0000 - AUC: 1.0000 - val_loss: 0.6396 - val_tp: 7438.0000 - val_tn: 7438.0000 - val_fp: 147.0000 - val_fn: 147.0000 - val_Binary_Accuracy: 0.9806 - val_Precision: 0.9806 - val_Recall: 0.9806 - val_AUC: 0.9822 - lr: 8.0000e-06\n",
      "Epoch 23/140\n",
      "6821/6826 [============================>.] - ETA: 0s - loss: 7.3435e-05 - tp: 68209.0000 - tn: 68209.0000 - fp: 1.0000 - fn: 1.0000 - Binary_Accuracy: 1.0000 - Precision: 1.0000 - Recall: 1.0000 - AUC: 1.0000\n",
      "Epoch 23: saving model to best_model.hdf5\n",
      "6826/6826 [==============================] - 26s 4ms/step - loss: 7.3385e-05 - tp: 68256.0000 - tn: 68256.0000 - fp: 1.0000 - fn: 1.0000 - Binary_Accuracy: 1.0000 - Precision: 1.0000 - Recall: 1.0000 - AUC: 1.0000 - val_loss: 0.6511 - val_tp: 7440.0000 - val_tn: 7440.0000 - val_fp: 145.0000 - val_fn: 145.0000 - val_Binary_Accuracy: 0.9809 - val_Precision: 0.9809 - val_Recall: 0.9809 - val_AUC: 0.9824 - lr: 3.0000e-06\n",
      "Epoch 24/140\n",
      "6816/6826 [============================>.] - ETA: 0s - loss: 6.5664e-05 - tp: 68159.0000 - tn: 68159.0000 - fp: 1.0000 - fn: 1.0000 - Binary_Accuracy: 1.0000 - Precision: 1.0000 - Recall: 1.0000 - AUC: 1.0000\n",
      "Epoch 24: saving model to best_model.hdf5\n",
      "6826/6826 [==============================] - 27s 4ms/step - loss: 6.5571e-05 - tp: 68256.0000 - tn: 68256.0000 - fp: 1.0000 - fn: 1.0000 - Binary_Accuracy: 1.0000 - Precision: 1.0000 - Recall: 1.0000 - AUC: 1.0000 - val_loss: 0.6628 - val_tp: 7439.0000 - val_tn: 7439.0000 - val_fp: 146.0000 - val_fn: 146.0000 - val_Binary_Accuracy: 0.9808 - val_Precision: 0.9808 - val_Recall: 0.9808 - val_AUC: 0.9824 - lr: 3.0000e-06\n"
     ]
    },
    {
     "name": "stdout",
     "output_type": "stream",
     "text": [
      "Epoch 25/140\n",
      "6819/6826 [============================>.] - ETA: 0s - loss: 5.8393e-05 - tp: 68189.0000 - tn: 68189.0000 - fp: 1.0000 - fn: 1.0000 - Binary_Accuracy: 1.0000 - Precision: 1.0000 - Recall: 1.0000 - AUC: 1.0000\n",
      "Epoch 25: saving model to best_model.hdf5\n",
      "6826/6826 [==============================] - 26s 4ms/step - loss: 5.8340e-05 - tp: 68256.0000 - tn: 68256.0000 - fp: 1.0000 - fn: 1.0000 - Binary_Accuracy: 1.0000 - Precision: 1.0000 - Recall: 1.0000 - AUC: 1.0000 - val_loss: 0.6730 - val_tp: 7439.0000 - val_tn: 7439.0000 - val_fp: 146.0000 - val_fn: 146.0000 - val_Binary_Accuracy: 0.9808 - val_Precision: 0.9808 - val_Recall: 0.9808 - val_AUC: 0.9824 - lr: 3.0000e-06\n",
      "Epoch 26/140\n",
      "6825/6826 [============================>.] - ETA: 0s - loss: 5.2226e-05 - tp: 68249.0000 - tn: 68249.0000 - fp: 1.0000 - fn: 1.0000 - Binary_Accuracy: 1.0000 - Precision: 1.0000 - Recall: 1.0000 - AUC: 1.0000\n",
      "Epoch 26: saving model to best_model.hdf5\n",
      "6826/6826 [==============================] - 26s 4ms/step - loss: 5.2222e-05 - tp: 68256.0000 - tn: 68256.0000 - fp: 1.0000 - fn: 1.0000 - Binary_Accuracy: 1.0000 - Precision: 1.0000 - Recall: 1.0000 - AUC: 1.0000 - val_loss: 0.6824 - val_tp: 7439.0000 - val_tn: 7439.0000 - val_fp: 146.0000 - val_fn: 146.0000 - val_Binary_Accuracy: 0.9808 - val_Precision: 0.9808 - val_Recall: 0.9808 - val_AUC: 0.9820 - lr: 3.0000e-06\n",
      "Epoch 27/140\n",
      "6822/6826 [============================>.] - ETA: 0s - loss: 4.7182e-05 - tp: 68219.0000 - tn: 68219.0000 - fp: 1.0000 - fn: 1.0000 - Binary_Accuracy: 1.0000 - Precision: 1.0000 - Recall: 1.0000 - AUC: 1.0000\n",
      "Epoch 27: saving model to best_model.hdf5\n",
      "6826/6826 [==============================] - 26s 4ms/step - loss: 4.7157e-05 - tp: 68256.0000 - tn: 68256.0000 - fp: 1.0000 - fn: 1.0000 - Binary_Accuracy: 1.0000 - Precision: 1.0000 - Recall: 1.0000 - AUC: 1.0000 - val_loss: 0.6937 - val_tp: 7437.0000 - val_tn: 7437.0000 - val_fp: 148.0000 - val_fn: 148.0000 - val_Binary_Accuracy: 0.9805 - val_Precision: 0.9805 - val_Recall: 0.9805 - val_AUC: 0.9820 - lr: 3.0000e-06\n",
      "Epoch 28/140\n",
      "6816/6826 [============================>.] - ETA: 0s - loss: 4.1778e-05 - tp: 68159.0000 - tn: 68159.0000 - fp: 1.0000 - fn: 1.0000 - Binary_Accuracy: 1.0000 - Precision: 1.0000 - Recall: 1.0000 - AUC: 1.0000\n",
      "Epoch 28: saving model to best_model.hdf5\n",
      "6826/6826 [==============================] - 26s 4ms/step - loss: 4.1720e-05 - tp: 68256.0000 - tn: 68256.0000 - fp: 1.0000 - fn: 1.0000 - Binary_Accuracy: 1.0000 - Precision: 1.0000 - Recall: 1.0000 - AUC: 1.0000 - val_loss: 0.7058 - val_tp: 7439.0000 - val_tn: 7439.0000 - val_fp: 146.0000 - val_fn: 146.0000 - val_Binary_Accuracy: 0.9808 - val_Precision: 0.9808 - val_Recall: 0.9808 - val_AUC: 0.9820 - lr: 3.0000e-06\n",
      "Epoch 29/140\n",
      "6814/6826 [============================>.] - ETA: 0s - loss: 3.8336e-05 - tp: 68139.0000 - tn: 68139.0000 - fp: 1.0000 - fn: 1.0000 - Binary_Accuracy: 1.0000 - Precision: 1.0000 - Recall: 1.0000 - AUC: 1.0000\n",
      "Epoch 29: saving model to best_model.hdf5\n",
      "6826/6826 [==============================] - 26s 4ms/step - loss: 3.8272e-05 - tp: 68256.0000 - tn: 68256.0000 - fp: 1.0000 - fn: 1.0000 - Binary_Accuracy: 1.0000 - Precision: 1.0000 - Recall: 1.0000 - AUC: 1.0000 - val_loss: 0.7163 - val_tp: 7439.0000 - val_tn: 7439.0000 - val_fp: 146.0000 - val_fn: 146.0000 - val_Binary_Accuracy: 0.9808 - val_Precision: 0.9808 - val_Recall: 0.9808 - val_AUC: 0.9821 - lr: 3.0000e-06\n",
      "Epoch 30/140\n",
      "6818/6826 [============================>.] - ETA: 0s - loss: 3.4781e-05 - tp: 68179.0000 - tn: 68179.0000 - fp: 1.0000 - fn: 1.0000 - Binary_Accuracy: 1.0000 - Precision: 1.0000 - Recall: 1.0000 - AUC: 1.0000\n",
      "Epoch 30: saving model to best_model.hdf5\n",
      "6826/6826 [==============================] - 26s 4ms/step - loss: 3.4747e-05 - tp: 68256.0000 - tn: 68256.0000 - fp: 1.0000 - fn: 1.0000 - Binary_Accuracy: 1.0000 - Precision: 1.0000 - Recall: 1.0000 - AUC: 1.0000 - val_loss: 0.7269 - val_tp: 7439.0000 - val_tn: 7439.0000 - val_fp: 146.0000 - val_fn: 146.0000 - val_Binary_Accuracy: 0.9808 - val_Precision: 0.9808 - val_Recall: 0.9808 - val_AUC: 0.9818 - lr: 3.0000e-06\n",
      "Epoch 31/140\n",
      "6822/6826 [============================>.] - ETA: 0s - loss: 3.0443e-05 - tp: 68220.0000 - tn: 68220.0000 - fp: 0.0000e+00 - fn: 0.0000e+00 - Binary_Accuracy: 1.0000 - Precision: 1.0000 - Recall: 1.0000 - AUC: 1.0000\n",
      "Epoch 31: saving model to best_model.hdf5\n",
      "6826/6826 [==============================] - 26s 4ms/step - loss: 3.0427e-05 - tp: 68257.0000 - tn: 68257.0000 - fp: 0.0000e+00 - fn: 0.0000e+00 - Binary_Accuracy: 1.0000 - Precision: 1.0000 - Recall: 1.0000 - AUC: 1.0000 - val_loss: 0.7369 - val_tp: 7439.0000 - val_tn: 7439.0000 - val_fp: 146.0000 - val_fn: 146.0000 - val_Binary_Accuracy: 0.9808 - val_Precision: 0.9808 - val_Recall: 0.9808 - val_AUC: 0.9818 - lr: 3.0000e-06\n",
      "Epoch 32/140\n",
      "6820/6826 [============================>.] - ETA: 0s - loss: 2.7048e-05 - tp: 68200.0000 - tn: 68200.0000 - fp: 0.0000e+00 - fn: 0.0000e+00 - Binary_Accuracy: 1.0000 - Precision: 1.0000 - Recall: 1.0000 - AUC: 1.0000\n",
      "Epoch 32: saving model to best_model.hdf5\n",
      "6826/6826 [==============================] - 26s 4ms/step - loss: 2.7026e-05 - tp: 68257.0000 - tn: 68257.0000 - fp: 0.0000e+00 - fn: 0.0000e+00 - Binary_Accuracy: 1.0000 - Precision: 1.0000 - Recall: 1.0000 - AUC: 1.0000 - val_loss: 0.7455 - val_tp: 7437.0000 - val_tn: 7437.0000 - val_fp: 148.0000 - val_fn: 148.0000 - val_Binary_Accuracy: 0.9805 - val_Precision: 0.9805 - val_Recall: 0.9805 - val_AUC: 0.9815 - lr: 3.0000e-06\n",
      "Epoch 33/140\n",
      "6820/6826 [============================>.] - ETA: 0s - loss: 2.4250e-05 - tp: 68200.0000 - tn: 68200.0000 - fp: 0.0000e+00 - fn: 0.0000e+00 - Binary_Accuracy: 1.0000 - Precision: 1.0000 - Recall: 1.0000 - AUC: 1.0000\n",
      "Epoch 33: saving model to best_model.hdf5\n",
      "6826/6826 [==============================] - 27s 4ms/step - loss: 2.4230e-05 - tp: 68257.0000 - tn: 68257.0000 - fp: 0.0000e+00 - fn: 0.0000e+00 - Binary_Accuracy: 1.0000 - Precision: 1.0000 - Recall: 1.0000 - AUC: 1.0000 - val_loss: 0.7575 - val_tp: 7437.0000 - val_tn: 7437.0000 - val_fp: 148.0000 - val_fn: 148.0000 - val_Binary_Accuracy: 0.9805 - val_Precision: 0.9805 - val_Recall: 0.9805 - val_AUC: 0.9816 - lr: 3.0000e-06\n",
      "Epoch 34/140\n",
      "6824/6826 [============================>.] - ETA: 0s - loss: 2.1568e-05 - tp: 68240.0000 - tn: 68240.0000 - fp: 0.0000e+00 - fn: 0.0000e+00 - Binary_Accuracy: 1.0000 - Precision: 1.0000 - Recall: 1.0000 - AUC: 1.0000\n",
      "Epoch 34: saving model to best_model.hdf5\n",
      "6826/6826 [==============================] - 26s 4ms/step - loss: 2.1563e-05 - tp: 68257.0000 - tn: 68257.0000 - fp: 0.0000e+00 - fn: 0.0000e+00 - Binary_Accuracy: 1.0000 - Precision: 1.0000 - Recall: 1.0000 - AUC: 1.0000 - val_loss: 0.7662 - val_tp: 7437.0000 - val_tn: 7437.0000 - val_fp: 148.0000 - val_fn: 148.0000 - val_Binary_Accuracy: 0.9805 - val_Precision: 0.9805 - val_Recall: 0.9805 - val_AUC: 0.9815 - lr: 3.0000e-06\n",
      "Epoch 35/140\n",
      "6824/6826 [============================>.] - ETA: 0s - loss: 1.9475e-05 - tp: 68240.0000 - tn: 68240.0000 - fp: 0.0000e+00 - fn: 0.0000e+00 - Binary_Accuracy: 1.0000 - Precision: 1.0000 - Recall: 1.0000 - AUC: 1.0000\n",
      "Epoch 35: saving model to best_model.hdf5\n",
      "6826/6826 [==============================] - 27s 4ms/step - loss: 1.9471e-05 - tp: 68257.0000 - tn: 68257.0000 - fp: 0.0000e+00 - fn: 0.0000e+00 - Binary_Accuracy: 1.0000 - Precision: 1.0000 - Recall: 1.0000 - AUC: 1.0000 - val_loss: 0.7787 - val_tp: 7437.0000 - val_tn: 7437.0000 - val_fp: 148.0000 - val_fn: 148.0000 - val_Binary_Accuracy: 0.9805 - val_Precision: 0.9805 - val_Recall: 0.9805 - val_AUC: 0.9815 - lr: 3.0000e-06\n",
      "Epoch 36/140\n",
      "6822/6826 [============================>.] - ETA: 0s - loss: 1.7517e-05 - tp: 68220.0000 - tn: 68220.0000 - fp: 0.0000e+00 - fn: 0.0000e+00 - Binary_Accuracy: 1.0000 - Precision: 1.0000 - Recall: 1.0000 - AUC: 1.0000\n",
      "Epoch 36: saving model to best_model.hdf5\n",
      "6826/6826 [==============================] - 28s 4ms/step - loss: 1.7508e-05 - tp: 68257.0000 - tn: 68257.0000 - fp: 0.0000e+00 - fn: 0.0000e+00 - Binary_Accuracy: 1.0000 - Precision: 1.0000 - Recall: 1.0000 - AUC: 1.0000 - val_loss: 0.7911 - val_tp: 7439.0000 - val_tn: 7439.0000 - val_fp: 146.0000 - val_fn: 146.0000 - val_Binary_Accuracy: 0.9808 - val_Precision: 0.9808 - val_Recall: 0.9808 - val_AUC: 0.9816 - lr: 3.0000e-06\n"
     ]
    },
    {
     "name": "stdout",
     "output_type": "stream",
     "text": [
      "Epoch 37/140\n",
      "4627/6826 [===================>..........] - ETA: 7s - loss: 2.0207e-05 - tp: 46270.0000 - tn: 46270.0000 - fp: 0.0000e+00 - fn: 0.0000e+00 - Binary_Accuracy: 1.0000 - Precision: 1.0000 - Recall: 1.0000 - AUC: 1.0000"
     ]
    }
   ],
   "source": [
    "\n",
    "history = model.fit(\n",
    "    X_train,\n",
    "    y_train,\n",
    "    batch_size=10,\n",
    "    epochs=140,\n",
    "    # We pass some validation for\n",
    "    # monitoring validation loss and metrics\n",
    "    # at the end of each epoch\n",
    "    validation_data=(X_val, y_val),\n",
    "    shuffle=True,\n",
    "    verbose=1,\n",
    "    callbacks=callbacks\n",
    ")"
   ]
  },
  {
   "cell_type": "code",
   "execution_count": null,
   "id": "5a4bed0e",
   "metadata": {},
   "outputs": [],
   "source": [
    "# save_path = f'model/Custom_{int(time.time())}_model'\n",
    "# print(save_path)\n",
    "# model.save(save_path)"
   ]
  },
  {
   "cell_type": "code",
   "execution_count": null,
   "id": "abeb42fd",
   "metadata": {},
   "outputs": [],
   "source": [
    "# Evaluate the model on the test data using `evaluate`\n",
    "print(\"Evaluate on test data\")\n",
    "results = model.evaluate(X_test, y_test, batch_size=20)\n",
    "print(\"test loss, test acc:\", results)\n"
   ]
  },
  {
   "cell_type": "code",
   "execution_count": null,
   "id": "eae284b3",
   "metadata": {},
   "outputs": [],
   "source": [
    "# summarize history for accuracy\n",
    "print(history.history.keys())\n",
    "\n",
    "plt.plot(history.history['Binary_Accuracy'])\n",
    "plt.plot(history.history['val_Binary_Accuracy'])\n",
    "plt.title('model accuracy')\n",
    "plt.ylabel('accuracy')\n",
    "plt.xlabel('epoch')\n",
    "plt.legend(['train', 'test'], loc='upper left')\n",
    "plt.show()\n",
    "# summarize history for loss\n",
    "plt.plot(history.history['loss'])\n",
    "plt.plot(history.history['val_loss'])\n",
    "plt.title('model loss')\n",
    "plt.ylabel('loss')\n",
    "plt.xlabel('epoch')\n",
    "plt.legend(['train', 'test'], loc='upper left')\n",
    "plt.show()"
   ]
  },
  {
   "cell_type": "code",
   "execution_count": null,
   "id": "165bfd42",
   "metadata": {},
   "outputs": [],
   "source": []
  },
  {
   "cell_type": "code",
   "execution_count": null,
   "id": "726ec7c0",
   "metadata": {},
   "outputs": [],
   "source": [
    "pred = model.predict(X_test)\n",
    "pred1=pred\n",
    "pred = np.argmax(pred,axis = 1) \n",
    "y_true = np.argmax(y_test,axis = 1)"
   ]
  },
  {
   "cell_type": "code",
   "execution_count": null,
   "id": "c607c517",
   "metadata": {
    "scrolled": true
   },
   "outputs": [],
   "source": [
    "thr=9.99999821\n",
    "#CM = confusion_matrix(y_true, pred>thr)\n",
    "CM = confusion_matrix(y_true, pred)\n",
    "from mlxtend.plotting import plot_confusion_matrix\n",
    "fig, ax = plot_confusion_matrix(conf_mat=CM ,  figsize=(5, 5))\n",
    "plt.show()\n"
   ]
  },
  {
   "cell_type": "code",
   "execution_count": null,
   "id": "d270271d",
   "metadata": {},
   "outputs": [],
   "source": [
    "tn, fp, fn, tp = CM.ravel()\n",
    "def accuracy(tn, fp, fn, tp):\n",
    "    return (tp + tn) / (tp + tn + fp + fn)"
   ]
  },
  {
   "cell_type": "code",
   "execution_count": null,
   "id": "338f98f4",
   "metadata": {},
   "outputs": [],
   "source": [
    "def precision(tn, fp, fn, tp):\n",
    "    return(tp/(tp+fp))"
   ]
  },
  {
   "cell_type": "code",
   "execution_count": null,
   "id": "72e33500",
   "metadata": {},
   "outputs": [],
   "source": [
    "def recall(tn, fp, fn, tp):\n",
    "    return(tp/(tp+fn))"
   ]
  },
  {
   "cell_type": "code",
   "execution_count": null,
   "id": "d2af3a38",
   "metadata": {},
   "outputs": [],
   "source": [
    "\"Accuracy: {0}\".format(accuracy(tn, fp, fn, tp))"
   ]
  },
  {
   "cell_type": "code",
   "execution_count": null,
   "id": "af9db67f",
   "metadata": {},
   "outputs": [],
   "source": [
    "\"Precision: {0}\".format(precision(tn, fp, fn, tp))"
   ]
  },
  {
   "cell_type": "code",
   "execution_count": null,
   "id": "ea9f79ec",
   "metadata": {},
   "outputs": [],
   "source": [
    "\"Recall: {0}\".format(recall(tn, fp, fn, tp))"
   ]
  },
  {
   "cell_type": "code",
   "execution_count": null,
   "id": "d06471ec",
   "metadata": {},
   "outputs": [],
   "source": [
    "labels=np.array([i[0] for i in y_test])"
   ]
  },
  {
   "cell_type": "code",
   "execution_count": null,
   "id": "2e50e68b",
   "metadata": {},
   "outputs": [],
   "source": [
    "fp,tp,thresholds=roc_curve(labels,pred1[:,0])"
   ]
  },
  {
   "cell_type": "code",
   "execution_count": null,
   "id": "8094c318",
   "metadata": {},
   "outputs": [],
   "source": [
    "plt.plot(fp,tp)\n",
    "plt.title(\"CLASS 0\")\n",
    "plt.grid()\n",
    "\n",
    "skip=5\n",
    "for i in range(0,len(thresholds),skip):\n",
    "    plt.text(fp[i],tp[i],thresholds[i])"
   ]
  },
  {
   "cell_type": "code",
   "execution_count": null,
   "id": "2827d674",
   "metadata": {},
   "outputs": [],
   "source": [
    "fp2,tp2,thresholds2=roc_curve(labels,pred1[:,1])"
   ]
  },
  {
   "cell_type": "code",
   "execution_count": null,
   "id": "a2de5405",
   "metadata": {},
   "outputs": [],
   "source": [
    "plt.plot(fp2,tp2)\n",
    "plt.title(\"CLASS 1\")\n",
    "plt.grid()\n",
    "\n",
    "skip=5\n",
    "for i in range(0,len(thresholds2),skip):\n",
    "    plt.text(fp2[i],tp2[i],thresholds2[i])"
   ]
  },
  {
   "cell_type": "code",
   "execution_count": null,
   "id": "b14f5904",
   "metadata": {},
   "outputs": [],
   "source": [
    "X = genfromtxt('data/test/Trace2/traces_test_1000_1_1.csv', delimiter=',')\n"
   ]
  },
  {
   "cell_type": "code",
   "execution_count": null,
   "id": "7a6d1d44",
   "metadata": {},
   "outputs": [],
   "source": [
    "for i in range(np.shape(X)[0]):\n",
    "    X[i]=preprocessing.normalize([X[i]])\n"
   ]
  },
  {
   "cell_type": "code",
   "execution_count": null,
   "id": "78168944",
   "metadata": {},
   "outputs": [],
   "source": [
    "pred = model.predict(X)\n",
    "pred1=pred\n",
    "pred = np.argmax(pred,axis = 1) "
   ]
  },
  {
   "cell_type": "code",
   "execution_count": null,
   "id": "b1890c04",
   "metadata": {},
   "outputs": [],
   "source": [
    "savetxt('predictions/Train_trace1_1000_20_2_Test_trace2_1000_1.csv', pred, delimiter=',')"
   ]
  },
  {
   "cell_type": "code",
   "execution_count": null,
   "id": "2810ce12",
   "metadata": {},
   "outputs": [],
   "source": []
  }
 ],
 "metadata": {
  "kernelspec": {
   "display_name": "Python 3 (ipykernel)",
   "language": "python",
   "name": "python3"
  },
  "language_info": {
   "codemirror_mode": {
    "name": "ipython",
    "version": 3
   },
   "file_extension": ".py",
   "mimetype": "text/x-python",
   "name": "python",
   "nbconvert_exporter": "python",
   "pygments_lexer": "ipython3",
   "version": "3.9.13"
  }
 },
 "nbformat": 4,
 "nbformat_minor": 5
}
