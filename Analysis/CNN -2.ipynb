{
 "cells": [
  {
   "cell_type": "code",
   "execution_count": 1,
   "id": "e0f55b15",
   "metadata": {},
   "outputs": [
    {
     "name": "stderr",
     "output_type": "stream",
     "text": [
      "2022-10-19 21:47:15.857884: I tensorflow/stream_executor/platform/default/dso_loader.cc:49] Successfully opened dynamic library libcudart.so.10.1\n"
     ]
    }
   ],
   "source": [
    "# importing notebook containig utility functions for model training\n",
    "import sys\n",
    "sys.path.append('utilities/')\n",
    "\n",
    "from modelZoo import *\n",
    "from modelTrainingUtility import *"
   ]
  },
  {
   "cell_type": "code",
   "execution_count": 2,
   "id": "47119667",
   "metadata": {},
   "outputs": [
    {
     "name": "stdout",
     "output_type": "stream",
     "text": [
      "directory available for saving results.\n"
     ]
    }
   ],
   "source": [
    "\n",
    "# input parameters for training not used for testing required for reading the data from the disk\n",
    "input_params = {\n",
    "    \"input_path\": 'tmp/test.npz', # path to load the dataset\n",
    "\n",
    "    \"output_path\": 'models/experiment-q/model/', # path to saved model\n",
    "    \"verbose\": True,\n",
    "    \"target_byte\": 0, # byte for which ranking is to be performed\n",
    "    \"network_type\": \"cnn2\", # choices={'mlp', 'cnn', 'cnn2', 'wang'}\n",
    "    \"start_idx\": 1200,\n",
    "    \"end_idx\": 2200,\n",
    "    \"verbose\": False,\n",
    "    \"testType\": \"diffkey\", # choices={'samekey', 'diffkey'}\n",
    "}\n",
    "\n",
    "if not os.path.isdir(input_params[\"output_path\"]):\n",
    "    print('creating directory for saving results ...')\n",
    "    os.makedirs(input_params[\"output_path\"])\n",
    "else:\n",
    "    print('directory available for saving results.')"
   ]
  },
  {
   "cell_type": "code",
   "execution_count": 3,
   "id": "2073dda8",
   "metadata": {},
   "outputs": [
    {
     "name": "stdout",
     "output_type": "stream",
     "text": [
      "model file:  models/experiment-q/model/model/best_model_cnn2_dataset_PC1_CB1_TDX1_K0_U_200k_targetbyte_0.hdf5\n"
     ]
    }
   ],
   "source": [
    "# directory for saving model\n",
    "model_dir = os.path.join(input_params[\"output_path\"], 'model')\n",
    "\n",
    "# model_file_name = 'best_model_cnn2_dataset_MPEG_target1_targetbyte_{}.hdf5'.format(input_params[\"target_byte\"])\n",
    "model_file_name = 'best_model_cnn2_dataset_PC1_CB1_TDX1_K0_U_200k_targetbyte_{}.hdf5'.format(input_params[\"target_byte\"])\n",
    "model_path = os.path.join(input_params[\"output_path\"], 'model')\n",
    "mode_weights = os.path.join(model_path, model_file_name)\n",
    "print('model file: ', mode_weights)\n",
    "\n",
    "mode_weights='m2/best_model_cnn2_dataset_XMEGA_target1_targetbyte_0.hdf5'"
   ]
  },
  {
   "cell_type": "code",
   "execution_count": 4,
   "id": "558067c7",
   "metadata": {},
   "outputs": [
    {
     "name": "stdout",
     "output_type": "stream",
     "text": [
      "loading the test data ...\n",
      "processing data for key byte 0\n",
      "test data loaded successfully!\n"
     ]
    }
   ],
   "source": [
    "# Load profiling and attack data and metadata from the ASCAD database\n",
    "# val_traces, val_label, val_textin, key\n",
    "X_attack, Y_attack, plaintext_attack, key = load_test_data_2(input_params)"
   ]
  },
  {
   "cell_type": "code",
   "execution_count": null,
   "id": "2b581036",
   "metadata": {},
   "outputs": [],
   "source": []
  },
  {
   "cell_type": "code",
   "execution_count": 5,
   "id": "67fc55b7",
   "metadata": {},
   "outputs": [
    {
     "name": "stderr",
     "output_type": "stream",
     "text": [
      "2022-10-19 21:47:19.876908: I tensorflow/compiler/jit/xla_cpu_device.cc:41] Not creating XLA devices, tf_xla_enable_xla_devices not set\n",
      "2022-10-19 21:47:19.877353: I tensorflow/stream_executor/platform/default/dso_loader.cc:49] Successfully opened dynamic library libcuda.so.1\n",
      "2022-10-19 21:47:19.939615: I tensorflow/stream_executor/cuda/cuda_gpu_executor.cc:941] successful NUMA node read from SysFS had negative value (-1), but there must be at least one NUMA node, so returning NUMA node zero\n",
      "2022-10-19 21:47:19.941040: I tensorflow/core/common_runtime/gpu/gpu_device.cc:1720] Found device 0 with properties: \n",
      "pciBusID: 0000:01:00.0 name: TITAN RTX computeCapability: 7.5\n",
      "coreClock: 1.77GHz coreCount: 72 deviceMemorySize: 23.65GiB deviceMemoryBandwidth: 625.94GiB/s\n",
      "2022-10-19 21:47:19.941070: I tensorflow/stream_executor/platform/default/dso_loader.cc:49] Successfully opened dynamic library libcudart.so.10.1\n",
      "2022-10-19 21:47:19.943593: I tensorflow/stream_executor/platform/default/dso_loader.cc:49] Successfully opened dynamic library libcublas.so.10\n",
      "2022-10-19 21:47:19.943651: I tensorflow/stream_executor/platform/default/dso_loader.cc:49] Successfully opened dynamic library libcublasLt.so.10\n",
      "2022-10-19 21:47:19.945683: I tensorflow/stream_executor/platform/default/dso_loader.cc:49] Successfully opened dynamic library libcufft.so.10\n",
      "2022-10-19 21:47:19.945995: I tensorflow/stream_executor/platform/default/dso_loader.cc:49] Successfully opened dynamic library libcurand.so.10\n",
      "2022-10-19 21:47:19.948106: I tensorflow/stream_executor/platform/default/dso_loader.cc:49] Successfully opened dynamic library libcusolver.so.10\n",
      "2022-10-19 21:47:19.949266: I tensorflow/stream_executor/platform/default/dso_loader.cc:49] Successfully opened dynamic library libcusparse.so.10\n",
      "2022-10-19 21:47:19.953132: I tensorflow/stream_executor/platform/default/dso_loader.cc:49] Successfully opened dynamic library libcudnn.so.7\n",
      "2022-10-19 21:47:19.953234: I tensorflow/stream_executor/cuda/cuda_gpu_executor.cc:941] successful NUMA node read from SysFS had negative value (-1), but there must be at least one NUMA node, so returning NUMA node zero\n",
      "2022-10-19 21:47:19.954164: I tensorflow/stream_executor/cuda/cuda_gpu_executor.cc:941] successful NUMA node read from SysFS had negative value (-1), but there must be at least one NUMA node, so returning NUMA node zero\n",
      "2022-10-19 21:47:19.955022: I tensorflow/core/common_runtime/gpu/gpu_device.cc:1862] Adding visible gpu devices: 0\n",
      "2022-10-19 21:47:19.955365: I tensorflow/core/platform/cpu_feature_guard.cc:142] This TensorFlow binary is optimized with oneAPI Deep Neural Network Library (oneDNN) to use the following CPU instructions in performance-critical operations:  SSE4.1 SSE4.2 AVX AVX2 FMA\n",
      "To enable them in other operations, rebuild TensorFlow with the appropriate compiler flags.\n",
      "2022-10-19 21:47:19.955807: I tensorflow/compiler/jit/xla_gpu_device.cc:99] Not creating XLA devices, tf_xla_enable_xla_devices not set\n",
      "2022-10-19 21:47:19.955882: I tensorflow/stream_executor/cuda/cuda_gpu_executor.cc:941] successful NUMA node read from SysFS had negative value (-1), but there must be at least one NUMA node, so returning NUMA node zero\n",
      "2022-10-19 21:47:19.956629: I tensorflow/core/common_runtime/gpu/gpu_device.cc:1720] Found device 0 with properties: \n",
      "pciBusID: 0000:01:00.0 name: TITAN RTX computeCapability: 7.5\n",
      "coreClock: 1.77GHz coreCount: 72 deviceMemorySize: 23.65GiB deviceMemoryBandwidth: 625.94GiB/s\n",
      "2022-10-19 21:47:19.956645: I tensorflow/stream_executor/platform/default/dso_loader.cc:49] Successfully opened dynamic library libcudart.so.10.1\n",
      "2022-10-19 21:47:19.956659: I tensorflow/stream_executor/platform/default/dso_loader.cc:49] Successfully opened dynamic library libcublas.so.10\n",
      "2022-10-19 21:47:19.956671: I tensorflow/stream_executor/platform/default/dso_loader.cc:49] Successfully opened dynamic library libcublasLt.so.10\n",
      "2022-10-19 21:47:19.956683: I tensorflow/stream_executor/platform/default/dso_loader.cc:49] Successfully opened dynamic library libcufft.so.10\n",
      "2022-10-19 21:47:19.956694: I tensorflow/stream_executor/platform/default/dso_loader.cc:49] Successfully opened dynamic library libcurand.so.10\n",
      "2022-10-19 21:47:19.956705: I tensorflow/stream_executor/platform/default/dso_loader.cc:49] Successfully opened dynamic library libcusolver.so.10\n",
      "2022-10-19 21:47:19.956718: I tensorflow/stream_executor/platform/default/dso_loader.cc:49] Successfully opened dynamic library libcusparse.so.10\n",
      "2022-10-19 21:47:19.956730: I tensorflow/stream_executor/platform/default/dso_loader.cc:49] Successfully opened dynamic library libcudnn.so.7\n",
      "2022-10-19 21:47:19.956776: I tensorflow/stream_executor/cuda/cuda_gpu_executor.cc:941] successful NUMA node read from SysFS had negative value (-1), but there must be at least one NUMA node, so returning NUMA node zero\n",
      "2022-10-19 21:47:19.957546: I tensorflow/stream_executor/cuda/cuda_gpu_executor.cc:941] successful NUMA node read from SysFS had negative value (-1), but there must be at least one NUMA node, so returning NUMA node zero\n",
      "2022-10-19 21:47:19.958277: I tensorflow/core/common_runtime/gpu/gpu_device.cc:1862] Adding visible gpu devices: 0\n",
      "2022-10-19 21:47:19.958301: I tensorflow/stream_executor/platform/default/dso_loader.cc:49] Successfully opened dynamic library libcudart.so.10.1\n",
      "2022-10-19 21:47:20.400006: I tensorflow/core/common_runtime/gpu/gpu_device.cc:1261] Device interconnect StreamExecutor with strength 1 edge matrix:\n",
      "2022-10-19 21:47:20.400026: I tensorflow/core/common_runtime/gpu/gpu_device.cc:1267]      0 \n",
      "2022-10-19 21:47:20.400030: I tensorflow/core/common_runtime/gpu/gpu_device.cc:1280] 0:   N \n",
      "2022-10-19 21:47:20.400153: I tensorflow/stream_executor/cuda/cuda_gpu_executor.cc:941] successful NUMA node read from SysFS had negative value (-1), but there must be at least one NUMA node, so returning NUMA node zero\n",
      "2022-10-19 21:47:20.400614: I tensorflow/stream_executor/cuda/cuda_gpu_executor.cc:941] successful NUMA node read from SysFS had negative value (-1), but there must be at least one NUMA node, so returning NUMA node zero\n",
      "2022-10-19 21:47:20.401044: I tensorflow/stream_executor/cuda/cuda_gpu_executor.cc:941] successful NUMA node read from SysFS had negative value (-1), but there must be at least one NUMA node, so returning NUMA node zero\n",
      "2022-10-19 21:47:20.401463: I tensorflow/core/common_runtime/gpu/gpu_device.cc:1406] Created TensorFlow device (/job:localhost/replica:0/task:0/device:GPU:0 with 22454 MB memory) -> physical GPU (device: 0, name: TITAN RTX, pci bus id: 0000:01:00.0, compute capability: 7.5)\n"
     ]
    },
    {
     "name": "stdout",
     "output_type": "stream",
     "text": [
      "loading weights...\n",
      "weights loaded successfully!\n"
     ]
    }
   ],
   "source": [
    "# Load model\n",
    "start_idx, end_idx = input_params[\"start_idx\"], input_params[\"end_idx\"]\n",
    "input_shape = (end_idx-start_idx, 1)\n",
    "K.clear_session()\n",
    "\n",
    "model = cnn_best2(input_shape)\n",
    "\n",
    "print('loading weights...')\n",
    "model.load_weights(mode_weights)\n",
    "print('weights loaded successfully!')"
   ]
  },
  {
   "cell_type": "code",
   "execution_count": 6,
   "id": "8193a42c",
   "metadata": {},
   "outputs": [
    {
     "name": "stdout",
     "output_type": "stream",
     "text": [
      "WARNING:tensorflow:AutoGraph could not transform <function Model.make_test_function.<locals>.test_function at 0x7f89c8128830> and will run it as-is.\n",
      "Please report this to the TensorFlow team. When filing the bug, set the verbosity to 10 (on Linux, `export AUTOGRAPH_VERBOSITY=10`) and attach the full output.\n",
      "Cause: 'arguments' object has no attribute 'posonlyargs'\n",
      "To silence this warning, decorate the function with @tf.autograph.experimental.do_not_convert\n",
      "WARNING: AutoGraph could not transform <function Model.make_test_function.<locals>.test_function at 0x7f89c8128830> and will run it as-is.\n",
      "Please report this to the TensorFlow team. When filing the bug, set the verbosity to 10 (on Linux, `export AUTOGRAPH_VERBOSITY=10`) and attach the full output.\n",
      "Cause: 'arguments' object has no attribute 'posonlyargs'\n",
      "To silence this warning, decorate the function with @tf.autograph.experimental.do_not_convert\n"
     ]
    },
    {
     "name": "stderr",
     "output_type": "stream",
     "text": [
      "2022-10-19 21:47:20.749659: I tensorflow/compiler/mlir/mlir_graph_optimization_pass.cc:116] None of the MLIR optimization passes are enabled (registered 2)\n",
      "2022-10-19 21:47:20.750257: I tensorflow/core/platform/profile_utils/cpu_utils.cc:112] CPU Frequency: 3600000000 Hz\n",
      "2022-10-19 21:47:20.906679: I tensorflow/stream_executor/platform/default/dso_loader.cc:49] Successfully opened dynamic library libcublas.so.10\n",
      "2022-10-19 21:47:21.022217: I tensorflow/stream_executor/platform/default/dso_loader.cc:49] Successfully opened dynamic library libcudnn.so.7\n",
      "2022-10-19 21:47:21.581980: W tensorflow/stream_executor/gpu/asm_compiler.cc:63] Running ptxas --version returned 256\n",
      "2022-10-19 21:47:21.625774: W tensorflow/stream_executor/gpu/redzone_allocator.cc:314] Internal: ptxas exited with non-zero error code 256, output: \n",
      "Relying on driver to perform ptx compilation. \n",
      "Modify $PATH to customize ptxas location.\n",
      "This message will be only logged once.\n"
     ]
    },
    {
     "name": "stdout",
     "output_type": "stream",
     "text": [
      "test accuracy is: 0.003500\n"
     ]
    }
   ],
   "source": [
    "# run the accuracy test\n",
    "score, accuracy = model.evaluate(X_attack, Y_attack, verbose=input_params[\"verbose\"])\n",
    "print('test accuracy is: {:f}'.format(accuracy))"
   ]
  },
  {
   "cell_type": "code",
   "execution_count": 7,
   "id": "3fb8d571",
   "metadata": {},
   "outputs": [
    {
     "name": "stdout",
     "output_type": "stream",
     "text": [
      "start computing rank value...\n",
      "# This is a CNN: reshape the data\n",
      "WARNING:tensorflow:AutoGraph could not transform <function Model.make_predict_function.<locals>.predict_function at 0x7f89c01beb90> and will run it as-is.\n",
      "Please report this to the TensorFlow team. When filing the bug, set the verbosity to 10 (on Linux, `export AUTOGRAPH_VERBOSITY=10`) and attach the full output.\n",
      "Cause: 'arguments' object has no attribute 'posonlyargs'\n",
      "To silence this warning, decorate the function with @tf.autograph.experimental.do_not_convert\n",
      "WARNING: AutoGraph could not transform <function Model.make_predict_function.<locals>.predict_function at 0x7f89c01beb90> and will run it as-is.\n",
      "Please report this to the TensorFlow team. When filing the bug, set the verbosity to 10 (on Linux, `export AUTOGRAPH_VERBOSITY=10`) and attach the full output.\n",
      "Cause: 'arguments' object has no attribute 'posonlyargs'\n",
      "To silence this warning, decorate the function with @tf.autograph.experimental.do_not_convert\n"
     ]
    }
   ],
   "source": [
    "# We test the rank over traces of the Attack dataset, with a step of 10 traces\n",
    "print('start computing rank value...')\n",
    "min_trace_idx = 0\n",
    "max_trace_idx = 2000\n",
    "rank_step = 1\n",
    "target_byte = input_params[\"target_byte\"]\n",
    "ranks = full_ranks(model, X_attack, key, plaintext_attack, min_trace_idx, max_trace_idx, target_byte, rank_step)\n"
   ]
  },
  {
   "cell_type": "code",
   "execution_count": 8,
   "id": "140bfee9",
   "metadata": {},
   "outputs": [],
   "source": [
    "\n",
    "# We plot the results\n",
    "# f_ranks[i] = [t, real_key_rank]\n",
    "x = [ranks[i][0] for i in range(0, ranks.shape[0])]\n",
    "y = [ranks[i][1] for i in range(0, ranks.shape[0])]"
   ]
  },
  {
   "cell_type": "code",
   "execution_count": 9,
   "id": "e229b9fc",
   "metadata": {},
   "outputs": [
    {
     "name": "stdout",
     "output_type": "stream",
     "text": [
      "figure save to file: models/experiment-q/model/xmega-no-opt_rank_performance_byte_0_diffkey.png\n"
     ]
    }
   ],
   "source": [
    "testType = input_params[\"testType\"]\n",
    "fig_save_name =  os.path.join(input_params[\"output_path\"], 'xmega-no-opt' + '_rank_performance_byte_{}_{}.png'.format(target_byte, testType))\n",
    "print('figure save to file: {}'.format(fig_save_name))\n",
    "model_file_name = os.path.basename(mode_weights).split('.')[0]"
   ]
  },
  {
   "cell_type": "code",
   "execution_count": 10,
   "id": "d1a12551",
   "metadata": {},
   "outputs": [
    {
     "data": {
      "image/png": "[encoded data removed]",
      "text/plain": [
       "<Figure size 640x480 with 1 Axes>"
      ]
     },
     "metadata": {},
     "output_type": "display_data"
    }
   ],
   "source": [
    "plot_figure(x, y, model_file_name, 'xmega-no-opt', fig_save_name, testType)"
   ]
  },
  {
   "cell_type": "code",
   "execution_count": 11,
   "id": "abac2220",
   "metadata": {},
   "outputs": [],
   "source": [
    "import os\n",
    "os.remove(\"tmp/test.npz\")"
   ]
  },
  {
   "cell_type": "code",
   "execution_count": null,
   "id": "493283bd",
   "metadata": {},
   "outputs": [],
   "source": []
  }
 ],
 "metadata": {
  "kernelspec": {
   "display_name": "Python 3 (ipykernel)",
   "language": "python",
   "name": "python3"
  },
  "language_info": {
   "codemirror_mode": {
    "name": "ipython",
    "version": 3
   },
   "file_extension": ".py",
   "mimetype": "text/x-python",
   "name": "python",
   "nbconvert_exporter": "python",
   "pygments_lexer": "ipython3",
   "version": "3.7.13"
  }
 },
 "nbformat": 4,
 "nbformat_minor": 5
}
