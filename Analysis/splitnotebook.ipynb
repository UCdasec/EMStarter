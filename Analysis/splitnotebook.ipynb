{
 "cells": [
  {
   "cell_type": "code",
   "execution_count": 1,
   "id": "f1e4b9e6",
   "metadata": {},
   "outputs": [],
   "source": [
    "import os, sys\n",
    "from numpy import load"
   ]
  },
  {
   "cell_type": "code",
   "execution_count": 2,
   "id": "c0312316",
   "metadata": {},
   "outputs": [],
   "source": [
    "\n",
    "data = load('/home/mabon/mabon/old/New_analysis/STM32F/TARGET_2/CWP/trace_plaintext_key.npz')\n",
    "lst = data.files"
   ]
  },
  {
   "cell_type": "code",
   "execution_count": 3,
   "id": "5147816f",
   "metadata": {},
   "outputs": [],
   "source": [
    "for item in lst:\n",
    "    power_traces, plain_text, key,true_key = data['power_trace'], data['plain_text'], data['key'],data['true_key']\n"
   ]
  },
  {
   "cell_type": "code",
   "execution_count": 4,
   "id": "67ffc280",
   "metadata": {},
   "outputs": [],
   "source": [
    "t=power_traces[0:18000]\n",
    "t2=plain_text[0:18000]\n",
    "t3=key[0:18000]"
   ]
  },
  {
   "cell_type": "code",
   "execution_count": 5,
   "id": "9b8d607f",
   "metadata": {},
   "outputs": [
    {
     "name": "stdout",
     "output_type": "stream",
     "text": [
      "shape of power trace (18000, 5000)\n",
      "shape of plain text (18000, 16)\n",
      "shape of key (16,)\n"
     ]
    }
   ],
   "source": [
    "\n",
    "## save the results into npz file\n",
    "import numpy as np\n",
    "import os\n",
    "\n",
    "output_path = 'tmp/'\n",
    "os.makedirs(output_path,exist_ok=True)\n",
    "\n",
    "np.savez(os.path.join(output_path,'train.npz'),power_trace=t,plain_text=t2,key=t3)\n",
    "print(f\"shape of power trace {np.array(t).shape}\")\n",
    "print(f\"shape of plain text {np.array(t2).shape}\")\n",
    "print(f\"shape of key {np.array(t3).shape}\")\n"
   ]
  },
  {
   "cell_type": "code",
   "execution_count": 6,
   "id": "dbd80230",
   "metadata": {},
   "outputs": [
    {
     "name": "stdout",
     "output_type": "stream",
     "text": [
      "shape of power trace (2000, 5000)\n",
      "shape of plain text (2000, 16)\n",
      "shape of key (16,)\n"
     ]
    }
   ],
   "source": [
    "t=power_traces[18000:20000]\n",
    "t2=plain_text[18000:20000]\n",
    "## save the results into npz file\n",
    "import numpy as np\n",
    "import os\n",
    "\n",
    "output_path = 'tmp/'\n",
    "os.makedirs(output_path,exist_ok=True)\n",
    "\n",
    "np.savez(os.path.join(output_path,'test.npz'),power_trace=t,plain_text=t2,key=t3)\n",
    "print(f\"shape of power trace {np.array(t).shape}\")\n",
    "print(f\"shape of plain text {np.array(t2).shape}\")\n",
    "print(f\"shape of key {np.array(t3).shape}\")\n"
   ]
  },
  {
   "cell_type": "code",
   "execution_count": null,
   "id": "fe242201",
   "metadata": {},
   "outputs": [],
   "source": []
  },
  {
   "cell_type": "code",
   "execution_count": null,
   "id": "24f5ccef",
   "metadata": {},
   "outputs": [],
   "source": []
  }
 ],
 "metadata": {
  "kernelspec": {
   "display_name": "Python [conda env:tensorflow] *",
   "language": "python",
   "name": "conda-env-tensorflow-py"
  },
  "language_info": {
   "codemirror_mode": {
    "name": "ipython",
    "version": 3
   },
   "file_extension": ".py",
   "mimetype": "text/x-python",
   "name": "python",
   "nbconvert_exporter": "python",
   "pygments_lexer": "ipython3",
   "version": "3.7.13"
  }
 },
 "nbformat": 4,
 "nbformat_minor": 5
}
